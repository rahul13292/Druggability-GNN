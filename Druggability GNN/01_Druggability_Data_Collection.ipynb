{
  "nbformat": 4,
  "nbformat_minor": 0,
  "metadata": {
    "colab": {
      "provenance": []
    },
    "kernelspec": {
      "name": "python3",
      "display_name": "Python 3"
    },
    "widgets": {
      "application/vnd.jupyter.widget-state+json": {
        "8ee9500fac7e43e6afa9a8cc0b133eea": {
          "model_module": "@jupyter-widgets/controls",
          "model_name": "HBoxModel",
          "state": {
            "_view_name": "HBoxView",
            "_dom_classes": [],
            "_model_name": "HBoxModel",
            "_view_module": "@jupyter-widgets/controls",
            "_model_module_version": "1.5.0",
            "_view_count": null,
            "_view_module_version": "1.5.0",
            "box_style": "",
            "layout": "IPY_MODEL_b9ae51413f29477f82ab0feeb0f8fd52",
            "_model_module": "@jupyter-widgets/controls",
            "children": [
              "IPY_MODEL_5a152a9ae14d4a8da37d5a86477d73a0",
              "IPY_MODEL_b67f615fae744d16879223a033fd0204"
            ]
          },
          "model_module_version": "1.5.0"
        },
        "b9ae51413f29477f82ab0feeb0f8fd52": {
          "model_module": "@jupyter-widgets/base",
          "model_name": "LayoutModel",
          "state": {
            "_view_name": "LayoutView",
            "grid_template_rows": null,
            "right": null,
            "justify_content": null,
            "_view_module": "@jupyter-widgets/base",
            "overflow": null,
            "_model_module_version": "1.2.0",
            "_view_count": null,
            "flex_flow": null,
            "width": null,
            "min_width": null,
            "border": null,
            "align_items": null,
            "bottom": null,
            "_model_module": "@jupyter-widgets/base",
            "top": null,
            "grid_column": null,
            "overflow_y": null,
            "overflow_x": null,
            "grid_auto_flow": null,
            "grid_area": null,
            "grid_template_columns": null,
            "flex": null,
            "_model_name": "LayoutModel",
            "justify_items": null,
            "grid_row": null,
            "max_height": null,
            "align_content": null,
            "visibility": null,
            "align_self": null,
            "height": null,
            "min_height": null,
            "padding": null,
            "grid_auto_rows": null,
            "grid_gap": null,
            "max_width": null,
            "order": null,
            "_view_module_version": "1.2.0",
            "grid_template_areas": null,
            "object_position": null,
            "object_fit": null,
            "grid_auto_columns": null,
            "margin": null,
            "display": null,
            "left": null
          },
          "model_module_version": "1.2.0"
        },
        "5a152a9ae14d4a8da37d5a86477d73a0": {
          "model_module": "@jupyter-widgets/controls",
          "model_name": "FloatProgressModel",
          "state": {
            "_view_name": "ProgressView",
            "style": "IPY_MODEL_92c9f5da646943628e227b3834d4845c",
            "_dom_classes": [],
            "description": "100%",
            "_model_name": "FloatProgressModel",
            "bar_style": "success",
            "max": 26910,
            "_view_module": "@jupyter-widgets/controls",
            "_model_module_version": "1.5.0",
            "value": 26910,
            "_view_count": null,
            "_view_module_version": "1.5.0",
            "orientation": "horizontal",
            "min": 0,
            "description_tooltip": null,
            "_model_module": "@jupyter-widgets/controls",
            "layout": "IPY_MODEL_daccc23bfa8b49a39d574e6fd62ee335"
          },
          "model_module_version": "1.5.0"
        },
        "b67f615fae744d16879223a033fd0204": {
          "model_module": "@jupyter-widgets/controls",
          "model_name": "HTMLModel",
          "state": {
            "_view_name": "HTMLView",
            "style": "IPY_MODEL_6b133e79f323484588b10a9a89d52f4f",
            "_dom_classes": [],
            "description": "",
            "_model_name": "HTMLModel",
            "placeholder": "​",
            "_view_module": "@jupyter-widgets/controls",
            "_model_module_version": "1.5.0",
            "value": " 26910/26910 [10:11&lt;00:00, 44.02it/s]",
            "_view_count": null,
            "_view_module_version": "1.5.0",
            "description_tooltip": null,
            "_model_module": "@jupyter-widgets/controls",
            "layout": "IPY_MODEL_6def997db4324f52a80998a1427b0563"
          },
          "model_module_version": "1.5.0"
        },
        "92c9f5da646943628e227b3834d4845c": {
          "model_module": "@jupyter-widgets/controls",
          "model_name": "ProgressStyleModel",
          "state": {
            "_view_name": "StyleView",
            "_model_name": "ProgressStyleModel",
            "description_width": "initial",
            "_view_module": "@jupyter-widgets/base",
            "_model_module_version": "1.5.0",
            "_view_count": null,
            "_view_module_version": "1.2.0",
            "bar_color": null,
            "_model_module": "@jupyter-widgets/controls"
          },
          "model_module_version": "1.5.0"
        },
        "daccc23bfa8b49a39d574e6fd62ee335": {
          "model_module": "@jupyter-widgets/base",
          "model_name": "LayoutModel",
          "state": {
            "_view_name": "LayoutView",
            "grid_template_rows": null,
            "right": null,
            "justify_content": null,
            "_view_module": "@jupyter-widgets/base",
            "overflow": null,
            "_model_module_version": "1.2.0",
            "_view_count": null,
            "flex_flow": null,
            "width": null,
            "min_width": null,
            "border": null,
            "align_items": null,
            "bottom": null,
            "_model_module": "@jupyter-widgets/base",
            "top": null,
            "grid_column": null,
            "overflow_y": null,
            "overflow_x": null,
            "grid_auto_flow": null,
            "grid_area": null,
            "grid_template_columns": null,
            "flex": null,
            "_model_name": "LayoutModel",
            "justify_items": null,
            "grid_row": null,
            "max_height": null,
            "align_content": null,
            "visibility": null,
            "align_self": null,
            "height": null,
            "min_height": null,
            "padding": null,
            "grid_auto_rows": null,
            "grid_gap": null,
            "max_width": null,
            "order": null,
            "_view_module_version": "1.2.0",
            "grid_template_areas": null,
            "object_position": null,
            "object_fit": null,
            "grid_auto_columns": null,
            "margin": null,
            "display": null,
            "left": null
          },
          "model_module_version": "1.2.0"
        },
        "6b133e79f323484588b10a9a89d52f4f": {
          "model_module": "@jupyter-widgets/controls",
          "model_name": "DescriptionStyleModel",
          "state": {
            "_view_name": "StyleView",
            "_model_name": "DescriptionStyleModel",
            "description_width": "",
            "_view_module": "@jupyter-widgets/base",
            "_model_module_version": "1.5.0",
            "_view_count": null,
            "_view_module_version": "1.2.0",
            "_model_module": "@jupyter-widgets/controls"
          },
          "model_module_version": "1.5.0"
        },
        "6def997db4324f52a80998a1427b0563": {
          "model_module": "@jupyter-widgets/base",
          "model_name": "LayoutModel",
          "state": {
            "_view_name": "LayoutView",
            "grid_template_rows": null,
            "right": null,
            "justify_content": null,
            "_view_module": "@jupyter-widgets/base",
            "overflow": null,
            "_model_module_version": "1.2.0",
            "_view_count": null,
            "flex_flow": null,
            "width": null,
            "min_width": null,
            "border": null,
            "align_items": null,
            "bottom": null,
            "_model_module": "@jupyter-widgets/base",
            "top": null,
            "grid_column": null,
            "overflow_y": null,
            "overflow_x": null,
            "grid_auto_flow": null,
            "grid_area": null,
            "grid_template_columns": null,
            "flex": null,
            "_model_name": "LayoutModel",
            "justify_items": null,
            "grid_row": null,
            "max_height": null,
            "align_content": null,
            "visibility": null,
            "align_self": null,
            "height": null,
            "min_height": null,
            "padding": null,
            "grid_auto_rows": null,
            "grid_gap": null,
            "max_width": null,
            "order": null,
            "_view_module_version": "1.2.0",
            "grid_template_areas": null,
            "object_position": null,
            "object_fit": null,
            "grid_auto_columns": null,
            "margin": null,
            "display": null,
            "left": null
          },
          "model_module_version": "1.2.0"
        }
      }
    }
  },
  "cells": [
    {
      "cell_type": "code",
      "metadata": {
        "id": "36JmzTvGsjIW",
        "outputId": "0d018801-f121-4982-a97a-2ffb090b7573",
        "colab": {
          "base_uri": "https://localhost:8080/"
        }
      },
      "source": [
        "!git clone https://github.com/Nanotekton/drugability"
      ],
      "execution_count": null,
      "outputs": [
        {
          "output_type": "stream",
          "text": [
            "Cloning into 'drugability'...\n",
            "remote: Enumerating objects: 105, done.\u001b[K\n",
            "remote: Counting objects: 100% (105/105), done.\u001b[K\n",
            "remote: Compressing objects: 100% (78/78), done.\u001b[K\n",
            "remote: Total 105 (delta 43), reused 79 (delta 24), pack-reused 0\u001b[K\n",
            "Receiving objects: 100% (105/105), 2.51 MiB | 2.05 MiB/s, done.\n",
            "Resolving deltas: 100% (43/43), done.\n"
          ],
          "name": "stdout"
        }
      ]
    },
    {
      "cell_type": "code",
      "metadata": {
        "id": "20IBjsQrsj5E",
        "outputId": "9392c5b7-0769-4c58-a3c5-896d87d1285a",
        "colab": {
          "base_uri": "https://localhost:8080/"
        }
      },
      "source": [
        "%cd drugability/"
      ],
      "execution_count": null,
      "outputs": [
        {
          "output_type": "stream",
          "text": [
            "/content/drugability\n"
          ],
          "name": "stdout"
        }
      ]
    },
    {
      "cell_type": "code",
      "metadata": {
        "id": "r4Hjg-v9Vq40"
      },
      "source": [
        "import pandas as pd"
      ],
      "execution_count": null,
      "outputs": []
    },
    {
      "cell_type": "code",
      "metadata": {
        "id": "NZ7x86Y2sscD"
      },
      "source": [
        "drugs_1 = pd.read_csv(\"data/drugs_approved.smiles\",names=[\"SMILES\"])\n",
        "drugs_2 = pd.read_csv(\"data/zinc15_world_drugs_clean.smiles\",names=[\"SMILES\"])\n",
        "drugs_3 = pd.read_csv(\"data/clintox_cleaned.csv\")\n",
        "drugs_4 = pd.read_csv(\"data/tox21.csv\")"
      ],
      "execution_count": null,
      "outputs": []
    },
    {
      "cell_type": "code",
      "metadata": {
        "id": "GHy5GhCCswHT",
        "outputId": "046326e7-e278-444e-8854-0ef69ba031fc",
        "colab": {
          "base_uri": "https://localhost:8080/"
        }
      },
      "source": [
        "print(len(drugs_1),len(drugs_2),len(drugs_3),len(drugs_4))"
      ],
      "execution_count": null,
      "outputs": [
        {
          "output_type": "stream",
          "text": [
            "1777 2363 1484 7831\n"
          ],
          "name": "stdout"
        }
      ]
    },
    {
      "cell_type": "code",
      "metadata": {
        "id": "TxihEGwPuHVI"
      },
      "source": [
        "drugs_1['smiles'] = drugs_1['SMILES']\n",
        "drugs_2['smiles'] = drugs_2['SMILES']"
      ],
      "execution_count": null,
      "outputs": []
    },
    {
      "cell_type": "code",
      "metadata": {
        "id": "RLS0ej3Xt9RJ",
        "outputId": "e60ca7fd-451a-44ea-c26f-42bc14e7356a",
        "colab": {
          "base_uri": "https://localhost:8080/"
        }
      },
      "source": [
        "gods_plan = pd.concat([drugs_1,drugs_2,drugs_3,drugs_4])\n",
        "print(gods_plan)\n",
        "drugs = gods_plan['smiles']"
      ],
      "execution_count": null,
      "outputs": [
        {
          "output_type": "stream",
          "text": [
            "                                                 SMILES  ...   mol_id\n",
            "0     CCC(C)CCCCC(=O)NC(CCN)C(=O)NC(C(C)O)C(=O)NC(CC...  ...      NaN\n",
            "1     CCC(C)CCCC(=O)N[C@@H](CCN)C(=O)N[C@H](C(=O)N[C...  ...      NaN\n",
            "2     COC1=CC(C[C@@H]2C3=CC(OC)=C(OC)C=C3CC[N+]2(C)C...  ...      NaN\n",
            "3     OC[C@H]1O[C@@H]([C@H](O)[C@@H]1OP(O)(=O)O[C@](...  ...      NaN\n",
            "4     [H]O[Co+]N1\\C2=C(C)/C3=N/C(=C\\C4=N\\C(=C(C)/C5=...  ...      NaN\n",
            "...                                                 ...  ...      ...\n",
            "7826                                                NaN  ...  TOX2725\n",
            "7827                                                NaN  ...  TOX2370\n",
            "7828                                                NaN  ...  TOX2371\n",
            "7829                                                NaN  ...  TOX2377\n",
            "7830                                                NaN  ...  TOX2724\n",
            "\n",
            "[13455 rows x 17 columns]\n"
          ],
          "name": "stdout"
        }
      ]
    },
    {
      "cell_type": "code",
      "metadata": {
        "id": "sxk9z-ztg9uS",
        "outputId": "3a37ff58-d1be-4297-a840-2f568ee257bb",
        "colab": {
          "base_uri": "https://localhost:8080/"
        }
      },
      "source": [
        "!wget http://zinc12.docking.org/db/buynoncom/tcmnp/tcmnp_p0.smi.gz\n",
        "!gunzip tcmnp_p0.smi.gz"
      ],
      "execution_count": null,
      "outputs": [
        {
          "output_type": "stream",
          "text": [
            "--2020-11-13 07:01:19--  http://zinc12.docking.org/db/buynoncom/tcmnp/tcmnp_p0.smi.gz\n",
            "Resolving zinc12.docking.org (zinc12.docking.org)... 169.230.26.43\n",
            "Connecting to zinc12.docking.org (zinc12.docking.org)|169.230.26.43|:80... connected.\n",
            "HTTP request sent, awaiting response... 200 OK\n",
            "Length: 55538 (54K) [application/x-gzip]\n",
            "Saving to: ‘tcmnp_p0.smi.gz’\n",
            "\n",
            "tcmnp_p0.smi.gz     100%[===================>]  54.24K   128KB/s    in 0.4s    \n",
            "\n",
            "2020-11-13 07:01:20 (128 KB/s) - ‘tcmnp_p0.smi.gz’ saved [55538/55538]\n",
            "\n"
          ],
          "name": "stdout"
        }
      ]
    },
    {
      "cell_type": "code",
      "metadata": {
        "id": "X5ieNZ5JjPjK"
      },
      "source": [
        "fname = 'tcmnp_p0.smi'\n",
        "\n",
        "smiles = []\n",
        "\n",
        "with open(fname) as f:\n",
        "  smiles.append(\"smiles\")\n",
        "  for line in f.readlines():\n",
        "    smiles.append(\"\\n\")\n",
        "    smh = line.split(\" ZIN\")[0]\n",
        "    if smh == '':\n",
        "      smiles.pop(0)\n",
        "      continue\n",
        "    smiles.append(smh)\n",
        "\n",
        "with open(\"tcm_cleaned.csv\",'w') as f:\n",
        "  f.writelines(smiles)"
      ],
      "execution_count": null,
      "outputs": []
    },
    {
      "cell_type": "code",
      "metadata": {
        "id": "NoRL_l34kAtF"
      },
      "source": [
        "drugs_5 = pd.read_csv('tcm_cleaned.csv')"
      ],
      "execution_count": null,
      "outputs": []
    },
    {
      "cell_type": "code",
      "metadata": {
        "id": "ky7-BxZ4vGVc"
      },
      "source": [
        "nondrugs_1 = pd.read_csv(\"data/zinc15_nondrugs_sample.smiles\",names=[\"smiles\"])\n",
        "nondrugs_2 = pd.read_csv(\"data/zinc15_nondrugs_sample2.smiles\",names=[\"smiles\"])"
      ],
      "execution_count": null,
      "outputs": []
    },
    {
      "cell_type": "code",
      "metadata": {
        "id": "rCh7cDN2VuNL",
        "outputId": "f74e055a-aadb-4ad1-d1c4-03a99669d1e3",
        "colab": {
          "base_uri": "https://localhost:8080/"
        }
      },
      "source": [
        "!wget http://bioinformatics.charite.de/supertoxic/download/stox.csv"
      ],
      "execution_count": null,
      "outputs": [
        {
          "output_type": "stream",
          "text": [
            "--2020-11-13 07:01:20--  http://bioinformatics.charite.de/supertoxic/download/stox.csv\n",
            "Resolving bioinformatics.charite.de (bioinformatics.charite.de)... 141.42.207.23\n",
            "Connecting to bioinformatics.charite.de (bioinformatics.charite.de)|141.42.207.23|:80... connected.\n",
            "HTTP request sent, awaiting response... 200 OK\n",
            "Length: 49429664 (47M) [text/csv]\n",
            "Saving to: ‘stox.csv’\n",
            "\n",
            "stox.csv            100%[===================>]  47.14M  8.60MB/s    in 6.5s    \n",
            "\n",
            "2020-11-13 07:01:28 (7.22 MB/s) - ‘stox.csv’ saved [49429664/49429664]\n",
            "\n"
          ],
          "name": "stdout"
        }
      ]
    },
    {
      "cell_type": "code",
      "metadata": {
        "id": "8lF5jsYIg7XH",
        "outputId": "827270ef-536f-400e-be9d-41c0684b7b78",
        "colab": {
          "base_uri": "https://localhost:8080/"
        }
      },
      "source": [
        "fname = 'stox.csv'\n",
        "\n",
        "smiles = []\n",
        "\n",
        "with open(fname) as f:\n",
        "\tsmiles.append(\"smiles\")\n",
        "\tfor line in f.readlines():\n",
        "\t\tsmiles.append(\"\\n\")\n",
        "\t\tsmh = line.split(\"#nlog50\")[0]\n",
        "\t\tsmh = smh.split(\"#LD50\")[0]\n",
        "\t\tsmh = smh.split(\";\")[0]\n",
        "\t\tif smh == '':\n",
        "\t\t\tsmiles.pop(-1)\n",
        "\t\t\tcontinue\n",
        "\t\tsmiles.append(smh)\n",
        "\t\t#smiles.append(line.split(\"#nlog50\")[0])\n",
        "\n",
        "with open('stox_cleaned.csv','w') as f:\n",
        "\tf.writelines(smiles)\n",
        "\n",
        "print(\"Wrote %s no. of SMILES\"%str(len(smiles)))"
      ],
      "execution_count": null,
      "outputs": [
        {
          "output_type": "stream",
          "text": [
            "Wrote 117877 no. of SMILES\n"
          ],
          "name": "stdout"
        }
      ]
    },
    {
      "cell_type": "code",
      "metadata": {
        "id": "NQit2YoQuoOy"
      },
      "source": [
        "nondrugs_3 = pd.read_csv('stox_cleaned.csv')"
      ],
      "execution_count": null,
      "outputs": []
    },
    {
      "cell_type": "code",
      "metadata": {
        "id": "FoPDrHo2vKCr",
        "outputId": "3d6e45c5-4545-4e13-e8b5-5f1d131fe80c",
        "colab": {
          "base_uri": "https://localhost:8080/"
        }
      },
      "source": [
        "be_evil = pd.concat([nondrugs_1,nondrugs_2,nondrugs_3])\n",
        "print(be_evil)\n",
        "non_drugs = be_evil['smiles']"
      ],
      "execution_count": null,
      "outputs": [
        {
          "output_type": "stream",
          "text": [
            "                                                  smiles\n",
            "0          Cc1c(C(=O)Nc2ccccc2C(N)=O)nnn1-c1ccc2ncccc2c1\n",
            "1      C[C@H]1CCCC[C@H]1NC(=O)NC(=O)CN1CCc2ccc([N+](=...\n",
            "2                         Brc1ccccc1-c1nc2c3ccccc3ncn2n1\n",
            "3                        CC[C@H](C)NC(=O)Nc1ccnn1C1CCCC1\n",
            "4            CCn1c(SCc2cc(C(=O)OC)c(C)o2)nnc1-c1ccccc1OC\n",
            "...                                                  ...\n",
            "58933  c1(c(c(c2c(c1)CC[C@H](c1c2ccc(c(=O)c1)OC)NC=O)...\n",
            "58934  c1(c(c(c2c(c1)CC[C@H](c1c2ccc(c(=O)c1)OC)NC(=O...\n",
            "58935  c1(c(c(c2c(c1)CC[C@H](c1c2ccc(c(=O)c1)OC)NC(=O...\n",
            "58936  c1(c(c(c2c(c1)CC[C@H](c1c2ccc(c(=O)c1)OC)NC)OC...\n",
            "58937  c12c(c(c3c(c1)CC[C@H](c1c3ccc(c(=O)c1)OC)NC(=O...\n",
            "\n",
            "[68909 rows x 1 columns]\n"
          ],
          "name": "stdout"
        }
      ]
    },
    {
      "cell_type": "code",
      "metadata": {
        "id": "y65StGSEvXIf"
      },
      "source": [
        "non_drugs = pd.DataFrame(non_drugs).assign(drug=0)\n",
        "drugs = pd.DataFrame(drugs).assign(drug=1)"
      ],
      "execution_count": null,
      "outputs": []
    },
    {
      "cell_type": "code",
      "metadata": {
        "id": "7TrK5zHTwjV3"
      },
      "source": [
        "final = pd.concat([non_drugs.sample(13455),drugs])"
      ],
      "execution_count": null,
      "outputs": []
    },
    {
      "cell_type": "code",
      "metadata": {
        "id": "np8ZYcMAwmh7"
      },
      "source": [
        "final = final.reset_index()"
      ],
      "execution_count": null,
      "outputs": []
    },
    {
      "cell_type": "code",
      "metadata": {
        "id": "0PyzXySOwthT"
      },
      "source": [
        "final = final[['smiles','drug']]"
      ],
      "execution_count": null,
      "outputs": []
    },
    {
      "cell_type": "code",
      "metadata": {
        "id": "PiP6JAkkakMc",
        "outputId": "7c5984a1-dcb8-427b-e2c9-86351a5a4dd8",
        "colab": {
          "base_uri": "https://localhost:8080/",
          "height": 419
        }
      },
      "source": [
        "final"
      ],
      "execution_count": null,
      "outputs": [
        {
          "output_type": "execute_result",
          "data": {
            "text/html": [
              "<div>\n",
              "<style scoped>\n",
              "    .dataframe tbody tr th:only-of-type {\n",
              "        vertical-align: middle;\n",
              "    }\n",
              "\n",
              "    .dataframe tbody tr th {\n",
              "        vertical-align: top;\n",
              "    }\n",
              "\n",
              "    .dataframe thead th {\n",
              "        text-align: right;\n",
              "    }\n",
              "</style>\n",
              "<table border=\"1\" class=\"dataframe\">\n",
              "  <thead>\n",
              "    <tr style=\"text-align: right;\">\n",
              "      <th></th>\n",
              "      <th>smiles</th>\n",
              "      <th>drug</th>\n",
              "    </tr>\n",
              "  </thead>\n",
              "  <tbody>\n",
              "    <tr>\n",
              "      <th>0</th>\n",
              "      <td>O=C1C(=C(N)c2c1cccc2)c1ccc(OC)cc1</td>\n",
              "      <td>0</td>\n",
              "    </tr>\n",
              "    <tr>\n",
              "      <th>1</th>\n",
              "      <td>C1(=S)N(\\C(=N\\c2ccc(cc2)OC)/C(=N/c2ccc(cc2)OC)...</td>\n",
              "      <td>0</td>\n",
              "    </tr>\n",
              "    <tr>\n",
              "      <th>2</th>\n",
              "      <td>O=C1Nc2c(\\C1=N/N(c1ccccc1)C)cccc2</td>\n",
              "      <td>0</td>\n",
              "    </tr>\n",
              "    <tr>\n",
              "      <th>3</th>\n",
              "      <td>O1C(OC2c3c(c(c(c(c3)C)C(=O)NC(C)C(=O)NC(C)C(=O...</td>\n",
              "      <td>0</td>\n",
              "    </tr>\n",
              "    <tr>\n",
              "      <th>4</th>\n",
              "      <td>c1cccc2c1c1c(n2C)C(=O)N(CC1)CCN1CCN(CC1)c1cccc...</td>\n",
              "      <td>0</td>\n",
              "    </tr>\n",
              "    <tr>\n",
              "      <th>...</th>\n",
              "      <td>...</td>\n",
              "      <td>...</td>\n",
              "    </tr>\n",
              "    <tr>\n",
              "      <th>26905</th>\n",
              "      <td>CCOc1nc2cccc(C(=O)O)c2n1Cc1ccc(-c2ccccc2-c2nnn...</td>\n",
              "      <td>1</td>\n",
              "    </tr>\n",
              "    <tr>\n",
              "      <th>26906</th>\n",
              "      <td>CC(=O)[C@H]1CC[C@H]2[C@@H]3CCC4=CC(=O)CC[C@]4(...</td>\n",
              "      <td>1</td>\n",
              "    </tr>\n",
              "    <tr>\n",
              "      <th>26907</th>\n",
              "      <td>C[C@]12CC[C@H]3[C@@H](CCC4=CC(=O)CC[C@@]43C)[C...</td>\n",
              "      <td>1</td>\n",
              "    </tr>\n",
              "    <tr>\n",
              "      <th>26908</th>\n",
              "      <td>C[C@]12CC[C@@H]3c4ccc(O)cc4CC[C@H]3[C@@H]1CC[C...</td>\n",
              "      <td>1</td>\n",
              "    </tr>\n",
              "    <tr>\n",
              "      <th>26909</th>\n",
              "      <td>COc1ccc2c(c1OC)CN1CCc3cc4c(cc3C1C2)OCO4</td>\n",
              "      <td>1</td>\n",
              "    </tr>\n",
              "  </tbody>\n",
              "</table>\n",
              "<p>26910 rows × 2 columns</p>\n",
              "</div>"
            ],
            "text/plain": [
              "                                                  smiles  drug\n",
              "0                      O=C1C(=C(N)c2c1cccc2)c1ccc(OC)cc1     0\n",
              "1      C1(=S)N(\\C(=N\\c2ccc(cc2)OC)/C(=N/c2ccc(cc2)OC)...     0\n",
              "2                      O=C1Nc2c(\\C1=N/N(c1ccccc1)C)cccc2     0\n",
              "3      O1C(OC2c3c(c(c(c(c3)C)C(=O)NC(C)C(=O)NC(C)C(=O...     0\n",
              "4      c1cccc2c1c1c(n2C)C(=O)N(CC1)CCN1CCN(CC1)c1cccc...     0\n",
              "...                                                  ...   ...\n",
              "26905  CCOc1nc2cccc(C(=O)O)c2n1Cc1ccc(-c2ccccc2-c2nnn...     1\n",
              "26906  CC(=O)[C@H]1CC[C@H]2[C@@H]3CCC4=CC(=O)CC[C@]4(...     1\n",
              "26907  C[C@]12CC[C@H]3[C@@H](CCC4=CC(=O)CC[C@@]43C)[C...     1\n",
              "26908  C[C@]12CC[C@@H]3c4ccc(O)cc4CC[C@H]3[C@@H]1CC[C...     1\n",
              "26909            COc1ccc2c(c1OC)CN1CCc3cc4c(cc3C1C2)OCO4     1\n",
              "\n",
              "[26910 rows x 2 columns]"
            ]
          },
          "metadata": {
            "tags": []
          },
          "execution_count": 21
        }
      ]
    },
    {
      "cell_type": "code",
      "metadata": {
        "id": "adxcwsvFanPD"
      },
      "source": [
        "final.to_csv('drug-dataset',index=False)"
      ],
      "execution_count": null,
      "outputs": []
    },
    {
      "cell_type": "code",
      "metadata": {
        "id": "U8BzjkZXwuLq",
        "outputId": "f9057960-6dab-425e-af73-3f76294c7da3",
        "colab": {
          "base_uri": "https://localhost:8080/"
        }
      },
      "source": [
        "import sys\n",
        "import os\n",
        "import requests\n",
        "import subprocess\n",
        "import shutil\n",
        "from logging import getLogger, StreamHandler, INFO\n",
        "\n",
        "\n",
        "logger = getLogger(__name__)\n",
        "logger.addHandler(StreamHandler())\n",
        "logger.setLevel(INFO)\n",
        "\n",
        "\n",
        "def install(\n",
        "        chunk_size=4096,\n",
        "        file_name=\"Miniconda3-latest-Linux-x86_64.sh\",\n",
        "        url_base=\"https://repo.continuum.io/miniconda/\",\n",
        "        conda_path=os.path.expanduser(os.path.join(\"~\", \"miniconda\")),\n",
        "        rdkit_version=None,\n",
        "        add_python_path=True,\n",
        "        force=False):\n",
        "    \"\"\"install rdkit from miniconda\n",
        "    ```\n",
        "    import rdkit_installer\n",
        "    rdkit_installer.install()\n",
        "    ```\n",
        "    \"\"\"\n",
        "\n",
        "    python_path = os.path.join(\n",
        "        conda_path,\n",
        "        \"lib\",\n",
        "        \"python{0}.{1}\".format(*sys.version_info),\n",
        "        \"site-packages\",\n",
        "    )\n",
        "\n",
        "    if add_python_path and python_path not in sys.path:\n",
        "        logger.info(\"add {} to PYTHONPATH\".format(python_path))\n",
        "        sys.path.append(python_path)\n",
        "\n",
        "    if os.path.isdir(os.path.join(python_path, \"rdkit\")):\n",
        "        logger.info(\"rdkit is already installed\")\n",
        "        if not force:\n",
        "            return\n",
        "\n",
        "        logger.info(\"force re-install\")\n",
        "\n",
        "    url = url_base + file_name\n",
        "    python_version = \"{0}.{1}.{2}\".format(*sys.version_info)\n",
        "\n",
        "    logger.info(\"python version: {}\".format(python_version))\n",
        "\n",
        "    if os.path.isdir(conda_path):\n",
        "        logger.warning(\"remove current miniconda\")\n",
        "        shutil.rmtree(conda_path)\n",
        "    elif os.path.isfile(conda_path):\n",
        "        logger.warning(\"remove {}\".format(conda_path))\n",
        "        os.remove(conda_path)\n",
        "\n",
        "    logger.info('fetching installer from {}'.format(url))\n",
        "    res = requests.get(url, stream=True)\n",
        "    res.raise_for_status()\n",
        "    with open(file_name, 'wb') as f:\n",
        "        for chunk in res.iter_content(chunk_size):\n",
        "            f.write(chunk)\n",
        "    logger.info('done')\n",
        "\n",
        "    logger.info('installing miniconda to {}'.format(conda_path))\n",
        "    subprocess.check_call([\"bash\", file_name, \"-b\", \"-p\", conda_path])\n",
        "    logger.info('done')\n",
        "\n",
        "    logger.info(\"installing rdkit\")\n",
        "    subprocess.check_call([\n",
        "        os.path.join(conda_path, \"bin\", \"conda\"),\n",
        "        \"install\",\n",
        "        \"--yes\",\n",
        "        \"-c\", \"rdkit\",\n",
        "        \"python=={}\".format(python_version),\n",
        "        \"rdkit\" if rdkit_version is None else \"rdkit=={}\".format(rdkit_version)])\n",
        "    logger.info(\"done\")\n",
        "\n",
        "    import rdkit\n",
        "    logger.info(\"rdkit-{} installation finished!\".format(rdkit.__version__))\n",
        "\n",
        "\n",
        "if __name__ == \"__main__\":\n",
        "    install()"
      ],
      "execution_count": null,
      "outputs": [
        {
          "output_type": "stream",
          "text": [
            "add /root/miniconda/lib/python3.6/site-packages to PYTHONPATH\n",
            "python version: 3.6.9\n",
            "fetching installer from https://repo.continuum.io/miniconda/Miniconda3-latest-Linux-x86_64.sh\n",
            "done\n",
            "installing miniconda to /root/miniconda\n",
            "done\n",
            "installing rdkit\n",
            "done\n",
            "rdkit-2020.09.1 installation finished!\n"
          ],
          "name": "stderr"
        }
      ]
    },
    {
      "cell_type": "code",
      "metadata": {
        "id": "OVrR7_bgwwx6"
      },
      "source": [
        "df = final"
      ],
      "execution_count": null,
      "outputs": []
    },
    {
      "cell_type": "code",
      "metadata": {
        "id": "usHkUgO1w208"
      },
      "source": [
        "df[\"HBondDon\"] = None\n",
        "df[\"HBondAccept\"] = None\n",
        "df[\"MolMass\"] = None\n",
        "df[\"logP\"] = None\n",
        "df[\"RotableBonds\"] = None\n",
        "df[\"FractionCSP3\"] = None\n",
        "df[\"NumHeteroatoms\"] = None\n",
        "df[\"MolMR\"] = None\n",
        "df[\"HeavyAtomMolWt\"] = None\n",
        "df[\"ExactMolWt\"] = None\n",
        "df[\"MaxAbsPartialCharge\"] = None\n",
        "df[\"MaxPartialCharge\"] = None\n",
        "df[\"MinAbsPartialCharge\"] = None\n",
        "df[\"MinPartialCharge\"] = None\n",
        "df[\"MolWt\"] = None\n",
        "df[\"NumRadicalElectrons\"] = None\n",
        "df[\"NumValenceElectrons\"] = None\n",
        "\n",
        "df[\"HeavyAtomCount\"] = None\n",
        "df[\"NHOHCount\"] = None\n",
        "df[\"NOCount\"] = None\n",
        "df[\"NumAliphaticCarbocycles\"] = None\n",
        "df[\"NumAliphaticHeterocycles\"] = None\n",
        "df[\"NumAliphaticRings\"] = None\n",
        "df[\"NumAromaticCarbocycles\"] = None\n",
        "df[\"NumAromaticHeterocycles\"] = None\n",
        "df[\"NumAromaticRings\"] = None\n",
        "df[\"NumSaturatedCarbocycles\"] = None\n",
        "df[\"NumSaturatedHeterocycles\"] = None\n",
        "df[\"NumSaturatedRings\"] = None\n",
        "df[\"RingCount\"] = None\n",
        "\n",
        "df[\"EState_VSA1\"] = None\n",
        "df[\"EState_VSA2\"] = None\n",
        "df[\"EState_VSA3\"] = None\n",
        "df[\"EState_VSA4\"] = None\n",
        "df[\"EState_VSA5\"] = None\n",
        "df[\"BalabanJ\"] = None\n",
        "df[\"BertzCT\"] = None"
      ],
      "execution_count": null,
      "outputs": []
    },
    {
      "cell_type": "code",
      "metadata": {
        "id": "zkIgEYHww3Qt"
      },
      "source": [
        "import rdkit.Chem\n",
        "from rdkit.Chem import Lipinski, Descriptors, Crippen, AllChem, Descriptors3D"
      ],
      "execution_count": null,
      "outputs": []
    },
    {
      "cell_type": "code",
      "metadata": {
        "id": "Z8IOeVjOw6U4",
        "outputId": "e29027a2-c1e1-4d2e-f23b-5029415c57c1",
        "colab": {
          "base_uri": "https://localhost:8080/"
        }
      },
      "source": [
        "mol = rdkit.Chem.MolFromSmiles(df[\"smiles\"][0])\n",
        "rdkit.Chem.Lipinski.NumHDonors(mol)\n",
        "rdkit.Chem.EState.EState_VSA.EState_VSA1(mol)\n",
        "mol = rdkit.Chem.AddHs(mol)\n",
        "rdkit.Chem.AllChem.EmbedMolecule(mol,randomSeed=10,useRandomCoords=True)\n",
        "\n",
        "rdkit.Chem.Descriptors3D.Eccentricity(mol)"
      ],
      "execution_count": null,
      "outputs": [
        {
          "output_type": "execute_result",
          "data": {
            "text/plain": [
              "0.8901771645718468"
            ]
          },
          "metadata": {
            "tags": []
          },
          "execution_count": 57
        }
      ]
    },
    {
      "cell_type": "code",
      "metadata": {
        "id": "a2q8dg0Bw7fH"
      },
      "source": [
        "def single_prop(SMILES):\n",
        "  mol = rdkit.Chem.MolFromSmiles(SMILES)\n",
        "\n",
        "  return {\"HBondDon\": rdkit.Chem.Lipinski.NumHDonors(mol),\n",
        "  \"HBondAccept\":rdkit.Chem.Lipinski.NumHAcceptors(mol),\n",
        "  \"MolMass\":rdkit.Chem.Descriptors.ExactMolWt(mol),\n",
        "  \"logP\":rdkit.Chem.Crippen.MolLogP(mol),\n",
        "  \"RotableBonds\":rdkit.Chem.Lipinski.NumRotatableBonds(mol),\n",
        "  \"FractionCSP3\":rdkit.Chem.Lipinski.FractionCSP3(mol),\n",
        "  \"NumHeteroatoms\":rdkit.Chem.Lipinski.NumHeteroatoms(mol),\n",
        "  \"MolMR\":rdkit.Chem.Crippen.MolMR(mol),\n",
        "  \"HeavyAtomMolWt\":rdkit.Chem.Descriptors.HeavyAtomMolWt(mol),\n",
        "  \"ExactMolWt\":rdkit.Chem.Descriptors.ExactMolWt(mol),\n",
        "  \"MaxAbsPartialCharge\":rdkit.Chem.Descriptors.MaxAbsPartialCharge(mol),\n",
        "  \"MaxPartialCharge\":rdkit.Chem.Descriptors.MaxPartialCharge(mol),\n",
        "  \"MinAbsPartialCharge\":rdkit.Chem.Descriptors.MinAbsPartialCharge(mol),\n",
        "  \"MinPartialCharge\":rdkit.Chem.Descriptors.MinPartialCharge(mol),\n",
        "  \"MolWt\":rdkit.Chem.Descriptors.MolWt(mol),\n",
        "  \"NumRadicalElectrons\":rdkit.Chem.Descriptors.NumRadicalElectrons(mol),\n",
        "  \"NumValenceElectrons\":rdkit.Chem.Descriptors.NumValenceElectrons(mol),\n",
        "  \"HeavyAtomCount\":rdkit.Chem.Lipinski.HeavyAtomCount(mol),\n",
        "  \"NHOHCount\":rdkit.Chem.Lipinski.NHOHCount(mol),\n",
        "  \"NOCount\":rdkit.Chem.Lipinski.NOCount(mol),\n",
        "  \"NumAliphaticCarbocycles\":rdkit.Chem.Lipinski.NumAliphaticCarbocycles(mol),\n",
        "  \"NumAliphaticHeterocycles\":rdkit.Chem.Lipinski.NumAliphaticHeterocycles(mol),\n",
        "  \"NumAliphaticRings\":rdkit.Chem.Lipinski.NumAliphaticRings(mol),\n",
        "  \"NumAromaticCarbocycles\":rdkit.Chem.Lipinski.NumAromaticCarbocycles(mol),\n",
        "  \"NumAromaticHeterocycles\":rdkit.Chem.Lipinski.NumAromaticHeterocycles(mol),\n",
        "  \"NumAromaticRings\":rdkit.Chem.Lipinski.NumAromaticRings(mol),\n",
        "  \"NumSaturatedCarbocycles\":rdkit.Chem.Lipinski.NumSaturatedCarbocycles(mol),\n",
        "  \"NumSaturatedHeterocycles\":rdkit.Chem.Lipinski.NumSaturatedHeterocycles(mol),\n",
        "  \"NumSaturatedRings\":rdkit.Chem.Lipinski.NumSaturatedRings(mol),\n",
        "  \"RingCount\":rdkit.Chem.Lipinski.RingCount(mol),\n",
        "  \"EState_VSA1\":rdkit.Chem.EState.EState_VSA.EState_VSA1(mol),\n",
        "  \"EState_VSA2\":rdkit.Chem.EState.EState_VSA.EState_VSA2(mol),\n",
        "  \"EState_VSA3\":rdkit.Chem.EState.EState_VSA.EState_VSA3(mol),\n",
        "  \"EState_VSA4\":rdkit.Chem.EState.EState_VSA.EState_VSA4(mol),\n",
        "  \"EState_VSA5\":rdkit.Chem.EState.EState_VSA.EState_VSA5(mol),\n",
        "  \"BalabanJ\":rdkit.Chem.GraphDescriptors.BalabanJ(mol),\n",
        "  \"BertzCT\":rdkit.Chem.GraphDescriptors.BertzCT(mol)\n",
        "  }"
      ],
      "execution_count": null,
      "outputs": []
    },
    {
      "cell_type": "code",
      "metadata": {
        "id": "exGFz8i8xKEF",
        "outputId": "c592b26c-8fa6-4e55-a1c0-c5167d8267ee",
        "colab": {
          "base_uri": "https://localhost:8080/"
        }
      },
      "source": [
        "single_prop(df['smiles'][0])"
      ],
      "execution_count": null,
      "outputs": [
        {
          "output_type": "execute_result",
          "data": {
            "text/plain": [
              "{'BalabanJ': 1.4419080290722979,\n",
              " 'BertzCT': 700.9230454007306,\n",
              " 'EState_VSA1': 0.0,\n",
              " 'EState_VSA2': 6.031114512338072,\n",
              " 'EState_VSA3': 25.07346753600882,\n",
              " 'EState_VSA4': 29.792950727245938,\n",
              " 'EState_VSA5': 6.4208216229260096,\n",
              " 'ExactMolWt': 326.174275944,\n",
              " 'FractionCSP3': 0.3888888888888889,\n",
              " 'HBondAccept': 4,\n",
              " 'HBondDon': 2,\n",
              " 'HeavyAtomCount': 24,\n",
              " 'HeavyAtomMolWt': 304.224,\n",
              " 'MaxAbsPartialCharge': 0.47434430956646834,\n",
              " 'MaxPartialCharge': 0.3148791509003986,\n",
              " 'MinAbsPartialCharge': 0.3148791509003986,\n",
              " 'MinPartialCharge': -0.47434430956646834,\n",
              " 'MolMR': 90.55340000000004,\n",
              " 'MolMass': 326.174275944,\n",
              " 'MolWt': 326.40000000000015,\n",
              " 'NHOHCount': 2,\n",
              " 'NOCount': 6,\n",
              " 'NumAliphaticCarbocycles': 1,\n",
              " 'NumAliphaticHeterocycles': 0,\n",
              " 'NumAliphaticRings': 1,\n",
              " 'NumAromaticCarbocycles': 0,\n",
              " 'NumAromaticHeterocycles': 2,\n",
              " 'NumAromaticRings': 2,\n",
              " 'NumHeteroatoms': 6,\n",
              " 'NumRadicalElectrons': 0,\n",
              " 'NumSaturatedCarbocycles': 1,\n",
              " 'NumSaturatedHeterocycles': 0,\n",
              " 'NumSaturatedRings': 1,\n",
              " 'NumValenceElectrons': 126,\n",
              " 'RingCount': 3,\n",
              " 'RotableBonds': 6,\n",
              " 'logP': 2.715720000000001}"
            ]
          },
          "metadata": {
            "tags": []
          },
          "execution_count": 59
        }
      ]
    },
    {
      "cell_type": "code",
      "metadata": {
        "id": "nBSG99ZixMzt",
        "outputId": "ee6452ab-50de-4197-c5d1-c5450f0bf103",
        "colab": {
          "base_uri": "https://localhost:8080/",
          "height": 1000,
          "referenced_widgets": [
            "8ee9500fac7e43e6afa9a8cc0b133eea",
            "b9ae51413f29477f82ab0feeb0f8fd52",
            "5a152a9ae14d4a8da37d5a86477d73a0",
            "b67f615fae744d16879223a033fd0204",
            "92c9f5da646943628e227b3834d4845c",
            "daccc23bfa8b49a39d574e6fd62ee335",
            "6b133e79f323484588b10a9a89d52f4f",
            "6def997db4324f52a80998a1427b0563"
          ]
        }
      },
      "source": [
        "from tqdm.notebook import tqdm\n",
        "randomSeed=10\n",
        "for x in tqdm(range(len(df))):\n",
        "  mol = rdkit.Chem.MolFromSmiles(df[\"smiles\"][x])\n",
        "\n",
        "  try:\n",
        "    df[\"HBondDon\"][x] = rdkit.Chem.Lipinski.NumHDonors(mol)\n",
        "  except:\n",
        "    df[\"HBondDon\"][x] = \"\"\n",
        "    continue\n",
        "\n",
        "  df[\"HBondAccept\"][x] = rdkit.Chem.Lipinski.NumHAcceptors(mol)\n",
        "  df[\"MolMass\"][x] = rdkit.Chem.Descriptors.ExactMolWt(mol)\n",
        "  df[\"logP\"][x] = rdkit.Chem.Crippen.MolLogP(mol)\n",
        "  df[\"RotableBonds\"][x] = rdkit.Chem.Lipinski.NumRotatableBonds(mol)\n",
        "  df[\"FractionCSP3\"][x] = rdkit.Chem.Lipinski.FractionCSP3(mol)\n",
        "  df[\"NumHeteroatoms\"][x] = rdkit.Chem.Lipinski.NumHeteroatoms(mol)\n",
        "  df[\"MolMR\"][x] = rdkit.Chem.Crippen.MolMR(mol)\n",
        "  df[\"HeavyAtomMolWt\"][x] = rdkit.Chem.Descriptors.HeavyAtomMolWt(mol)\n",
        "  df[\"ExactMolWt\"][x] = rdkit.Chem.Descriptors.ExactMolWt(mol)\n",
        "  df[\"MaxAbsPartialCharge\"][x] = rdkit.Chem.Descriptors.MaxAbsPartialCharge(mol)\n",
        "  df[\"MaxPartialCharge\"][x] = rdkit.Chem.Descriptors.MaxPartialCharge(mol)\n",
        "  df[\"MinAbsPartialCharge\"][x] = rdkit.Chem.Descriptors.MinAbsPartialCharge(mol)\n",
        "  df[\"MinPartialCharge\"][x] = rdkit.Chem.Descriptors.MinPartialCharge(mol)\n",
        "  df[\"MolWt\"][x] = rdkit.Chem.Descriptors.MolWt(mol)\n",
        "  df[\"NumRadicalElectrons\"][x] = rdkit.Chem.Descriptors.NumRadicalElectrons(mol)\n",
        "  df[\"NumValenceElectrons\"][x] = rdkit.Chem.Descriptors.NumValenceElectrons(mol)\n",
        "\n",
        "  df[\"HeavyAtomCount\"][x] = rdkit.Chem.Lipinski.HeavyAtomCount(mol)\n",
        "  df[\"NHOHCount\"][x] = rdkit.Chem.Lipinski.NHOHCount(mol)\n",
        "  df[\"NOCount\"][x] = rdkit.Chem.Lipinski.NOCount(mol)\n",
        "  df[\"NumAliphaticCarbocycles\"][x] = rdkit.Chem.Lipinski.NumAliphaticCarbocycles(mol)\n",
        "  df[\"NumAliphaticHeterocycles\"][x] = rdkit.Chem.Lipinski.NumAliphaticHeterocycles(mol)\n",
        "  df[\"NumAliphaticRings\"][x] = rdkit.Chem.Lipinski.NumAliphaticRings(mol)\n",
        "  df[\"NumAromaticCarbocycles\"][x] = rdkit.Chem.Lipinski.NumAromaticCarbocycles(mol)\n",
        "  df[\"NumAromaticHeterocycles\"][x] = rdkit.Chem.Lipinski.NumAromaticHeterocycles(mol)\n",
        "  df[\"NumAromaticRings\"][x] = rdkit.Chem.Lipinski.NumAromaticRings(mol)\n",
        "  df[\"NumSaturatedCarbocycles\"][x] = rdkit.Chem.Lipinski.NumSaturatedCarbocycles(mol)\n",
        "  df[\"NumSaturatedHeterocycles\"][x] = rdkit.Chem.Lipinski.NumSaturatedHeterocycles(mol)\n",
        "  df[\"NumSaturatedRings\"][x] = rdkit.Chem.Lipinski.NumSaturatedRings(mol)\n",
        "  df[\"RingCount\"][x] = rdkit.Chem.Lipinski.RingCount(mol)\n",
        "\n",
        "  df[\"EState_VSA1\"][x] = rdkit.Chem.EState.EState_VSA.EState_VSA1(mol)\n",
        "  df[\"EState_VSA2\"][x] = rdkit.Chem.EState.EState_VSA.EState_VSA2(mol)\n",
        "  df[\"EState_VSA3\"][x] = rdkit.Chem.EState.EState_VSA.EState_VSA3(mol)\n",
        "  df[\"EState_VSA4\"][x] = rdkit.Chem.EState.EState_VSA.EState_VSA4(mol)\n",
        "  df[\"EState_VSA5\"][x] = rdkit.Chem.EState.EState_VSA.EState_VSA5(mol)\n",
        "  df[\"BalabanJ\"][x] = rdkit.Chem.GraphDescriptors.BalabanJ(mol)\n",
        "  df[\"BertzCT\"][x] = rdkit.Chem.GraphDescriptors.BertzCT(mol)\n"
      ],
      "execution_count": null,
      "outputs": [
        {
          "output_type": "display_data",
          "data": {
            "application/vnd.jupyter.widget-view+json": {
              "model_id": "8ee9500fac7e43e6afa9a8cc0b133eea",
              "version_minor": 0,
              "version_major": 2
            },
            "text/plain": [
              "HBox(children=(FloatProgress(value=0.0, max=26910.0), HTML(value='')))"
            ]
          },
          "metadata": {
            "tags": []
          }
        },
        {
          "output_type": "stream",
          "text": [
            "/usr/local/lib/python3.6/dist-packages/ipykernel_launcher.py:7: SettingWithCopyWarning: \n",
            "A value is trying to be set on a copy of a slice from a DataFrame\n",
            "\n",
            "See the caveats in the documentation: https://pandas.pydata.org/pandas-docs/stable/user_guide/indexing.html#returning-a-view-versus-a-copy\n",
            "  import sys\n",
            "/usr/local/lib/python3.6/dist-packages/ipykernel_launcher.py:12: SettingWithCopyWarning: \n",
            "A value is trying to be set on a copy of a slice from a DataFrame\n",
            "\n",
            "See the caveats in the documentation: https://pandas.pydata.org/pandas-docs/stable/user_guide/indexing.html#returning-a-view-versus-a-copy\n",
            "  if sys.path[0] == '':\n",
            "/usr/local/lib/python3.6/dist-packages/ipykernel_launcher.py:13: SettingWithCopyWarning: \n",
            "A value is trying to be set on a copy of a slice from a DataFrame\n",
            "\n",
            "See the caveats in the documentation: https://pandas.pydata.org/pandas-docs/stable/user_guide/indexing.html#returning-a-view-versus-a-copy\n",
            "  del sys.path[0]\n",
            "/usr/local/lib/python3.6/dist-packages/ipykernel_launcher.py:14: SettingWithCopyWarning: \n",
            "A value is trying to be set on a copy of a slice from a DataFrame\n",
            "\n",
            "See the caveats in the documentation: https://pandas.pydata.org/pandas-docs/stable/user_guide/indexing.html#returning-a-view-versus-a-copy\n",
            "  \n",
            "/usr/local/lib/python3.6/dist-packages/ipykernel_launcher.py:15: SettingWithCopyWarning: \n",
            "A value is trying to be set on a copy of a slice from a DataFrame\n",
            "\n",
            "See the caveats in the documentation: https://pandas.pydata.org/pandas-docs/stable/user_guide/indexing.html#returning-a-view-versus-a-copy\n",
            "  from ipykernel import kernelapp as app\n",
            "/usr/local/lib/python3.6/dist-packages/ipykernel_launcher.py:16: SettingWithCopyWarning: \n",
            "A value is trying to be set on a copy of a slice from a DataFrame\n",
            "\n",
            "See the caveats in the documentation: https://pandas.pydata.org/pandas-docs/stable/user_guide/indexing.html#returning-a-view-versus-a-copy\n",
            "  app.launch_new_instance()\n",
            "/usr/local/lib/python3.6/dist-packages/ipykernel_launcher.py:17: SettingWithCopyWarning: \n",
            "A value is trying to be set on a copy of a slice from a DataFrame\n",
            "\n",
            "See the caveats in the documentation: https://pandas.pydata.org/pandas-docs/stable/user_guide/indexing.html#returning-a-view-versus-a-copy\n",
            "/usr/local/lib/python3.6/dist-packages/ipykernel_launcher.py:18: SettingWithCopyWarning: \n",
            "A value is trying to be set on a copy of a slice from a DataFrame\n",
            "\n",
            "See the caveats in the documentation: https://pandas.pydata.org/pandas-docs/stable/user_guide/indexing.html#returning-a-view-versus-a-copy\n",
            "/usr/local/lib/python3.6/dist-packages/ipykernel_launcher.py:19: SettingWithCopyWarning: \n",
            "A value is trying to be set on a copy of a slice from a DataFrame\n",
            "\n",
            "See the caveats in the documentation: https://pandas.pydata.org/pandas-docs/stable/user_guide/indexing.html#returning-a-view-versus-a-copy\n",
            "/usr/local/lib/python3.6/dist-packages/ipykernel_launcher.py:20: SettingWithCopyWarning: \n",
            "A value is trying to be set on a copy of a slice from a DataFrame\n",
            "\n",
            "See the caveats in the documentation: https://pandas.pydata.org/pandas-docs/stable/user_guide/indexing.html#returning-a-view-versus-a-copy\n",
            "/usr/local/lib/python3.6/dist-packages/ipykernel_launcher.py:21: SettingWithCopyWarning: \n",
            "A value is trying to be set on a copy of a slice from a DataFrame\n",
            "\n",
            "See the caveats in the documentation: https://pandas.pydata.org/pandas-docs/stable/user_guide/indexing.html#returning-a-view-versus-a-copy\n",
            "/usr/local/lib/python3.6/dist-packages/ipykernel_launcher.py:22: SettingWithCopyWarning: \n",
            "A value is trying to be set on a copy of a slice from a DataFrame\n",
            "\n",
            "See the caveats in the documentation: https://pandas.pydata.org/pandas-docs/stable/user_guide/indexing.html#returning-a-view-versus-a-copy\n",
            "/usr/local/lib/python3.6/dist-packages/ipykernel_launcher.py:23: SettingWithCopyWarning: \n",
            "A value is trying to be set on a copy of a slice from a DataFrame\n",
            "\n",
            "See the caveats in the documentation: https://pandas.pydata.org/pandas-docs/stable/user_guide/indexing.html#returning-a-view-versus-a-copy\n",
            "/usr/local/lib/python3.6/dist-packages/ipykernel_launcher.py:24: SettingWithCopyWarning: \n",
            "A value is trying to be set on a copy of a slice from a DataFrame\n",
            "\n",
            "See the caveats in the documentation: https://pandas.pydata.org/pandas-docs/stable/user_guide/indexing.html#returning-a-view-versus-a-copy\n",
            "/usr/local/lib/python3.6/dist-packages/ipykernel_launcher.py:25: SettingWithCopyWarning: \n",
            "A value is trying to be set on a copy of a slice from a DataFrame\n",
            "\n",
            "See the caveats in the documentation: https://pandas.pydata.org/pandas-docs/stable/user_guide/indexing.html#returning-a-view-versus-a-copy\n",
            "/usr/local/lib/python3.6/dist-packages/ipykernel_launcher.py:26: SettingWithCopyWarning: \n",
            "A value is trying to be set on a copy of a slice from a DataFrame\n",
            "\n",
            "See the caveats in the documentation: https://pandas.pydata.org/pandas-docs/stable/user_guide/indexing.html#returning-a-view-versus-a-copy\n",
            "/usr/local/lib/python3.6/dist-packages/ipykernel_launcher.py:27: SettingWithCopyWarning: \n",
            "A value is trying to be set on a copy of a slice from a DataFrame\n",
            "\n",
            "See the caveats in the documentation: https://pandas.pydata.org/pandas-docs/stable/user_guide/indexing.html#returning-a-view-versus-a-copy\n",
            "/usr/local/lib/python3.6/dist-packages/ipykernel_launcher.py:29: SettingWithCopyWarning: \n",
            "A value is trying to be set on a copy of a slice from a DataFrame\n",
            "\n",
            "See the caveats in the documentation: https://pandas.pydata.org/pandas-docs/stable/user_guide/indexing.html#returning-a-view-versus-a-copy\n",
            "/usr/local/lib/python3.6/dist-packages/ipykernel_launcher.py:30: SettingWithCopyWarning: \n",
            "A value is trying to be set on a copy of a slice from a DataFrame\n",
            "\n",
            "See the caveats in the documentation: https://pandas.pydata.org/pandas-docs/stable/user_guide/indexing.html#returning-a-view-versus-a-copy\n",
            "/usr/local/lib/python3.6/dist-packages/ipykernel_launcher.py:31: SettingWithCopyWarning: \n",
            "A value is trying to be set on a copy of a slice from a DataFrame\n",
            "\n",
            "See the caveats in the documentation: https://pandas.pydata.org/pandas-docs/stable/user_guide/indexing.html#returning-a-view-versus-a-copy\n",
            "/usr/local/lib/python3.6/dist-packages/ipykernel_launcher.py:32: SettingWithCopyWarning: \n",
            "A value is trying to be set on a copy of a slice from a DataFrame\n",
            "\n",
            "See the caveats in the documentation: https://pandas.pydata.org/pandas-docs/stable/user_guide/indexing.html#returning-a-view-versus-a-copy\n",
            "/usr/local/lib/python3.6/dist-packages/ipykernel_launcher.py:33: SettingWithCopyWarning: \n",
            "A value is trying to be set on a copy of a slice from a DataFrame\n",
            "\n",
            "See the caveats in the documentation: https://pandas.pydata.org/pandas-docs/stable/user_guide/indexing.html#returning-a-view-versus-a-copy\n",
            "/usr/local/lib/python3.6/dist-packages/ipykernel_launcher.py:34: SettingWithCopyWarning: \n",
            "A value is trying to be set on a copy of a slice from a DataFrame\n",
            "\n",
            "See the caveats in the documentation: https://pandas.pydata.org/pandas-docs/stable/user_guide/indexing.html#returning-a-view-versus-a-copy\n",
            "/usr/local/lib/python3.6/dist-packages/ipykernel_launcher.py:35: SettingWithCopyWarning: \n",
            "A value is trying to be set on a copy of a slice from a DataFrame\n",
            "\n",
            "See the caveats in the documentation: https://pandas.pydata.org/pandas-docs/stable/user_guide/indexing.html#returning-a-view-versus-a-copy\n",
            "/usr/local/lib/python3.6/dist-packages/ipykernel_launcher.py:36: SettingWithCopyWarning: \n",
            "A value is trying to be set on a copy of a slice from a DataFrame\n",
            "\n",
            "See the caveats in the documentation: https://pandas.pydata.org/pandas-docs/stable/user_guide/indexing.html#returning-a-view-versus-a-copy\n",
            "/usr/local/lib/python3.6/dist-packages/ipykernel_launcher.py:37: SettingWithCopyWarning: \n",
            "A value is trying to be set on a copy of a slice from a DataFrame\n",
            "\n",
            "See the caveats in the documentation: https://pandas.pydata.org/pandas-docs/stable/user_guide/indexing.html#returning-a-view-versus-a-copy\n",
            "/usr/local/lib/python3.6/dist-packages/ipykernel_launcher.py:38: SettingWithCopyWarning: \n",
            "A value is trying to be set on a copy of a slice from a DataFrame\n",
            "\n",
            "See the caveats in the documentation: https://pandas.pydata.org/pandas-docs/stable/user_guide/indexing.html#returning-a-view-versus-a-copy\n",
            "/usr/local/lib/python3.6/dist-packages/ipykernel_launcher.py:39: SettingWithCopyWarning: \n",
            "A value is trying to be set on a copy of a slice from a DataFrame\n",
            "\n",
            "See the caveats in the documentation: https://pandas.pydata.org/pandas-docs/stable/user_guide/indexing.html#returning-a-view-versus-a-copy\n",
            "/usr/local/lib/python3.6/dist-packages/ipykernel_launcher.py:40: SettingWithCopyWarning: \n",
            "A value is trying to be set on a copy of a slice from a DataFrame\n",
            "\n",
            "See the caveats in the documentation: https://pandas.pydata.org/pandas-docs/stable/user_guide/indexing.html#returning-a-view-versus-a-copy\n",
            "/usr/local/lib/python3.6/dist-packages/ipykernel_launcher.py:41: SettingWithCopyWarning: \n",
            "A value is trying to be set on a copy of a slice from a DataFrame\n",
            "\n",
            "See the caveats in the documentation: https://pandas.pydata.org/pandas-docs/stable/user_guide/indexing.html#returning-a-view-versus-a-copy\n",
            "/usr/local/lib/python3.6/dist-packages/ipykernel_launcher.py:43: SettingWithCopyWarning: \n",
            "A value is trying to be set on a copy of a slice from a DataFrame\n",
            "\n",
            "See the caveats in the documentation: https://pandas.pydata.org/pandas-docs/stable/user_guide/indexing.html#returning-a-view-versus-a-copy\n",
            "/usr/local/lib/python3.6/dist-packages/ipykernel_launcher.py:44: SettingWithCopyWarning: \n",
            "A value is trying to be set on a copy of a slice from a DataFrame\n",
            "\n",
            "See the caveats in the documentation: https://pandas.pydata.org/pandas-docs/stable/user_guide/indexing.html#returning-a-view-versus-a-copy\n",
            "/usr/local/lib/python3.6/dist-packages/ipykernel_launcher.py:45: SettingWithCopyWarning: \n",
            "A value is trying to be set on a copy of a slice from a DataFrame\n",
            "\n",
            "See the caveats in the documentation: https://pandas.pydata.org/pandas-docs/stable/user_guide/indexing.html#returning-a-view-versus-a-copy\n",
            "/usr/local/lib/python3.6/dist-packages/ipykernel_launcher.py:46: SettingWithCopyWarning: \n",
            "A value is trying to be set on a copy of a slice from a DataFrame\n",
            "\n",
            "See the caveats in the documentation: https://pandas.pydata.org/pandas-docs/stable/user_guide/indexing.html#returning-a-view-versus-a-copy\n",
            "/usr/local/lib/python3.6/dist-packages/ipykernel_launcher.py:47: SettingWithCopyWarning: \n",
            "A value is trying to be set on a copy of a slice from a DataFrame\n",
            "\n",
            "See the caveats in the documentation: https://pandas.pydata.org/pandas-docs/stable/user_guide/indexing.html#returning-a-view-versus-a-copy\n",
            "/usr/local/lib/python3.6/dist-packages/ipykernel_launcher.py:48: SettingWithCopyWarning: \n",
            "A value is trying to be set on a copy of a slice from a DataFrame\n",
            "\n",
            "See the caveats in the documentation: https://pandas.pydata.org/pandas-docs/stable/user_guide/indexing.html#returning-a-view-versus-a-copy\n",
            "/usr/local/lib/python3.6/dist-packages/ipykernel_launcher.py:49: SettingWithCopyWarning: \n",
            "A value is trying to be set on a copy of a slice from a DataFrame\n",
            "\n",
            "See the caveats in the documentation: https://pandas.pydata.org/pandas-docs/stable/user_guide/indexing.html#returning-a-view-versus-a-copy\n",
            "/usr/local/lib/python3.6/dist-packages/ipykernel_launcher.py:9: SettingWithCopyWarning: \n",
            "A value is trying to be set on a copy of a slice from a DataFrame\n",
            "\n",
            "See the caveats in the documentation: https://pandas.pydata.org/pandas-docs/stable/user_guide/indexing.html#returning-a-view-versus-a-copy\n",
            "  if __name__ == '__main__':\n"
          ],
          "name": "stderr"
        },
        {
          "output_type": "stream",
          "text": [
            "\n"
          ],
          "name": "stdout"
        }
      ]
    },
    {
      "cell_type": "code",
      "metadata": {
        "id": "-kjgCr8FxZYJ"
      },
      "source": [
        "df = df.query('HBondDon != \"\"')"
      ],
      "execution_count": null,
      "outputs": []
    },
    {
      "cell_type": "code",
      "metadata": {
        "id": "t0MA-Al4zW9w",
        "outputId": "3a07ead3-728e-441c-c146-9eb12dc27d16",
        "colab": {
          "base_uri": "https://localhost:8080/"
        }
      },
      "source": [
        "len(df)"
      ],
      "execution_count": null,
      "outputs": [
        {
          "output_type": "execute_result",
          "data": {
            "text/plain": [
              "25967"
            ]
          },
          "metadata": {
            "tags": []
          },
          "execution_count": 62
        }
      ]
    },
    {
      "cell_type": "code",
      "metadata": {
        "id": "V8ZPq6_NzaV-",
        "outputId": "d690737c-5044-4cda-c005-3c7078d64e11",
        "colab": {
          "base_uri": "https://localhost:8080/"
        }
      },
      "source": [
        "!python3 -m pip install turicreate"
      ],
      "execution_count": null,
      "outputs": [
        {
          "output_type": "stream",
          "text": [
            "Collecting turicreate\n",
            "\u001b[?25l  Downloading https://files.pythonhosted.org/packages/ea/63/00ef7586c56a1aa48a7acabe20e1118cd82794785a56137e190fc6fb049c/turicreate-6.4.1-cp36-cp36m-manylinux1_x86_64.whl (92.0MB)\n",
            "\u001b[K     |████████████████████████████████| 92.0MB 62kB/s \n",
            "\u001b[?25hRequirement already satisfied: numba<0.51.0 in /usr/local/lib/python3.6/dist-packages (from turicreate) (0.48.0)\n",
            "Collecting tensorflow<2.1.0,>=2.0.0\n",
            "\u001b[?25l  Downloading https://files.pythonhosted.org/packages/87/5e/254f5baeb331a7c9065b796d786cd07c5db79f2d76a496b74891a6521e25/tensorflow-2.0.3-cp36-cp36m-manylinux2010_x86_64.whl (86.4MB)\n",
            "\u001b[K     |████████████████████████████████| 86.4MB 48kB/s \n",
            "\u001b[?25hRequirement already satisfied: pandas>=0.23.2 in /usr/local/lib/python3.6/dist-packages (from turicreate) (1.1.4)\n",
            "Requirement already satisfied: six>=1.10.0 in /usr/local/lib/python3.6/dist-packages (from turicreate) (1.15.0)\n",
            "Requirement already satisfied: pillow>=5.2.0 in /usr/local/lib/python3.6/dist-packages (from turicreate) (7.0.0)\n",
            "Requirement already satisfied: scipy>=1.1.0 in /usr/local/lib/python3.6/dist-packages (from turicreate) (1.4.1)\n",
            "Collecting resampy==0.2.1\n",
            "\u001b[?25l  Downloading https://files.pythonhosted.org/packages/14/b6/66a06d85474190b50aee1a6c09cdc95bb405ac47338b27e9b21409da1760/resampy-0.2.1.tar.gz (322kB)\n",
            "\u001b[K     |████████████████████████████████| 327kB 40.0MB/s \n",
            "\u001b[?25hRequirement already satisfied: numpy in /usr/local/lib/python3.6/dist-packages (from turicreate) (1.18.5)\n",
            "Requirement already satisfied: requests>=2.9.1 in /usr/local/lib/python3.6/dist-packages (from turicreate) (2.23.0)\n",
            "Collecting coremltools==3.3\n",
            "\u001b[?25l  Downloading https://files.pythonhosted.org/packages/77/19/611916d1ef326d38857d93af5ba184f6ad7491642e0fa4f9082e7d82f034/coremltools-3.3-cp36-none-manylinux1_x86_64.whl (3.4MB)\n",
            "\u001b[K     |████████████████████████████████| 3.4MB 43.4MB/s \n",
            "\u001b[?25hCollecting prettytable==0.7.2\n",
            "  Downloading https://files.pythonhosted.org/packages/ef/30/4b0746848746ed5941f052479e7c23d2b56d174b82f4fd34a25e389831f5/prettytable-0.7.2.tar.bz2\n",
            "Requirement already satisfied: decorator>=4.0.9 in /usr/local/lib/python3.6/dist-packages (from turicreate) (4.4.2)\n",
            "Requirement already satisfied: llvmlite<0.32.0,>=0.31.0dev0 in /usr/local/lib/python3.6/dist-packages (from numba<0.51.0->turicreate) (0.31.0)\n",
            "Requirement already satisfied: setuptools in /usr/local/lib/python3.6/dist-packages (from numba<0.51.0->turicreate) (50.3.2)\n",
            "Requirement already satisfied: wheel>=0.26; python_version >= \"3\" in /usr/local/lib/python3.6/dist-packages (from tensorflow<2.1.0,>=2.0.0->turicreate) (0.35.1)\n",
            "Requirement already satisfied: google-pasta>=0.1.6 in /usr/local/lib/python3.6/dist-packages (from tensorflow<2.1.0,>=2.0.0->turicreate) (0.2.0)\n",
            "Requirement already satisfied: absl-py>=0.7.0 in /usr/local/lib/python3.6/dist-packages (from tensorflow<2.1.0,>=2.0.0->turicreate) (0.10.0)\n",
            "Requirement already satisfied: keras-preprocessing>=1.0.5 in /usr/local/lib/python3.6/dist-packages (from tensorflow<2.1.0,>=2.0.0->turicreate) (1.1.2)\n",
            "Collecting gast==0.2.2\n",
            "  Downloading https://files.pythonhosted.org/packages/4e/35/11749bf99b2d4e3cceb4d55ca22590b0d7c2c62b9de38ac4a4a7f4687421/gast-0.2.2.tar.gz\n",
            "Collecting tensorboard<2.1.0,>=2.0.0\n",
            "\u001b[?25l  Downloading https://files.pythonhosted.org/packages/76/54/99b9d5d52d5cb732f099baaaf7740403e83fe6b0cedde940fabd2b13d75a/tensorboard-2.0.2-py3-none-any.whl (3.8MB)\n",
            "\u001b[K     |████████████████████████████████| 3.8MB 39.3MB/s \n",
            "\u001b[?25hRequirement already satisfied: opt-einsum>=2.3.2 in /usr/local/lib/python3.6/dist-packages (from tensorflow<2.1.0,>=2.0.0->turicreate) (3.3.0)\n",
            "Requirement already satisfied: protobuf>=3.6.1 in /usr/local/lib/python3.6/dist-packages (from tensorflow<2.1.0,>=2.0.0->turicreate) (3.12.4)\n",
            "Requirement already satisfied: astor>=0.6.0 in /usr/local/lib/python3.6/dist-packages (from tensorflow<2.1.0,>=2.0.0->turicreate) (0.8.1)\n",
            "Requirement already satisfied: grpcio>=1.8.6 in /usr/local/lib/python3.6/dist-packages (from tensorflow<2.1.0,>=2.0.0->turicreate) (1.33.2)\n",
            "Collecting keras-applications>=1.0.8\n",
            "\u001b[?25l  Downloading https://files.pythonhosted.org/packages/71/e3/19762fdfc62877ae9102edf6342d71b28fbfd9dea3d2f96a882ce099b03f/Keras_Applications-1.0.8-py3-none-any.whl (50kB)\n",
            "\u001b[K     |████████████████████████████████| 51kB 5.5MB/s \n",
            "\u001b[?25hRequirement already satisfied: wrapt>=1.11.1 in /usr/local/lib/python3.6/dist-packages (from tensorflow<2.1.0,>=2.0.0->turicreate) (1.12.1)\n",
            "Collecting tensorflow-estimator<2.1.0,>=2.0.0\n",
            "\u001b[?25l  Downloading https://files.pythonhosted.org/packages/fc/08/8b927337b7019c374719145d1dceba21a8bb909b93b1ad6f8fb7d22c1ca1/tensorflow_estimator-2.0.1-py2.py3-none-any.whl (449kB)\n",
            "\u001b[K     |████████████████████████████████| 450kB 35.9MB/s \n",
            "\u001b[?25hRequirement already satisfied: termcolor>=1.1.0 in /usr/local/lib/python3.6/dist-packages (from tensorflow<2.1.0,>=2.0.0->turicreate) (1.1.0)\n",
            "Requirement already satisfied: python-dateutil>=2.7.3 in /usr/local/lib/python3.6/dist-packages (from pandas>=0.23.2->turicreate) (2.8.1)\n",
            "Requirement already satisfied: pytz>=2017.2 in /usr/local/lib/python3.6/dist-packages (from pandas>=0.23.2->turicreate) (2018.9)\n",
            "Requirement already satisfied: urllib3!=1.25.0,!=1.25.1,<1.26,>=1.21.1 in /usr/local/lib/python3.6/dist-packages (from requests>=2.9.1->turicreate) (1.24.3)\n",
            "Requirement already satisfied: certifi>=2017.4.17 in /usr/local/lib/python3.6/dist-packages (from requests>=2.9.1->turicreate) (2020.6.20)\n",
            "Requirement already satisfied: idna<3,>=2.5 in /usr/local/lib/python3.6/dist-packages (from requests>=2.9.1->turicreate) (2.10)\n",
            "Requirement already satisfied: chardet<4,>=3.0.2 in /usr/local/lib/python3.6/dist-packages (from requests>=2.9.1->turicreate) (3.0.4)\n",
            "Requirement already satisfied: google-auth<2,>=1.6.3 in /usr/local/lib/python3.6/dist-packages (from tensorboard<2.1.0,>=2.0.0->tensorflow<2.1.0,>=2.0.0->turicreate) (1.17.2)\n",
            "Requirement already satisfied: google-auth-oauthlib<0.5,>=0.4.1 in /usr/local/lib/python3.6/dist-packages (from tensorboard<2.1.0,>=2.0.0->tensorflow<2.1.0,>=2.0.0->turicreate) (0.4.2)\n",
            "Requirement already satisfied: werkzeug>=0.11.15 in /usr/local/lib/python3.6/dist-packages (from tensorboard<2.1.0,>=2.0.0->tensorflow<2.1.0,>=2.0.0->turicreate) (1.0.1)\n",
            "Requirement already satisfied: markdown>=2.6.8 in /usr/local/lib/python3.6/dist-packages (from tensorboard<2.1.0,>=2.0.0->tensorflow<2.1.0,>=2.0.0->turicreate) (3.3.3)\n",
            "Requirement already satisfied: h5py in /usr/local/lib/python3.6/dist-packages (from keras-applications>=1.0.8->tensorflow<2.1.0,>=2.0.0->turicreate) (2.10.0)\n",
            "Requirement already satisfied: pyasn1-modules>=0.2.1 in /usr/local/lib/python3.6/dist-packages (from google-auth<2,>=1.6.3->tensorboard<2.1.0,>=2.0.0->tensorflow<2.1.0,>=2.0.0->turicreate) (0.2.8)\n",
            "Requirement already satisfied: rsa<5,>=3.1.4; python_version >= \"3\" in /usr/local/lib/python3.6/dist-packages (from google-auth<2,>=1.6.3->tensorboard<2.1.0,>=2.0.0->tensorflow<2.1.0,>=2.0.0->turicreate) (4.6)\n",
            "Requirement already satisfied: cachetools<5.0,>=2.0.0 in /usr/local/lib/python3.6/dist-packages (from google-auth<2,>=1.6.3->tensorboard<2.1.0,>=2.0.0->tensorflow<2.1.0,>=2.0.0->turicreate) (4.1.1)\n",
            "Requirement already satisfied: requests-oauthlib>=0.7.0 in /usr/local/lib/python3.6/dist-packages (from google-auth-oauthlib<0.5,>=0.4.1->tensorboard<2.1.0,>=2.0.0->tensorflow<2.1.0,>=2.0.0->turicreate) (1.3.0)\n",
            "Requirement already satisfied: importlib-metadata; python_version < \"3.8\" in /usr/local/lib/python3.6/dist-packages (from markdown>=2.6.8->tensorboard<2.1.0,>=2.0.0->tensorflow<2.1.0,>=2.0.0->turicreate) (2.0.0)\n",
            "Requirement already satisfied: pyasn1<0.5.0,>=0.4.6 in /usr/local/lib/python3.6/dist-packages (from pyasn1-modules>=0.2.1->google-auth<2,>=1.6.3->tensorboard<2.1.0,>=2.0.0->tensorflow<2.1.0,>=2.0.0->turicreate) (0.4.8)\n",
            "Requirement already satisfied: oauthlib>=3.0.0 in /usr/local/lib/python3.6/dist-packages (from requests-oauthlib>=0.7.0->google-auth-oauthlib<0.5,>=0.4.1->tensorboard<2.1.0,>=2.0.0->tensorflow<2.1.0,>=2.0.0->turicreate) (3.1.0)\n",
            "Requirement already satisfied: zipp>=0.5 in /usr/local/lib/python3.6/dist-packages (from importlib-metadata; python_version < \"3.8\"->markdown>=2.6.8->tensorboard<2.1.0,>=2.0.0->tensorflow<2.1.0,>=2.0.0->turicreate) (3.4.0)\n",
            "Building wheels for collected packages: resampy, prettytable, gast\n",
            "  Building wheel for resampy (setup.py) ... \u001b[?25l\u001b[?25hdone\n",
            "  Created wheel for resampy: filename=resampy-0.2.1-cp36-none-any.whl size=320848 sha256=57f632f8c788bfb5596f096dc7dfd152b4ce12e3d677de2e8f72f098bbb9db68\n",
            "  Stored in directory: /root/.cache/pip/wheels/ff/4f/ed/2e6c676c23efe5394bb40ade50662e90eb46e29b48324c5f9b\n",
            "  Building wheel for prettytable (setup.py) ... \u001b[?25l\u001b[?25hdone\n",
            "  Created wheel for prettytable: filename=prettytable-0.7.2-cp36-none-any.whl size=13700 sha256=a9cb64ebcc01b8ff54e2cf57ca0f81b25ceaae073a36548e1ae3c05a7b42bb1a\n",
            "  Stored in directory: /root/.cache/pip/wheels/80/34/1c/3967380d9676d162cb59513bd9dc862d0584e045a162095606\n",
            "  Building wheel for gast (setup.py) ... \u001b[?25l\u001b[?25hdone\n",
            "  Created wheel for gast: filename=gast-0.2.2-cp36-none-any.whl size=7542 sha256=11391900c875b6ec91624efbf5805cdba1eab06bd58f49c9687dcdfd1b51a7b4\n",
            "  Stored in directory: /root/.cache/pip/wheels/5c/2e/7e/a1d4d4fcebe6c381f378ce7743a3ced3699feb89bcfbdadadd\n",
            "Successfully built resampy prettytable gast\n",
            "\u001b[31mERROR: tensorflow-probability 0.11.0 has requirement gast>=0.3.2, but you'll have gast 0.2.2 which is incompatible.\u001b[0m\n",
            "Installing collected packages: gast, tensorboard, keras-applications, tensorflow-estimator, tensorflow, resampy, coremltools, prettytable, turicreate\n",
            "  Found existing installation: gast 0.3.3\n",
            "    Uninstalling gast-0.3.3:\n",
            "      Successfully uninstalled gast-0.3.3\n",
            "  Found existing installation: tensorboard 2.3.0\n",
            "    Uninstalling tensorboard-2.3.0:\n",
            "      Successfully uninstalled tensorboard-2.3.0\n",
            "  Found existing installation: tensorflow-estimator 2.3.0\n",
            "    Uninstalling tensorflow-estimator-2.3.0:\n",
            "      Successfully uninstalled tensorflow-estimator-2.3.0\n",
            "  Found existing installation: tensorflow 2.3.0\n",
            "    Uninstalling tensorflow-2.3.0:\n",
            "      Successfully uninstalled tensorflow-2.3.0\n",
            "  Found existing installation: resampy 0.2.2\n",
            "    Uninstalling resampy-0.2.2:\n",
            "      Successfully uninstalled resampy-0.2.2\n",
            "  Found existing installation: prettytable 1.0.1\n",
            "    Uninstalling prettytable-1.0.1:\n",
            "      Successfully uninstalled prettytable-1.0.1\n",
            "Successfully installed coremltools-3.3 gast-0.2.2 keras-applications-1.0.8 prettytable-0.7.2 resampy-0.2.1 tensorboard-2.0.2 tensorflow-2.0.3 tensorflow-estimator-2.0.1 turicreate-6.4.1\n"
          ],
          "name": "stdout"
        }
      ]
    },
    {
      "cell_type": "code",
      "metadata": {
        "id": "Mh-_tqulzexX"
      },
      "source": [
        "import turicreate as tc"
      ],
      "execution_count": null,
      "outputs": []
    },
    {
      "cell_type": "code",
      "metadata": {
        "id": "5OHwmmlkzgNM"
      },
      "source": [
        "data = tc.SFrame(df)"
      ],
      "execution_count": null,
      "outputs": []
    },
    {
      "cell_type": "code",
      "metadata": {
        "id": "9Y1mhfnVzi94",
        "outputId": "bff7da2a-165a-4596-84cf-5c1c19cbb632",
        "colab": {
          "base_uri": "https://localhost:8080/",
          "height": 1000
        }
      },
      "source": [
        "data"
      ],
      "execution_count": null,
      "outputs": [
        {
          "output_type": "execute_result",
          "data": {
            "text/html": [
              "<div style=\"max-height:1000px;max-width:1500px;overflow:auto;\"><table frame=\"box\" rules=\"cols\">\n",
              "    <tr>\n",
              "        <th style=\"padding-left: 1em; padding-right: 1em; text-align: center\">index</th>\n",
              "        <th style=\"padding-left: 1em; padding-right: 1em; text-align: center\">smiles</th>\n",
              "        <th style=\"padding-left: 1em; padding-right: 1em; text-align: center\">owo</th>\n",
              "        <th style=\"padding-left: 1em; padding-right: 1em; text-align: center\">HBondDon</th>\n",
              "        <th style=\"padding-left: 1em; padding-right: 1em; text-align: center\">HBondAccept</th>\n",
              "        <th style=\"padding-left: 1em; padding-right: 1em; text-align: center\">MolMass</th>\n",
              "        <th style=\"padding-left: 1em; padding-right: 1em; text-align: center\">logP</th>\n",
              "        <th style=\"padding-left: 1em; padding-right: 1em; text-align: center\">RotableBonds</th>\n",
              "    </tr>\n",
              "    <tr>\n",
              "        <td style=\"padding-left: 1em; padding-right: 1em; text-align: center; vertical-align: top\">231</td>\n",
              "        <td style=\"padding-left: 1em; padding-right: 1em; text-align: center; vertical-align: top\">Cc1cccc(CNC(=O)NCc2ccnc(O<br>C3CCC3)c2)n1 ...</td>\n",
              "        <td style=\"padding-left: 1em; padding-right: 1em; text-align: center; vertical-align: top\">nope</td>\n",
              "        <td style=\"padding-left: 1em; padding-right: 1em; text-align: center; vertical-align: top\">2</td>\n",
              "        <td style=\"padding-left: 1em; padding-right: 1em; text-align: center; vertical-align: top\">4</td>\n",
              "        <td style=\"padding-left: 1em; padding-right: 1em; text-align: center; vertical-align: top\">326.174275944</td>\n",
              "        <td style=\"padding-left: 1em; padding-right: 1em; text-align: center; vertical-align: top\">2.715720000000001</td>\n",
              "        <td style=\"padding-left: 1em; padding-right: 1em; text-align: center; vertical-align: top\">6</td>\n",
              "    </tr>\n",
              "    <tr>\n",
              "        <td style=\"padding-left: 1em; padding-right: 1em; text-align: center; vertical-align: top\">1948</td>\n",
              "        <td style=\"padding-left: 1em; padding-right: 1em; text-align: center; vertical-align: top\">C1(=O)C(=C([C@@]1(OC)OCC)<br>OCC)CC(=C)C ...</td>\n",
              "        <td style=\"padding-left: 1em; padding-right: 1em; text-align: center; vertical-align: top\">nope</td>\n",
              "        <td style=\"padding-left: 1em; padding-right: 1em; text-align: center; vertical-align: top\">0</td>\n",
              "        <td style=\"padding-left: 1em; padding-right: 1em; text-align: center; vertical-align: top\">4</td>\n",
              "        <td style=\"padding-left: 1em; padding-right: 1em; text-align: center; vertical-align: top\">240.13615912</td>\n",
              "        <td style=\"padding-left: 1em; padding-right: 1em; text-align: center; vertical-align: top\">2.2051</td>\n",
              "        <td style=\"padding-left: 1em; padding-right: 1em; text-align: center; vertical-align: top\">7</td>\n",
              "    </tr>\n",
              "    <tr>\n",
              "        <td style=\"padding-left: 1em; padding-right: 1em; text-align: center; vertical-align: top\">18701</td>\n",
              "        <td style=\"padding-left: 1em; padding-right: 1em; text-align: center; vertical-align: top\">C1(C(=C(C)NC(=C1C(=O)Nc1c<br>cccc1C)C)C(=O)Nc1c(cc ...</td>\n",
              "        <td style=\"padding-left: 1em; padding-right: 1em; text-align: center; vertical-align: top\">nope</td>\n",
              "        <td style=\"padding-left: 1em; padding-right: 1em; text-align: center; vertical-align: top\">3</td>\n",
              "        <td style=\"padding-left: 1em; padding-right: 1em; text-align: center; vertical-align: top\">4</td>\n",
              "        <td style=\"padding-left: 1em; padding-right: 1em; text-align: center; vertical-align: top\">494.26817632800004</td>\n",
              "        <td style=\"padding-left: 1em; padding-right: 1em; text-align: center; vertical-align: top\">5.881640000000005</td>\n",
              "        <td style=\"padding-left: 1em; padding-right: 1em; text-align: center; vertical-align: top\">6</td>\n",
              "    </tr>\n",
              "    <tr>\n",
              "        <td style=\"padding-left: 1em; padding-right: 1em; text-align: center; vertical-align: top\">55264</td>\n",
              "        <td style=\"padding-left: 1em; padding-right: 1em; text-align: center; vertical-align: top\">N1(c2c(cccc2)Sc2c1cccc2)C<br>[C@@H](CN(C)C)C.Cl ...</td>\n",
              "        <td style=\"padding-left: 1em; padding-right: 1em; text-align: center; vertical-align: top\">nope</td>\n",
              "        <td style=\"padding-left: 1em; padding-right: 1em; text-align: center; vertical-align: top\">0</td>\n",
              "        <td style=\"padding-left: 1em; padding-right: 1em; text-align: center; vertical-align: top\">3</td>\n",
              "        <td style=\"padding-left: 1em; padding-right: 1em; text-align: center; vertical-align: top\">334.127047416</td>\n",
              "        <td style=\"padding-left: 1em; padding-right: 1em; text-align: center; vertical-align: top\">4.908800000000006</td>\n",
              "        <td style=\"padding-left: 1em; padding-right: 1em; text-align: center; vertical-align: top\">4</td>\n",
              "    </tr>\n",
              "    <tr>\n",
              "        <td style=\"padding-left: 1em; padding-right: 1em; text-align: center; vertical-align: top\">8950</td>\n",
              "        <td style=\"padding-left: 1em; padding-right: 1em; text-align: center; vertical-align: top\">c1cccc2c1cn(c2c1nc(nc(n1)<br>Oc1ccc2c(c1)CC[C@@H]1 ...</td>\n",
              "        <td style=\"padding-left: 1em; padding-right: 1em; text-align: center; vertical-align: top\">nope</td>\n",
              "        <td style=\"padding-left: 1em; padding-right: 1em; text-align: center; vertical-align: top\">1</td>\n",
              "        <td style=\"padding-left: 1em; padding-right: 1em; text-align: center; vertical-align: top\">6</td>\n",
              "        <td style=\"padding-left: 1em; padding-right: 1em; text-align: center; vertical-align: top\">522.243104452</td>\n",
              "        <td style=\"padding-left: 1em; padding-right: 1em; text-align: center; vertical-align: top\">6.1821000000000055</td>\n",
              "        <td style=\"padding-left: 1em; padding-right: 1em; text-align: center; vertical-align: top\">3</td>\n",
              "    </tr>\n",
              "    <tr>\n",
              "        <td style=\"padding-left: 1em; padding-right: 1em; text-align: center; vertical-align: top\">57475</td>\n",
              "        <td style=\"padding-left: 1em; padding-right: 1em; text-align: center; vertical-align: top\">c1(c(cccn1)C(=O)OCCCN(C)C<br>)Nc1ccc(cc1)Br.Cl ...</td>\n",
              "        <td style=\"padding-left: 1em; padding-right: 1em; text-align: center; vertical-align: top\">nope</td>\n",
              "        <td style=\"padding-left: 1em; padding-right: 1em; text-align: center; vertical-align: top\">1</td>\n",
              "        <td style=\"padding-left: 1em; padding-right: 1em; text-align: center; vertical-align: top\">5</td>\n",
              "        <td style=\"padding-left: 1em; padding-right: 1em; text-align: center; vertical-align: top\">413.050566692</td>\n",
              "        <td style=\"padding-left: 1em; padding-right: 1em; text-align: center; vertical-align: top\">4.118000000000004</td>\n",
              "        <td style=\"padding-left: 1em; padding-right: 1em; text-align: center; vertical-align: top\">7</td>\n",
              "    </tr>\n",
              "    <tr>\n",
              "        <td style=\"padding-left: 1em; padding-right: 1em; text-align: center; vertical-align: top\">21378</td>\n",
              "        <td style=\"padding-left: 1em; padding-right: 1em; text-align: center; vertical-align: top\">c1ccccc1/C=C\\C(=N\\Nc1ccc(<br>cc1Cl)Cl)CCN(C)C.Cl ...</td>\n",
              "        <td style=\"padding-left: 1em; padding-right: 1em; text-align: center; vertical-align: top\">nope</td>\n",
              "        <td style=\"padding-left: 1em; padding-right: 1em; text-align: center; vertical-align: top\">1</td>\n",
              "        <td style=\"padding-left: 1em; padding-right: 1em; text-align: center; vertical-align: top\">3</td>\n",
              "        <td style=\"padding-left: 1em; padding-right: 1em; text-align: center; vertical-align: top\">397.087930744</td>\n",
              "        <td style=\"padding-left: 1em; padding-right: 1em; text-align: center; vertical-align: top\">5.848200000000004</td>\n",
              "        <td style=\"padding-left: 1em; padding-right: 1em; text-align: center; vertical-align: top\">7</td>\n",
              "    </tr>\n",
              "    <tr>\n",
              "        <td style=\"padding-left: 1em; padding-right: 1em; text-align: center; vertical-align: top\">26441</td>\n",
              "        <td style=\"padding-left: 1em; padding-right: 1em; text-align: center; vertical-align: top\">c1cc(ccn1)CCSCc1ccc(c(c1)<br>Cl)Cl.Cl ...</td>\n",
              "        <td style=\"padding-left: 1em; padding-right: 1em; text-align: center; vertical-align: top\">nope</td>\n",
              "        <td style=\"padding-left: 1em; padding-right: 1em; text-align: center; vertical-align: top\">0</td>\n",
              "        <td style=\"padding-left: 1em; padding-right: 1em; text-align: center; vertical-align: top\">2</td>\n",
              "        <td style=\"padding-left: 1em; padding-right: 1em; text-align: center; vertical-align: top\">332.991253488</td>\n",
              "        <td style=\"padding-left: 1em; padding-right: 1em; text-align: center; vertical-align: top\">5.286100000000003</td>\n",
              "        <td style=\"padding-left: 1em; padding-right: 1em; text-align: center; vertical-align: top\">5</td>\n",
              "    </tr>\n",
              "    <tr>\n",
              "        <td style=\"padding-left: 1em; padding-right: 1em; text-align: center; vertical-align: top\">2481</td>\n",
              "        <td style=\"padding-left: 1em; padding-right: 1em; text-align: center; vertical-align: top\">COc1cc(C=O)cc(OC)c1OCc1cc<br>ncc1 ...</td>\n",
              "        <td style=\"padding-left: 1em; padding-right: 1em; text-align: center; vertical-align: top\">nope</td>\n",
              "        <td style=\"padding-left: 1em; padding-right: 1em; text-align: center; vertical-align: top\">0</td>\n",
              "        <td style=\"padding-left: 1em; padding-right: 1em; text-align: center; vertical-align: top\">5</td>\n",
              "        <td style=\"padding-left: 1em; padding-right: 1em; text-align: center; vertical-align: top\">273.10010796</td>\n",
              "        <td style=\"padding-left: 1em; padding-right: 1em; text-align: center; vertical-align: top\">2.4903000000000004</td>\n",
              "        <td style=\"padding-left: 1em; padding-right: 1em; text-align: center; vertical-align: top\">6</td>\n",
              "    </tr>\n",
              "    <tr>\n",
              "        <td style=\"padding-left: 1em; padding-right: 1em; text-align: center; vertical-align: top\">38827</td>\n",
              "        <td style=\"padding-left: 1em; padding-right: 1em; text-align: center; vertical-align: top\">O=C1[C@@]2([C@H]3[C@]([C@<br>@H]1[C@@H](/C(=N/Nc1c ...</td>\n",
              "        <td style=\"padding-left: 1em; padding-right: 1em; text-align: center; vertical-align: top\">nope</td>\n",
              "        <td style=\"padding-left: 1em; padding-right: 1em; text-align: center; vertical-align: top\">2</td>\n",
              "        <td style=\"padding-left: 1em; padding-right: 1em; text-align: center; vertical-align: top\">6</td>\n",
              "        <td style=\"padding-left: 1em; padding-right: 1em; text-align: center; vertical-align: top\">399.17942089999997</td>\n",
              "        <td style=\"padding-left: 1em; padding-right: 1em; text-align: center; vertical-align: top\">3.724800000000002</td>\n",
              "        <td style=\"padding-left: 1em; padding-right: 1em; text-align: center; vertical-align: top\">5</td>\n",
              "    </tr>\n",
              "</table>\n",
              "<table frame=\"box\" rules=\"cols\">\n",
              "    <tr>\n",
              "        <th style=\"padding-left: 1em; padding-right: 1em; text-align: center\">FractionCSP3</th>\n",
              "        <th style=\"padding-left: 1em; padding-right: 1em; text-align: center\">NumHeteroatoms</th>\n",
              "        <th style=\"padding-left: 1em; padding-right: 1em; text-align: center\">MolMR</th>\n",
              "        <th style=\"padding-left: 1em; padding-right: 1em; text-align: center\">HeavyAtomMolWt</th>\n",
              "        <th style=\"padding-left: 1em; padding-right: 1em; text-align: center\">ExactMolWt</th>\n",
              "    </tr>\n",
              "    <tr>\n",
              "        <td style=\"padding-left: 1em; padding-right: 1em; text-align: center; vertical-align: top\">0.3888888888888889</td>\n",
              "        <td style=\"padding-left: 1em; padding-right: 1em; text-align: center; vertical-align: top\">6</td>\n",
              "        <td style=\"padding-left: 1em; padding-right: 1em; text-align: center; vertical-align: top\">90.55340000000004</td>\n",
              "        <td style=\"padding-left: 1em; padding-right: 1em; text-align: center; vertical-align: top\">304.224</td>\n",
              "        <td style=\"padding-left: 1em; padding-right: 1em; text-align: center; vertical-align: top\">326.174275944</td>\n",
              "    </tr>\n",
              "    <tr>\n",
              "        <td style=\"padding-left: 1em; padding-right: 1em; text-align: center; vertical-align: top\">0.6153846153846154</td>\n",
              "        <td style=\"padding-left: 1em; padding-right: 1em; text-align: center; vertical-align: top\">4</td>\n",
              "        <td style=\"padding-left: 1em; padding-right: 1em; text-align: center; vertical-align: top\">64.45600000000005</td>\n",
              "        <td style=\"padding-left: 1em; padding-right: 1em; text-align: center; vertical-align: top\">220.13899999999995</td>\n",
              "        <td style=\"padding-left: 1em; padding-right: 1em; text-align: center; vertical-align: top\">240.13615912</td>\n",
              "    </tr>\n",
              "    <tr>\n",
              "        <td style=\"padding-left: 1em; padding-right: 1em; text-align: center; vertical-align: top\">0.22580645161290322</td>\n",
              "        <td style=\"padding-left: 1em; padding-right: 1em; text-align: center; vertical-align: top\">6</td>\n",
              "        <td style=\"padding-left: 1em; padding-right: 1em; text-align: center; vertical-align: top\">151.66309999999973</td>\n",
              "        <td style=\"padding-left: 1em; padding-right: 1em; text-align: center; vertical-align: top\">460.3670000000003</td>\n",
              "        <td style=\"padding-left: 1em; padding-right: 1em; text-align: center; vertical-align: top\">494.26817632800004</td>\n",
              "    </tr>\n",
              "    <tr>\n",
              "        <td style=\"padding-left: 1em; padding-right: 1em; text-align: center; vertical-align: top\">0.3333333333333333</td>\n",
              "        <td style=\"padding-left: 1em; padding-right: 1em; text-align: center; vertical-align: top\">4</td>\n",
              "        <td style=\"padding-left: 1em; padding-right: 1em; text-align: center; vertical-align: top\">98.97900000000006</td>\n",
              "        <td style=\"padding-left: 1em; padding-right: 1em; text-align: center; vertical-align: top\">311.73199999999997</td>\n",
              "        <td style=\"padding-left: 1em; padding-right: 1em; text-align: center; vertical-align: top\">334.127047416</td>\n",
              "    </tr>\n",
              "    <tr>\n",
              "        <td style=\"padding-left: 1em; padding-right: 1em; text-align: center; vertical-align: top\">0.40625</td>\n",
              "        <td style=\"padding-left: 1em; padding-right: 1em; text-align: center; vertical-align: top\">7</td>\n",
              "        <td style=\"padding-left: 1em; padding-right: 1em; text-align: center; vertical-align: top\">146.61379999999983</td>\n",
              "        <td style=\"padding-left: 1em; padding-right: 1em; text-align: center; vertical-align: top\">491.3760000000004</td>\n",
              "        <td style=\"padding-left: 1em; padding-right: 1em; text-align: center; vertical-align: top\">522.243104452</td>\n",
              "    </tr>\n",
              "    <tr>\n",
              "        <td style=\"padding-left: 1em; padding-right: 1em; text-align: center; vertical-align: top\">0.29411764705882354</td>\n",
              "        <td style=\"padding-left: 1em; padding-right: 1em; text-align: center; vertical-align: top\">7</td>\n",
              "        <td style=\"padding-left: 1em; padding-right: 1em; text-align: center; vertical-align: top\">102.36320000000003</td>\n",
              "        <td style=\"padding-left: 1em; padding-right: 1em; text-align: center; vertical-align: top\">393.563</td>\n",
              "        <td style=\"padding-left: 1em; padding-right: 1em; text-align: center; vertical-align: top\">413.050566692</td>\n",
              "    </tr>\n",
              "    <tr>\n",
              "        <td style=\"padding-left: 1em; padding-right: 1em; text-align: center; vertical-align: top\">0.21052631578947367</td>\n",
              "        <td style=\"padding-left: 1em; padding-right: 1em; text-align: center; vertical-align: top\">6</td>\n",
              "        <td style=\"padding-left: 1em; padding-right: 1em; text-align: center; vertical-align: top\">113.41470000000002</td>\n",
              "        <td style=\"padding-left: 1em; padding-right: 1em; text-align: center; vertical-align: top\">376.58900000000006</td>\n",
              "        <td style=\"padding-left: 1em; padding-right: 1em; text-align: center; vertical-align: top\">397.087930744</td>\n",
              "    </tr>\n",
              "    <tr>\n",
              "        <td style=\"padding-left: 1em; padding-right: 1em; text-align: center; vertical-align: top\">0.21428571428571427</td>\n",
              "        <td style=\"padding-left: 1em; padding-right: 1em; text-align: center; vertical-align: top\">5</td>\n",
              "        <td style=\"padding-left: 1em; padding-right: 1em; text-align: center; vertical-align: top\">87.81300000000002</td>\n",
              "        <td style=\"padding-left: 1em; padding-right: 1em; text-align: center; vertical-align: top\">320.587</td>\n",
              "        <td style=\"padding-left: 1em; padding-right: 1em; text-align: center; vertical-align: top\">332.991253488</td>\n",
              "    </tr>\n",
              "    <tr>\n",
              "        <td style=\"padding-left: 1em; padding-right: 1em; text-align: center; vertical-align: top\">0.2</td>\n",
              "        <td style=\"padding-left: 1em; padding-right: 1em; text-align: center; vertical-align: top\">5</td>\n",
              "        <td style=\"padding-left: 1em; padding-right: 1em; text-align: center; vertical-align: top\">73.50250000000004</td>\n",
              "        <td style=\"padding-left: 1em; padding-right: 1em; text-align: center; vertical-align: top\">258.16799999999995</td>\n",
              "        <td style=\"padding-left: 1em; padding-right: 1em; text-align: center; vertical-align: top\">273.10010796</td>\n",
              "    </tr>\n",
              "    <tr>\n",
              "        <td style=\"padding-left: 1em; padding-right: 1em; text-align: center; vertical-align: top\">0.5714285714285714</td>\n",
              "        <td style=\"padding-left: 1em; padding-right: 1em; text-align: center; vertical-align: top\">8</td>\n",
              "        <td style=\"padding-left: 1em; padding-right: 1em; text-align: center; vertical-align: top\">106.49590000000005</td>\n",
              "        <td style=\"padding-left: 1em; padding-right: 1em; text-align: center; vertical-align: top\">374.2470000000002</td>\n",
              "        <td style=\"padding-left: 1em; padding-right: 1em; text-align: center; vertical-align: top\">399.17942089999997</td>\n",
              "    </tr>\n",
              "</table>\n",
              "<table frame=\"box\" rules=\"cols\">\n",
              "    <tr>\n",
              "        <th style=\"padding-left: 1em; padding-right: 1em; text-align: center\">MaxAbsPartialCharge</th>\n",
              "        <th style=\"padding-left: 1em; padding-right: 1em; text-align: center\">MaxPartialCharge</th>\n",
              "        <th style=\"padding-left: 1em; padding-right: 1em; text-align: center\">MinAbsPartialCharge</th>\n",
              "        <th style=\"padding-left: 1em; padding-right: 1em; text-align: center\">MinPartialCharge</th>\n",
              "        <th style=\"padding-left: 1em; padding-right: 1em; text-align: center\">MolWt</th>\n",
              "        <th style=\"padding-left: 1em; padding-right: 1em; text-align: center\">NumRadicalElectrons</th>\n",
              "    </tr>\n",
              "    <tr>\n",
              "        <td style=\"padding-left: 1em; padding-right: 1em; text-align: center; vertical-align: top\">0.47434430956646834</td>\n",
              "        <td style=\"padding-left: 1em; padding-right: 1em; text-align: center; vertical-align: top\">0.3148791509003986</td>\n",
              "        <td style=\"padding-left: 1em; padding-right: 1em; text-align: center; vertical-align: top\">0.3148791509003986</td>\n",
              "        <td style=\"padding-left: 1em; padding-right: 1em; text-align: center; vertical-align: top\">-0.47434430956646834</td>\n",
              "        <td style=\"padding-left: 1em; padding-right: 1em; text-align: center; vertical-align: top\">326.40000000000015</td>\n",
              "        <td style=\"padding-left: 1em; padding-right: 1em; text-align: center; vertical-align: top\">0</td>\n",
              "    </tr>\n",
              "    <tr>\n",
              "        <td style=\"padding-left: 1em; padding-right: 1em; text-align: center; vertical-align: top\">0.4915100156655726</td>\n",
              "        <td style=\"padding-left: 1em; padding-right: 1em; text-align: center; vertical-align: top\">0.2935385890991256</td>\n",
              "        <td style=\"padding-left: 1em; padding-right: 1em; text-align: center; vertical-align: top\">0.2935385890991256</td>\n",
              "        <td style=\"padding-left: 1em; padding-right: 1em; text-align: center; vertical-align: top\">-0.4915100156655726</td>\n",
              "        <td style=\"padding-left: 1em; padding-right: 1em; text-align: center; vertical-align: top\">240.29899999999992</td>\n",
              "        <td style=\"padding-left: 1em; padding-right: 1em; text-align: center; vertical-align: top\">0</td>\n",
              "    </tr>\n",
              "    <tr>\n",
              "        <td style=\"padding-left: 1em; padding-right: 1em; text-align: center; vertical-align: top\">0.3776612043704539</td>\n",
              "        <td style=\"padding-left: 1em; padding-right: 1em; text-align: center; vertical-align: top\">0.2538187754408201</td>\n",
              "        <td style=\"padding-left: 1em; padding-right: 1em; text-align: center; vertical-align: top\">0.2538187754408201</td>\n",
              "        <td style=\"padding-left: 1em; padding-right: 1em; text-align: center; vertical-align: top\">-0.3776612043704539</td>\n",
              "        <td style=\"padding-left: 1em; padding-right: 1em; text-align: center; vertical-align: top\">494.6390000000002</td>\n",
              "        <td style=\"padding-left: 1em; padding-right: 1em; text-align: center; vertical-align: top\">0</td>\n",
              "    </tr>\n",
              "    <tr>\n",
              "        <td style=\"padding-left: 1em; padding-right: 1em; text-align: center; vertical-align: top\">0.33932262053145623</td>\n",
              "        <td style=\"padding-left: 1em; padding-right: 1em; text-align: center; vertical-align: top\">0.055245127346194</td>\n",
              "        <td style=\"padding-left: 1em; padding-right: 1em; text-align: center; vertical-align: top\">0.055245127346194</td>\n",
              "        <td style=\"padding-left: 1em; padding-right: 1em; text-align: center; vertical-align: top\">-0.33932262053145623</td>\n",
              "        <td style=\"padding-left: 1em; padding-right: 1em; text-align: center; vertical-align: top\">334.916</td>\n",
              "        <td style=\"padding-left: 1em; padding-right: 1em; text-align: center; vertical-align: top\">0</td>\n",
              "    </tr>\n",
              "    <tr>\n",
              "        <td style=\"padding-left: 1em; padding-right: 1em; text-align: center; vertical-align: top\">0.42414476419971964</td>\n",
              "        <td style=\"padding-left: 1em; padding-right: 1em; text-align: center; vertical-align: top\">0.3276217973104152</td>\n",
              "        <td style=\"padding-left: 1em; padding-right: 1em; text-align: center; vertical-align: top\">0.3276217973104152</td>\n",
              "        <td style=\"padding-left: 1em; padding-right: 1em; text-align: center; vertical-align: top\">-0.42414476419971964</td>\n",
              "        <td style=\"padding-left: 1em; padding-right: 1em; text-align: center; vertical-align: top\">522.6240000000004</td>\n",
              "        <td style=\"padding-left: 1em; padding-right: 1em; text-align: center; vertical-align: top\">0</td>\n",
              "    </tr>\n",
              "    <tr>\n",
              "        <td style=\"padding-left: 1em; padding-right: 1em; text-align: center; vertical-align: top\">0.46194655643102656</td>\n",
              "        <td style=\"padding-left: 1em; padding-right: 1em; text-align: center; vertical-align: top\">0.34141548622076073</td>\n",
              "        <td style=\"padding-left: 1em; padding-right: 1em; text-align: center; vertical-align: top\">0.34141548622076073</td>\n",
              "        <td style=\"padding-left: 1em; padding-right: 1em; text-align: center; vertical-align: top\">-0.46194655643102656</td>\n",
              "        <td style=\"padding-left: 1em; padding-right: 1em; text-align: center; vertical-align: top\">414.73099999999994</td>\n",
              "        <td style=\"padding-left: 1em; padding-right: 1em; text-align: center; vertical-align: top\">0</td>\n",
              "    </tr>\n",
              "    <tr>\n",
              "        <td style=\"padding-left: 1em; padding-right: 1em; text-align: center; vertical-align: top\">0.3090105004992349</td>\n",
              "        <td style=\"padding-left: 1em; padding-right: 1em; text-align: center; vertical-align: top\">0.0748724560238248</td>\n",
              "        <td style=\"padding-left: 1em; padding-right: 1em; text-align: center; vertical-align: top\">0.0748724560238248</td>\n",
              "        <td style=\"padding-left: 1em; padding-right: 1em; text-align: center; vertical-align: top\">-0.3090105004992349</td>\n",
              "        <td style=\"padding-left: 1em; padding-right: 1em; text-align: center; vertical-align: top\">398.76500000000016</td>\n",
              "        <td style=\"padding-left: 1em; padding-right: 1em; text-align: center; vertical-align: top\">0</td>\n",
              "    </tr>\n",
              "    <tr>\n",
              "        <td style=\"padding-left: 1em; padding-right: 1em; text-align: center; vertical-align: top\">0.2647162657528068</td>\n",
              "        <td style=\"padding-left: 1em; padding-right: 1em; text-align: center; vertical-align: top\">0.05948510525596629</td>\n",
              "        <td style=\"padding-left: 1em; padding-right: 1em; text-align: center; vertical-align: top\">0.05948510525596629</td>\n",
              "        <td style=\"padding-left: 1em; padding-right: 1em; text-align: center; vertical-align: top\">-0.2647162657528068</td>\n",
              "        <td style=\"padding-left: 1em; padding-right: 1em; text-align: center; vertical-align: top\">334.6989999999999</td>\n",
              "        <td style=\"padding-left: 1em; padding-right: 1em; text-align: center; vertical-align: top\">0</td>\n",
              "    </tr>\n",
              "    <tr>\n",
              "        <td style=\"padding-left: 1em; padding-right: 1em; text-align: center; vertical-align: top\">0.492689914704614</td>\n",
              "        <td style=\"padding-left: 1em; padding-right: 1em; text-align: center; vertical-align: top\">0.2034177527206018</td>\n",
              "        <td style=\"padding-left: 1em; padding-right: 1em; text-align: center; vertical-align: top\">0.2034177527206018</td>\n",
              "        <td style=\"padding-left: 1em; padding-right: 1em; text-align: center; vertical-align: top\">-0.492689914704614</td>\n",
              "        <td style=\"padding-left: 1em; padding-right: 1em; text-align: center; vertical-align: top\">273.28799999999995</td>\n",
              "        <td style=\"padding-left: 1em; padding-right: 1em; text-align: center; vertical-align: top\">0</td>\n",
              "    </tr>\n",
              "    <tr>\n",
              "        <td style=\"padding-left: 1em; padding-right: 1em; text-align: center; vertical-align: top\">0.4810086612124674</td>\n",
              "        <td style=\"padding-left: 1em; padding-right: 1em; text-align: center; vertical-align: top\">0.3067398274540872</td>\n",
              "        <td style=\"padding-left: 1em; padding-right: 1em; text-align: center; vertical-align: top\">0.3067398274540872</td>\n",
              "        <td style=\"padding-left: 1em; padding-right: 1em; text-align: center; vertical-align: top\">-0.4810086612124674</td>\n",
              "        <td style=\"padding-left: 1em; padding-right: 1em; text-align: center; vertical-align: top\">399.44700000000023</td>\n",
              "        <td style=\"padding-left: 1em; padding-right: 1em; text-align: center; vertical-align: top\">0</td>\n",
              "    </tr>\n",
              "</table>\n",
              "<table frame=\"box\" rules=\"cols\">\n",
              "    <tr>\n",
              "        <th style=\"padding-left: 1em; padding-right: 1em; text-align: center\">NumValenceElectrons</th>\n",
              "        <th style=\"padding-left: 1em; padding-right: 1em; text-align: center\">HeavyAtomCount</th>\n",
              "        <th style=\"padding-left: 1em; padding-right: 1em; text-align: center\">NHOHCount</th>\n",
              "        <th style=\"padding-left: 1em; padding-right: 1em; text-align: center\">NOCount</th>\n",
              "        <th style=\"padding-left: 1em; padding-right: 1em; text-align: center\">NumAliphaticCarbocycles</th>\n",
              "        <th style=\"padding-left: 1em; padding-right: 1em; text-align: center\">NumAliphaticHeterocycles</th>\n",
              "        <th style=\"padding-left: 1em; padding-right: 1em; text-align: center\">NumAliphaticRings</th>\n",
              "    </tr>\n",
              "    <tr>\n",
              "        <td style=\"padding-left: 1em; padding-right: 1em; text-align: center; vertical-align: top\">126</td>\n",
              "        <td style=\"padding-left: 1em; padding-right: 1em; text-align: center; vertical-align: top\">24</td>\n",
              "        <td style=\"padding-left: 1em; padding-right: 1em; text-align: center; vertical-align: top\">2</td>\n",
              "        <td style=\"padding-left: 1em; padding-right: 1em; text-align: center; vertical-align: top\">6</td>\n",
              "        <td style=\"padding-left: 1em; padding-right: 1em; text-align: center; vertical-align: top\">1</td>\n",
              "        <td style=\"padding-left: 1em; padding-right: 1em; text-align: center; vertical-align: top\">0</td>\n",
              "        <td style=\"padding-left: 1em; padding-right: 1em; text-align: center; vertical-align: top\">1</td>\n",
              "    </tr>\n",
              "    <tr>\n",
              "        <td style=\"padding-left: 1em; padding-right: 1em; text-align: center; vertical-align: top\">96</td>\n",
              "        <td style=\"padding-left: 1em; padding-right: 1em; text-align: center; vertical-align: top\">17</td>\n",
              "        <td style=\"padding-left: 1em; padding-right: 1em; text-align: center; vertical-align: top\">0</td>\n",
              "        <td style=\"padding-left: 1em; padding-right: 1em; text-align: center; vertical-align: top\">4</td>\n",
              "        <td style=\"padding-left: 1em; padding-right: 1em; text-align: center; vertical-align: top\">1</td>\n",
              "        <td style=\"padding-left: 1em; padding-right: 1em; text-align: center; vertical-align: top\">0</td>\n",
              "        <td style=\"padding-left: 1em; padding-right: 1em; text-align: center; vertical-align: top\">1</td>\n",
              "    </tr>\n",
              "    <tr>\n",
              "        <td style=\"padding-left: 1em; padding-right: 1em; text-align: center; vertical-align: top\">190</td>\n",
              "        <td style=\"padding-left: 1em; padding-right: 1em; text-align: center; vertical-align: top\">37</td>\n",
              "        <td style=\"padding-left: 1em; padding-right: 1em; text-align: center; vertical-align: top\">3</td>\n",
              "        <td style=\"padding-left: 1em; padding-right: 1em; text-align: center; vertical-align: top\">6</td>\n",
              "        <td style=\"padding-left: 1em; padding-right: 1em; text-align: center; vertical-align: top\">0</td>\n",
              "        <td style=\"padding-left: 1em; padding-right: 1em; text-align: center; vertical-align: top\">1</td>\n",
              "        <td style=\"padding-left: 1em; padding-right: 1em; text-align: center; vertical-align: top\">1</td>\n",
              "    </tr>\n",
              "    <tr>\n",
              "        <td style=\"padding-left: 1em; padding-right: 1em; text-align: center; vertical-align: top\">118</td>\n",
              "        <td style=\"padding-left: 1em; padding-right: 1em; text-align: center; vertical-align: top\">22</td>\n",
              "        <td style=\"padding-left: 1em; padding-right: 1em; text-align: center; vertical-align: top\">0</td>\n",
              "        <td style=\"padding-left: 1em; padding-right: 1em; text-align: center; vertical-align: top\">2</td>\n",
              "        <td style=\"padding-left: 1em; padding-right: 1em; text-align: center; vertical-align: top\">0</td>\n",
              "        <td style=\"padding-left: 1em; padding-right: 1em; text-align: center; vertical-align: top\">1</td>\n",
              "        <td style=\"padding-left: 1em; padding-right: 1em; text-align: center; vertical-align: top\">1</td>\n",
              "    </tr>\n",
              "    <tr>\n",
              "        <td style=\"padding-left: 1em; padding-right: 1em; text-align: center; vertical-align: top\">198</td>\n",
              "        <td style=\"padding-left: 1em; padding-right: 1em; text-align: center; vertical-align: top\">39</td>\n",
              "        <td style=\"padding-left: 1em; padding-right: 1em; text-align: center; vertical-align: top\">1</td>\n",
              "        <td style=\"padding-left: 1em; padding-right: 1em; text-align: center; vertical-align: top\">6</td>\n",
              "        <td style=\"padding-left: 1em; padding-right: 1em; text-align: center; vertical-align: top\">3</td>\n",
              "        <td style=\"padding-left: 1em; padding-right: 1em; text-align: center; vertical-align: top\">0</td>\n",
              "        <td style=\"padding-left: 1em; padding-right: 1em; text-align: center; vertical-align: top\">3</td>\n",
              "    </tr>\n",
              "    <tr>\n",
              "        <td style=\"padding-left: 1em; padding-right: 1em; text-align: center; vertical-align: top\">130</td>\n",
              "        <td style=\"padding-left: 1em; padding-right: 1em; text-align: center; vertical-align: top\">24</td>\n",
              "        <td style=\"padding-left: 1em; padding-right: 1em; text-align: center; vertical-align: top\">1</td>\n",
              "        <td style=\"padding-left: 1em; padding-right: 1em; text-align: center; vertical-align: top\">5</td>\n",
              "        <td style=\"padding-left: 1em; padding-right: 1em; text-align: center; vertical-align: top\">0</td>\n",
              "        <td style=\"padding-left: 1em; padding-right: 1em; text-align: center; vertical-align: top\">0</td>\n",
              "        <td style=\"padding-left: 1em; padding-right: 1em; text-align: center; vertical-align: top\">0</td>\n",
              "    </tr>\n",
              "    <tr>\n",
              "        <td style=\"padding-left: 1em; padding-right: 1em; text-align: center; vertical-align: top\">134</td>\n",
              "        <td style=\"padding-left: 1em; padding-right: 1em; text-align: center; vertical-align: top\">25</td>\n",
              "        <td style=\"padding-left: 1em; padding-right: 1em; text-align: center; vertical-align: top\">1</td>\n",
              "        <td style=\"padding-left: 1em; padding-right: 1em; text-align: center; vertical-align: top\">3</td>\n",
              "        <td style=\"padding-left: 1em; padding-right: 1em; text-align: center; vertical-align: top\">0</td>\n",
              "        <td style=\"padding-left: 1em; padding-right: 1em; text-align: center; vertical-align: top\">0</td>\n",
              "        <td style=\"padding-left: 1em; padding-right: 1em; text-align: center; vertical-align: top\">0</td>\n",
              "    </tr>\n",
              "    <tr>\n",
              "        <td style=\"padding-left: 1em; padding-right: 1em; text-align: center; vertical-align: top\">102</td>\n",
              "        <td style=\"padding-left: 1em; padding-right: 1em; text-align: center; vertical-align: top\">19</td>\n",
              "        <td style=\"padding-left: 1em; padding-right: 1em; text-align: center; vertical-align: top\">0</td>\n",
              "        <td style=\"padding-left: 1em; padding-right: 1em; text-align: center; vertical-align: top\">1</td>\n",
              "        <td style=\"padding-left: 1em; padding-right: 1em; text-align: center; vertical-align: top\">0</td>\n",
              "        <td style=\"padding-left: 1em; padding-right: 1em; text-align: center; vertical-align: top\">0</td>\n",
              "        <td style=\"padding-left: 1em; padding-right: 1em; text-align: center; vertical-align: top\">0</td>\n",
              "    </tr>\n",
              "    <tr>\n",
              "        <td style=\"padding-left: 1em; padding-right: 1em; text-align: center; vertical-align: top\">104</td>\n",
              "        <td style=\"padding-left: 1em; padding-right: 1em; text-align: center; vertical-align: top\">20</td>\n",
              "        <td style=\"padding-left: 1em; padding-right: 1em; text-align: center; vertical-align: top\">0</td>\n",
              "        <td style=\"padding-left: 1em; padding-right: 1em; text-align: center; vertical-align: top\">5</td>\n",
              "        <td style=\"padding-left: 1em; padding-right: 1em; text-align: center; vertical-align: top\">0</td>\n",
              "        <td style=\"padding-left: 1em; padding-right: 1em; text-align: center; vertical-align: top\">0</td>\n",
              "        <td style=\"padding-left: 1em; padding-right: 1em; text-align: center; vertical-align: top\">0</td>\n",
              "    </tr>\n",
              "    <tr>\n",
              "        <td style=\"padding-left: 1em; padding-right: 1em; text-align: center; vertical-align: top\">154</td>\n",
              "        <td style=\"padding-left: 1em; padding-right: 1em; text-align: center; vertical-align: top\">29</td>\n",
              "        <td style=\"padding-left: 1em; padding-right: 1em; text-align: center; vertical-align: top\">2</td>\n",
              "        <td style=\"padding-left: 1em; padding-right: 1em; text-align: center; vertical-align: top\">8</td>\n",
              "        <td style=\"padding-left: 1em; padding-right: 1em; text-align: center; vertical-align: top\">3</td>\n",
              "        <td style=\"padding-left: 1em; padding-right: 1em; text-align: center; vertical-align: top\">0</td>\n",
              "        <td style=\"padding-left: 1em; padding-right: 1em; text-align: center; vertical-align: top\">3</td>\n",
              "    </tr>\n",
              "</table>\n",
              "<table frame=\"box\" rules=\"cols\">\n",
              "    <tr>\n",
              "        <th style=\"padding-left: 1em; padding-right: 1em; text-align: center\">NumAromaticCarbocycles</th>\n",
              "        <th style=\"padding-left: 1em; padding-right: 1em; text-align: center\">NumAromaticHeterocycles</th>\n",
              "        <th style=\"padding-left: 1em; padding-right: 1em; text-align: center\">NumAromaticRings</th>\n",
              "        <th style=\"padding-left: 1em; padding-right: 1em; text-align: center\">NumSaturatedCarbocycles</th>\n",
              "        <th style=\"padding-left: 1em; padding-right: 1em; text-align: center\">NumSaturatedHeterocycles</th>\n",
              "    </tr>\n",
              "    <tr>\n",
              "        <td style=\"padding-left: 1em; padding-right: 1em; text-align: center; vertical-align: top\">0</td>\n",
              "        <td style=\"padding-left: 1em; padding-right: 1em; text-align: center; vertical-align: top\">2</td>\n",
              "        <td style=\"padding-left: 1em; padding-right: 1em; text-align: center; vertical-align: top\">2</td>\n",
              "        <td style=\"padding-left: 1em; padding-right: 1em; text-align: center; vertical-align: top\">1</td>\n",
              "        <td style=\"padding-left: 1em; padding-right: 1em; text-align: center; vertical-align: top\">0</td>\n",
              "    </tr>\n",
              "    <tr>\n",
              "        <td style=\"padding-left: 1em; padding-right: 1em; text-align: center; vertical-align: top\">0</td>\n",
              "        <td style=\"padding-left: 1em; padding-right: 1em; text-align: center; vertical-align: top\">0</td>\n",
              "        <td style=\"padding-left: 1em; padding-right: 1em; text-align: center; vertical-align: top\">0</td>\n",
              "        <td style=\"padding-left: 1em; padding-right: 1em; text-align: center; vertical-align: top\">0</td>\n",
              "        <td style=\"padding-left: 1em; padding-right: 1em; text-align: center; vertical-align: top\">0</td>\n",
              "    </tr>\n",
              "    <tr>\n",
              "        <td style=\"padding-left: 1em; padding-right: 1em; text-align: center; vertical-align: top\">3</td>\n",
              "        <td style=\"padding-left: 1em; padding-right: 1em; text-align: center; vertical-align: top\">0</td>\n",
              "        <td style=\"padding-left: 1em; padding-right: 1em; text-align: center; vertical-align: top\">3</td>\n",
              "        <td style=\"padding-left: 1em; padding-right: 1em; text-align: center; vertical-align: top\">0</td>\n",
              "        <td style=\"padding-left: 1em; padding-right: 1em; text-align: center; vertical-align: top\">0</td>\n",
              "    </tr>\n",
              "    <tr>\n",
              "        <td style=\"padding-left: 1em; padding-right: 1em; text-align: center; vertical-align: top\">2</td>\n",
              "        <td style=\"padding-left: 1em; padding-right: 1em; text-align: center; vertical-align: top\">0</td>\n",
              "        <td style=\"padding-left: 1em; padding-right: 1em; text-align: center; vertical-align: top\">2</td>\n",
              "        <td style=\"padding-left: 1em; padding-right: 1em; text-align: center; vertical-align: top\">0</td>\n",
              "        <td style=\"padding-left: 1em; padding-right: 1em; text-align: center; vertical-align: top\">0</td>\n",
              "    </tr>\n",
              "    <tr>\n",
              "        <td style=\"padding-left: 1em; padding-right: 1em; text-align: center; vertical-align: top\">2</td>\n",
              "        <td style=\"padding-left: 1em; padding-right: 1em; text-align: center; vertical-align: top\">2</td>\n",
              "        <td style=\"padding-left: 1em; padding-right: 1em; text-align: center; vertical-align: top\">4</td>\n",
              "        <td style=\"padding-left: 1em; padding-right: 1em; text-align: center; vertical-align: top\">2</td>\n",
              "        <td style=\"padding-left: 1em; padding-right: 1em; text-align: center; vertical-align: top\">0</td>\n",
              "    </tr>\n",
              "    <tr>\n",
              "        <td style=\"padding-left: 1em; padding-right: 1em; text-align: center; vertical-align: top\">1</td>\n",
              "        <td style=\"padding-left: 1em; padding-right: 1em; text-align: center; vertical-align: top\">1</td>\n",
              "        <td style=\"padding-left: 1em; padding-right: 1em; text-align: center; vertical-align: top\">2</td>\n",
              "        <td style=\"padding-left: 1em; padding-right: 1em; text-align: center; vertical-align: top\">0</td>\n",
              "        <td style=\"padding-left: 1em; padding-right: 1em; text-align: center; vertical-align: top\">0</td>\n",
              "    </tr>\n",
              "    <tr>\n",
              "        <td style=\"padding-left: 1em; padding-right: 1em; text-align: center; vertical-align: top\">2</td>\n",
              "        <td style=\"padding-left: 1em; padding-right: 1em; text-align: center; vertical-align: top\">0</td>\n",
              "        <td style=\"padding-left: 1em; padding-right: 1em; text-align: center; vertical-align: top\">2</td>\n",
              "        <td style=\"padding-left: 1em; padding-right: 1em; text-align: center; vertical-align: top\">0</td>\n",
              "        <td style=\"padding-left: 1em; padding-right: 1em; text-align: center; vertical-align: top\">0</td>\n",
              "    </tr>\n",
              "    <tr>\n",
              "        <td style=\"padding-left: 1em; padding-right: 1em; text-align: center; vertical-align: top\">1</td>\n",
              "        <td style=\"padding-left: 1em; padding-right: 1em; text-align: center; vertical-align: top\">1</td>\n",
              "        <td style=\"padding-left: 1em; padding-right: 1em; text-align: center; vertical-align: top\">2</td>\n",
              "        <td style=\"padding-left: 1em; padding-right: 1em; text-align: center; vertical-align: top\">0</td>\n",
              "        <td style=\"padding-left: 1em; padding-right: 1em; text-align: center; vertical-align: top\">0</td>\n",
              "    </tr>\n",
              "    <tr>\n",
              "        <td style=\"padding-left: 1em; padding-right: 1em; text-align: center; vertical-align: top\">1</td>\n",
              "        <td style=\"padding-left: 1em; padding-right: 1em; text-align: center; vertical-align: top\">1</td>\n",
              "        <td style=\"padding-left: 1em; padding-right: 1em; text-align: center; vertical-align: top\">2</td>\n",
              "        <td style=\"padding-left: 1em; padding-right: 1em; text-align: center; vertical-align: top\">0</td>\n",
              "        <td style=\"padding-left: 1em; padding-right: 1em; text-align: center; vertical-align: top\">0</td>\n",
              "    </tr>\n",
              "    <tr>\n",
              "        <td style=\"padding-left: 1em; padding-right: 1em; text-align: center; vertical-align: top\">1</td>\n",
              "        <td style=\"padding-left: 1em; padding-right: 1em; text-align: center; vertical-align: top\">0</td>\n",
              "        <td style=\"padding-left: 1em; padding-right: 1em; text-align: center; vertical-align: top\">1</td>\n",
              "        <td style=\"padding-left: 1em; padding-right: 1em; text-align: center; vertical-align: top\">3</td>\n",
              "        <td style=\"padding-left: 1em; padding-right: 1em; text-align: center; vertical-align: top\">0</td>\n",
              "    </tr>\n",
              "</table>\n",
              "<table frame=\"box\" rules=\"cols\">\n",
              "    <tr>\n",
              "        <th style=\"padding-left: 1em; padding-right: 1em; text-align: center\">NumSaturatedRings</th>\n",
              "        <th style=\"padding-left: 1em; padding-right: 1em; text-align: center\">RingCount</th>\n",
              "        <th style=\"padding-left: 1em; padding-right: 1em; text-align: center\">EState_VSA1</th>\n",
              "        <th style=\"padding-left: 1em; padding-right: 1em; text-align: center\">EState_VSA2</th>\n",
              "        <th style=\"padding-left: 1em; padding-right: 1em; text-align: center\">EState_VSA3</th>\n",
              "        <th style=\"padding-left: 1em; padding-right: 1em; text-align: center\">EState_VSA4</th>\n",
              "    </tr>\n",
              "    <tr>\n",
              "        <td style=\"padding-left: 1em; padding-right: 1em; text-align: center; vertical-align: top\">1</td>\n",
              "        <td style=\"padding-left: 1em; padding-right: 1em; text-align: center; vertical-align: top\">3</td>\n",
              "        <td style=\"padding-left: 1em; padding-right: 1em; text-align: center; vertical-align: top\">0.0</td>\n",
              "        <td style=\"padding-left: 1em; padding-right: 1em; text-align: center; vertical-align: top\">6.031114512338072</td>\n",
              "        <td style=\"padding-left: 1em; padding-right: 1em; text-align: center; vertical-align: top\">25.07346753600882</td>\n",
              "        <td style=\"padding-left: 1em; padding-right: 1em; text-align: center; vertical-align: top\">29.792950727245938</td>\n",
              "    </tr>\n",
              "    <tr>\n",
              "        <td style=\"padding-left: 1em; padding-right: 1em; text-align: center; vertical-align: top\">0</td>\n",
              "        <td style=\"padding-left: 1em; padding-right: 1em; text-align: center; vertical-align: top\">1</td>\n",
              "        <td style=\"padding-left: 1em; padding-right: 1em; text-align: center; vertical-align: top\">5.7871111525705965</td>\n",
              "        <td style=\"padding-left: 1em; padding-right: 1em; text-align: center; vertical-align: top\">5.783244946364939</td>\n",
              "        <td style=\"padding-left: 1em; padding-right: 1em; text-align: center; vertical-align: top\">30.96685495367729</td>\n",
              "        <td style=\"padding-left: 1em; padding-right: 1em; text-align: center; vertical-align: top\">5.573104530069267</td>\n",
              "    </tr>\n",
              "    <tr>\n",
              "        <td style=\"padding-left: 1em; padding-right: 1em; text-align: center; vertical-align: top\">0</td>\n",
              "        <td style=\"padding-left: 1em; padding-right: 1em; text-align: center; vertical-align: top\">4</td>\n",
              "        <td style=\"padding-left: 1em; padding-right: 1em; text-align: center; vertical-align: top\">5.917906046161393</td>\n",
              "        <td style=\"padding-left: 1em; padding-right: 1em; text-align: center; vertical-align: top\">11.814359458703011</td>\n",
              "        <td style=\"padding-left: 1em; padding-right: 1em; text-align: center; vertical-align: top\">11.146209060138535</td>\n",
              "        <td style=\"padding-left: 1em; padding-right: 1em; text-align: center; vertical-align: top\">45.14659192525334</td>\n",
              "    </tr>\n",
              "    <tr>\n",
              "        <td style=\"padding-left: 1em; padding-right: 1em; text-align: center; vertical-align: top\">0</td>\n",
              "        <td style=\"padding-left: 1em; padding-right: 1em; text-align: center; vertical-align: top\">3</td>\n",
              "        <td style=\"padding-left: 1em; padding-right: 1em; text-align: center; vertical-align: top\">0.0</td>\n",
              "        <td style=\"padding-left: 1em; padding-right: 1em; text-align: center; vertical-align: top\">12.407033161179976</td>\n",
              "        <td style=\"padding-left: 1em; padding-right: 1em; text-align: center; vertical-align: top\">5.917906046161393</td>\n",
              "        <td style=\"padding-left: 1em; padding-right: 1em; text-align: center; vertical-align: top\">13.08951281182515</td>\n",
              "    </tr>\n",
              "    <tr>\n",
              "        <td style=\"padding-left: 1em; padding-right: 1em; text-align: center; vertical-align: top\">2</td>\n",
              "        <td style=\"padding-left: 1em; padding-right: 1em; text-align: center; vertical-align: top\">7</td>\n",
              "        <td style=\"padding-left: 1em; padding-right: 1em; text-align: center; vertical-align: top\">11.679224658332515</td>\n",
              "        <td style=\"padding-left: 1em; padding-right: 1em; text-align: center; vertical-align: top\">17.249859806983544</td>\n",
              "        <td style=\"padding-left: 1em; padding-right: 1em; text-align: center; vertical-align: top\">35.61797958954256</td>\n",
              "        <td style=\"padding-left: 1em; padding-right: 1em; text-align: center; vertical-align: top\">42.876556543559644</td>\n",
              "    </tr>\n",
              "    <tr>\n",
              "        <td style=\"padding-left: 1em; padding-right: 1em; text-align: center; vertical-align: top\">0</td>\n",
              "        <td style=\"padding-left: 1em; padding-right: 1em; text-align: center; vertical-align: top\">2</td>\n",
              "        <td style=\"padding-left: 1em; padding-right: 1em; text-align: center; vertical-align: top\">0.0</td>\n",
              "        <td style=\"padding-left: 1em; padding-right: 1em; text-align: center; vertical-align: top\">18.376338449131826</td>\n",
              "        <td style=\"padding-left: 1em; padding-right: 1em; text-align: center; vertical-align: top\">17.988196234044942</td>\n",
              "        <td style=\"padding-left: 1em; padding-right: 1em; text-align: center; vertical-align: top\">23.12568381935456</td>\n",
              "    </tr>\n",
              "    <tr>\n",
              "        <td style=\"padding-left: 1em; padding-right: 1em; text-align: center; vertical-align: top\">0</td>\n",
              "        <td style=\"padding-left: 1em; padding-right: 1em; text-align: center; vertical-align: top\">2</td>\n",
              "        <td style=\"padding-left: 1em; padding-right: 1em; text-align: center; vertical-align: top\">0.0</td>\n",
              "        <td style=\"padding-left: 1em; padding-right: 1em; text-align: center; vertical-align: top\">12.407033161179976</td>\n",
              "        <td style=\"padding-left: 1em; padding-right: 1em; text-align: center; vertical-align: top\">10.045266627482652</td>\n",
              "        <td style=\"padding-left: 1em; padding-right: 1em; text-align: center; vertical-align: top\">29.928100797989845</td>\n",
              "    </tr>\n",
              "    <tr>\n",
              "        <td style=\"padding-left: 1em; padding-right: 1em; text-align: center; vertical-align: top\">0</td>\n",
              "        <td style=\"padding-left: 1em; padding-right: 1em; text-align: center; vertical-align: top\">2</td>\n",
              "        <td style=\"padding-left: 1em; padding-right: 1em; text-align: center; vertical-align: top\">0.0</td>\n",
              "        <td style=\"padding-left: 1em; padding-right: 1em; text-align: center; vertical-align: top\">12.407033161179976</td>\n",
              "        <td style=\"padding-left: 1em; padding-right: 1em; text-align: center; vertical-align: top\">10.045266627482652</td>\n",
              "        <td style=\"padding-left: 1em; padding-right: 1em; text-align: center; vertical-align: top\">17.92652883641959</td>\n",
              "    </tr>\n",
              "    <tr>\n",
              "        <td style=\"padding-left: 1em; padding-right: 1em; text-align: center; vertical-align: top\">0</td>\n",
              "        <td style=\"padding-left: 1em; padding-right: 1em; text-align: center; vertical-align: top\">2</td>\n",
              "        <td style=\"padding-left: 1em; padding-right: 1em; text-align: center; vertical-align: top\">0.0</td>\n",
              "        <td style=\"padding-left: 1em; padding-right: 1em; text-align: center; vertical-align: top\">0.0</td>\n",
              "        <td style=\"padding-left: 1em; padding-right: 1em; text-align: center; vertical-align: top\">29.41886895606163</td>\n",
              "        <td style=\"padding-left: 1em; padding-right: 1em; text-align: center; vertical-align: top\">11.849612014826551</td>\n",
              "    </tr>\n",
              "    <tr>\n",
              "        <td style=\"padding-left: 1em; padding-right: 1em; text-align: center; vertical-align: top\">3</td>\n",
              "        <td style=\"padding-left: 1em; padding-right: 1em; text-align: center; vertical-align: top\">4</td>\n",
              "        <td style=\"padding-left: 1em; padding-right: 1em; text-align: center; vertical-align: top\">22.22551285232769</td>\n",
              "        <td style=\"padding-left: 1em; padding-right: 1em; text-align: center; vertical-align: top\">34.63933982892946</td>\n",
              "        <td style=\"padding-left: 1em; padding-right: 1em; text-align: center; vertical-align: top\">18.52902952053558</td>\n",
              "        <td style=\"padding-left: 1em; padding-right: 1em; text-align: center; vertical-align: top\">12.132506625696712</td>\n",
              "    </tr>\n",
              "</table>\n",
              "<table frame=\"box\" rules=\"cols\">\n",
              "    <tr>\n",
              "        <th style=\"padding-left: 1em; padding-right: 1em; text-align: center\">EState_VSA5</th>\n",
              "        <th style=\"padding-left: 1em; padding-right: 1em; text-align: center\">BalabanJ</th>\n",
              "        <th style=\"padding-left: 1em; padding-right: 1em; text-align: center\">BertzCT</th>\n",
              "    </tr>\n",
              "    <tr>\n",
              "        <td style=\"padding-left: 1em; padding-right: 1em; text-align: center; vertical-align: top\">6.4208216229260096</td>\n",
              "        <td style=\"padding-left: 1em; padding-right: 1em; text-align: center; vertical-align: top\">1.4419080290722979</td>\n",
              "        <td style=\"padding-left: 1em; padding-right: 1em; text-align: center; vertical-align: top\">700.9230454007306</td>\n",
              "    </tr>\n",
              "    <tr>\n",
              "        <td style=\"padding-left: 1em; padding-right: 1em; text-align: center; vertical-align: top\">7.109797541277533</td>\n",
              "        <td style=\"padding-left: 1em; padding-right: 1em; text-align: center; vertical-align: top\">3.058484800350976</td>\n",
              "        <td style=\"padding-left: 1em; padding-right: 1em; text-align: center; vertical-align: top\">356.4309631515692</td>\n",
              "    </tr>\n",
              "    <tr>\n",
              "        <td style=\"padding-left: 1em; padding-right: 1em; text-align: center; vertical-align: top\">0.0</td>\n",
              "        <td style=\"padding-left: 1em; padding-right: 1em; text-align: center; vertical-align: top\">1.7897777598029214</td>\n",
              "        <td style=\"padding-left: 1em; padding-right: 1em; text-align: center; vertical-align: top\">1319.2152304433516</td>\n",
              "    </tr>\n",
              "    <tr>\n",
              "        <td style=\"padding-left: 1em; padding-right: 1em; text-align: center; vertical-align: top\">21.165739500402672</td>\n",
              "        <td style=\"padding-left: 1em; padding-right: 1em; text-align: center; vertical-align: top\">1.7633320927397957e-06</td>\n",
              "        <td style=\"padding-left: 1em; padding-right: 1em; text-align: center; vertical-align: top\">584.4891504480792</td>\n",
              "    </tr>\n",
              "    <tr>\n",
              "        <td style=\"padding-left: 1em; padding-right: 1em; text-align: center; vertical-align: top\">11.126902983393991</td>\n",
              "        <td style=\"padding-left: 1em; padding-right: 1em; text-align: center; vertical-align: top\">1.1670303057909952</td>\n",
              "        <td style=\"padding-left: 1em; padding-right: 1em; text-align: center; vertical-align: top\">1657.9238846075432</td>\n",
              "    </tr>\n",
              "    <tr>\n",
              "        <td style=\"padding-left: 1em; padding-right: 1em; text-align: center; vertical-align: top\">0.0</td>\n",
              "        <td style=\"padding-left: 1em; padding-right: 1em; text-align: center; vertical-align: top\">2.879997121503031e-06</td>\n",
              "        <td style=\"padding-left: 1em; padding-right: 1em; text-align: center; vertical-align: top\">650.5388437716501</td>\n",
              "    </tr>\n",
              "    <tr>\n",
              "        <td style=\"padding-left: 1em; padding-right: 1em; text-align: center; vertical-align: top\">0.0</td>\n",
              "        <td style=\"padding-left: 1em; padding-right: 1em; text-align: center; vertical-align: top\">3.12499683541998e-06</td>\n",
              "        <td style=\"padding-left: 1em; padding-right: 1em; text-align: center; vertical-align: top\">713.1091862665327</td>\n",
              "    </tr>\n",
              "    <tr>\n",
              "        <td style=\"padding-left: 1em; padding-right: 1em; text-align: center; vertical-align: top\">11.126902983393991</td>\n",
              "        <td style=\"padding-left: 1em; padding-right: 1em; text-align: center; vertical-align: top\">1.8049987437842276e-06</td>\n",
              "        <td style=\"padding-left: 1em; padding-right: 1em; text-align: center; vertical-align: top\">505.29919283505666</td>\n",
              "    </tr>\n",
              "    <tr>\n",
              "        <td style=\"padding-left: 1em; padding-right: 1em; text-align: center; vertical-align: top\">14.219595082555067</td>\n",
              "        <td style=\"padding-left: 1em; padding-right: 1em; text-align: center; vertical-align: top\">2.2724924544762817</td>\n",
              "        <td style=\"padding-left: 1em; padding-right: 1em; text-align: center; vertical-align: top\">558.6774267055373</td>\n",
              "    </tr>\n",
              "    <tr>\n",
              "        <td style=\"padding-left: 1em; padding-right: 1em; text-align: center; vertical-align: top\">12.13273413692322</td>\n",
              "        <td style=\"padding-left: 1em; padding-right: 1em; text-align: center; vertical-align: top\">1.6322740652486472</td>\n",
              "        <td style=\"padding-left: 1em; padding-right: 1em; text-align: center; vertical-align: top\">926.7491853494766</td>\n",
              "    </tr>\n",
              "</table>\n",
              "[25967 rows x 40 columns]<br/>Note: Only the head of the SFrame is printed.<br/>You can use print_rows(num_rows=m, num_columns=n) to print more rows and columns.\n",
              "</div>"
            ],
            "text/plain": [
              "Columns:\n",
              "\tindex\tint\n",
              "\tsmiles\tstr\n",
              "\towo\tstr\n",
              "\tHBondDon\tint\n",
              "\tHBondAccept\tint\n",
              "\tMolMass\tfloat\n",
              "\tlogP\tfloat\n",
              "\tRotableBonds\tint\n",
              "\tFractionCSP3\tfloat\n",
              "\tNumHeteroatoms\tint\n",
              "\tMolMR\tfloat\n",
              "\tHeavyAtomMolWt\tfloat\n",
              "\tExactMolWt\tfloat\n",
              "\tMaxAbsPartialCharge\tfloat\n",
              "\tMaxPartialCharge\tfloat\n",
              "\tMinAbsPartialCharge\tfloat\n",
              "\tMinPartialCharge\tfloat\n",
              "\tMolWt\tfloat\n",
              "\tNumRadicalElectrons\tint\n",
              "\tNumValenceElectrons\tint\n",
              "\tHeavyAtomCount\tint\n",
              "\tNHOHCount\tint\n",
              "\tNOCount\tint\n",
              "\tNumAliphaticCarbocycles\tint\n",
              "\tNumAliphaticHeterocycles\tint\n",
              "\tNumAliphaticRings\tint\n",
              "\tNumAromaticCarbocycles\tint\n",
              "\tNumAromaticHeterocycles\tint\n",
              "\tNumAromaticRings\tint\n",
              "\tNumSaturatedCarbocycles\tint\n",
              "\tNumSaturatedHeterocycles\tint\n",
              "\tNumSaturatedRings\tint\n",
              "\tRingCount\tint\n",
              "\tEState_VSA1\tfloat\n",
              "\tEState_VSA2\tfloat\n",
              "\tEState_VSA3\tfloat\n",
              "\tEState_VSA4\tfloat\n",
              "\tEState_VSA5\tfloat\n",
              "\tBalabanJ\tfloat\n",
              "\tBertzCT\tfloat\n",
              "\n",
              "Rows: 25967\n",
              "\n",
              "Data:\n",
              "+-------+-------------------------------+------+----------+-------------+\n",
              "| index |             smiles            | owo  | HBondDon | HBondAccept |\n",
              "+-------+-------------------------------+------+----------+-------------+\n",
              "|  231  | Cc1cccc(CNC(=O)NCc2ccnc(OC... | nope |    2     |      4      |\n",
              "|  1948 | C1(=O)C(=C([C@@]1(OC)OCC)O... | nope |    0     |      4      |\n",
              "| 18701 | C1(C(=C(C)NC(=C1C(=O)Nc1cc... | nope |    3     |      4      |\n",
              "| 55264 | N1(c2c(cccc2)Sc2c1cccc2)C[... | nope |    0     |      3      |\n",
              "|  8950 | c1cccc2c1cn(c2c1nc(nc(n1)O... | nope |    1     |      6      |\n",
              "| 57475 | c1(c(cccn1)C(=O)OCCCN(C)C)... | nope |    1     |      5      |\n",
              "| 21378 | c1ccccc1/C=C\\C(=N\\Nc1ccc(c... | nope |    1     |      3      |\n",
              "| 26441 | c1cc(ccn1)CCSCc1ccc(c(c1)C... | nope |    0     |      2      |\n",
              "|  2481 | COc1cc(C=O)cc(OC)c1OCc1ccncc1 | nope |    0     |      5      |\n",
              "| 38827 | O=C1[C@@]2([C@H]3[C@]([C@@... | nope |    2     |      6      |\n",
              "+-------+-------------------------------+------+----------+-------------+\n",
              "+--------------------+--------------------+--------------+---------------------+\n",
              "|      MolMass       |        logP        | RotableBonds |     FractionCSP3    |\n",
              "+--------------------+--------------------+--------------+---------------------+\n",
              "|   326.174275944    | 2.715720000000001  |      6       |  0.3888888888888889 |\n",
              "|    240.13615912    |       2.2051       |      7       |  0.6153846153846154 |\n",
              "| 494.26817632800004 | 5.881640000000005  |      6       | 0.22580645161290322 |\n",
              "|   334.127047416    | 4.908800000000006  |      4       |  0.3333333333333333 |\n",
              "|   522.243104452    | 6.1821000000000055 |      3       |       0.40625       |\n",
              "|   413.050566692    | 4.118000000000004  |      7       | 0.29411764705882354 |\n",
              "|   397.087930744    | 5.848200000000004  |      7       | 0.21052631578947367 |\n",
              "|   332.991253488    | 5.286100000000003  |      5       | 0.21428571428571427 |\n",
              "|    273.10010796    | 2.4903000000000004 |      6       |         0.2         |\n",
              "| 399.17942089999997 | 3.724800000000002  |      5       |  0.5714285714285714 |\n",
              "+--------------------+--------------------+--------------+---------------------+\n",
              "+----------------+--------------------+--------------------+--------------------+\n",
              "| NumHeteroatoms |       MolMR        |   HeavyAtomMolWt   |     ExactMolWt     |\n",
              "+----------------+--------------------+--------------------+--------------------+\n",
              "|       6        | 90.55340000000004  |      304.224       |   326.174275944    |\n",
              "|       4        | 64.45600000000005  | 220.13899999999995 |    240.13615912    |\n",
              "|       6        | 151.66309999999973 | 460.3670000000003  | 494.26817632800004 |\n",
              "|       4        | 98.97900000000006  | 311.73199999999997 |   334.127047416    |\n",
              "|       7        | 146.61379999999983 | 491.3760000000004  |   522.243104452    |\n",
              "|       7        | 102.36320000000003 |      393.563       |   413.050566692    |\n",
              "|       6        | 113.41470000000002 | 376.58900000000006 |   397.087930744    |\n",
              "|       5        | 87.81300000000002  |      320.587       |   332.991253488    |\n",
              "|       5        | 73.50250000000004  | 258.16799999999995 |    273.10010796    |\n",
              "|       8        | 106.49590000000005 | 374.2470000000002  | 399.17942089999997 |\n",
              "+----------------+--------------------+--------------------+--------------------+\n",
              "+---------------------+---------------------+---------------------+\n",
              "| MaxAbsPartialCharge |   MaxPartialCharge  | MinAbsPartialCharge |\n",
              "+---------------------+---------------------+---------------------+\n",
              "| 0.47434430956646834 |  0.3148791509003986 |  0.3148791509003986 |\n",
              "|  0.4915100156655726 |  0.2935385890991256 |  0.2935385890991256 |\n",
              "|  0.3776612043704539 |  0.2538187754408201 |  0.2538187754408201 |\n",
              "| 0.33932262053145623 |  0.055245127346194  |  0.055245127346194  |\n",
              "| 0.42414476419971964 |  0.3276217973104152 |  0.3276217973104152 |\n",
              "| 0.46194655643102656 | 0.34141548622076073 | 0.34141548622076073 |\n",
              "|  0.3090105004992349 |  0.0748724560238248 |  0.0748724560238248 |\n",
              "|  0.2647162657528068 | 0.05948510525596629 | 0.05948510525596629 |\n",
              "|  0.492689914704614  |  0.2034177527206018 |  0.2034177527206018 |\n",
              "|  0.4810086612124674 |  0.3067398274540872 |  0.3067398274540872 |\n",
              "+---------------------+---------------------+---------------------+\n",
              "+----------------------+--------------------+---------------------+---------------------+-----+\n",
              "|   MinPartialCharge   |       MolWt        | NumRadicalElectrons | NumValenceElectrons | ... |\n",
              "+----------------------+--------------------+---------------------+---------------------+-----+\n",
              "| -0.47434430956646834 | 326.40000000000015 |          0          |         126         | ... |\n",
              "| -0.4915100156655726  | 240.29899999999992 |          0          |          96         | ... |\n",
              "| -0.3776612043704539  | 494.6390000000002  |          0          |         190         | ... |\n",
              "| -0.33932262053145623 |      334.916       |          0          |         118         | ... |\n",
              "| -0.42414476419971964 | 522.6240000000004  |          0          |         198         | ... |\n",
              "| -0.46194655643102656 | 414.73099999999994 |          0          |         130         | ... |\n",
              "| -0.3090105004992349  | 398.76500000000016 |          0          |         134         | ... |\n",
              "| -0.2647162657528068  | 334.6989999999999  |          0          |         102         | ... |\n",
              "|  -0.492689914704614  | 273.28799999999995 |          0          |         104         | ... |\n",
              "| -0.4810086612124674  | 399.44700000000023 |          0          |         154         | ... |\n",
              "+----------------------+--------------------+---------------------+---------------------+-----+\n",
              "[25967 rows x 40 columns]\n",
              "Note: Only the head of the SFrame is printed.\n",
              "You can use print_rows(num_rows=m, num_columns=n) to print more rows and columns."
            ]
          },
          "metadata": {
            "tags": []
          },
          "execution_count": 66
        }
      ]
    },
    {
      "cell_type": "code",
      "metadata": {
        "id": "iXClp0gczj9x"
      },
      "source": [
        "train_data, test_data = data.shuffle().random_split(0.8)"
      ],
      "execution_count": null,
      "outputs": []
    },
    {
      "cell_type": "code",
      "metadata": {
        "id": "k3tBE2iXz2Co"
      },
      "source": [
        "features = [\n",
        "            'HBondDon',\n",
        " 'HBondAccept',\n",
        " 'MolMass',\n",
        " 'logP',\n",
        " 'RotableBonds',\n",
        " 'FractionCSP3',\n",
        " 'NumHeteroatoms',\n",
        " 'MolMR',\n",
        " 'HeavyAtomMolWt',\n",
        " 'ExactMolWt',\n",
        " 'MolWt',\n",
        " 'NumRadicalElectrons',\n",
        " 'NumValenceElectrons',\n",
        " 'HeavyAtomCount',\n",
        " 'NHOHCount',\n",
        " 'NOCount',\n",
        " 'NumAliphaticCarbocycles',\n",
        " 'NumAliphaticHeterocycles',\n",
        " 'NumAliphaticRings',\n",
        " 'NumAromaticCarbocycles',\n",
        " 'NumAromaticHeterocycles',\n",
        " 'NumAromaticRings',\n",
        " 'NumSaturatedCarbocycles',\n",
        " 'NumSaturatedHeterocycles',\n",
        " 'NumSaturatedRings',\n",
        " 'RingCount',\n",
        " 'EState_VSA1',\n",
        " 'EState_VSA2',\n",
        " 'EState_VSA3',\n",
        " 'EState_VSA4',\n",
        " 'EState_VSA5',\n",
        " 'BalabanJ',\n",
        " 'BertzCT',]"
      ],
      "execution_count": null,
      "outputs": []
    },
    {
      "cell_type": "code",
      "metadata": {
        "id": "_K6OWYZ4z8_6",
        "outputId": "12106080-4f05-468f-a394-a9e87edfb278",
        "colab": {
          "base_uri": "https://localhost:8080/",
          "height": 1000
        }
      },
      "source": [
        "model = tc.classifier.create(train_data, target='owo',features=features)"
      ],
      "execution_count": null,
      "outputs": [
        {
          "output_type": "stream",
          "text": [
            "PROGRESS: Creating a validation set from 5 percent of training data. This may take a while.\n",
            "          You can set ``validation_set=None`` to disable validation tracking.\n",
            "\n",
            "PROGRESS: The following methods are available for this type of problem.\n",
            "PROGRESS: BoostedTreesClassifier, RandomForestClassifier, DecisionTreeClassifier, SVMClassifier, LogisticClassifier\n",
            "PROGRESS: The returned model will be chosen according to validation accuracy.\n"
          ],
          "name": "stdout"
        },
        {
          "output_type": "display_data",
          "data": {
            "text/html": [
              "<pre>Boosted trees classifier:</pre>"
            ],
            "text/plain": [
              "Boosted trees classifier:"
            ]
          },
          "metadata": {
            "tags": []
          }
        },
        {
          "output_type": "display_data",
          "data": {
            "text/html": [
              "<pre>--------------------------------------------------------</pre>"
            ],
            "text/plain": [
              "--------------------------------------------------------"
            ]
          },
          "metadata": {
            "tags": []
          }
        },
        {
          "output_type": "display_data",
          "data": {
            "text/html": [
              "<pre>Number of examples          : 19730</pre>"
            ],
            "text/plain": [
              "Number of examples          : 19730"
            ]
          },
          "metadata": {
            "tags": []
          }
        },
        {
          "output_type": "display_data",
          "data": {
            "text/html": [
              "<pre>Number of classes           : 2</pre>"
            ],
            "text/plain": [
              "Number of classes           : 2"
            ]
          },
          "metadata": {
            "tags": []
          }
        },
        {
          "output_type": "display_data",
          "data": {
            "text/html": [
              "<pre>Number of feature columns   : 33</pre>"
            ],
            "text/plain": [
              "Number of feature columns   : 33"
            ]
          },
          "metadata": {
            "tags": []
          }
        },
        {
          "output_type": "display_data",
          "data": {
            "text/html": [
              "<pre>Number of unpacked features : 33</pre>"
            ],
            "text/plain": [
              "Number of unpacked features : 33"
            ]
          },
          "metadata": {
            "tags": []
          }
        },
        {
          "output_type": "display_data",
          "data": {
            "text/html": [
              "<pre>+-----------+--------------+-------------------+---------------------+-------------------+---------------------+</pre>"
            ],
            "text/plain": [
              "+-----------+--------------+-------------------+---------------------+-------------------+---------------------+"
            ]
          },
          "metadata": {
            "tags": []
          }
        },
        {
          "output_type": "display_data",
          "data": {
            "text/html": [
              "<pre>| Iteration | Elapsed Time | Training Accuracy | Validation Accuracy | Training Log Loss | Validation Log Loss |</pre>"
            ],
            "text/plain": [
              "| Iteration | Elapsed Time | Training Accuracy | Validation Accuracy | Training Log Loss | Validation Log Loss |"
            ]
          },
          "metadata": {
            "tags": []
          }
        },
        {
          "output_type": "display_data",
          "data": {
            "text/html": [
              "<pre>+-----------+--------------+-------------------+---------------------+-------------------+---------------------+</pre>"
            ],
            "text/plain": [
              "+-----------+--------------+-------------------+---------------------+-------------------+---------------------+"
            ]
          },
          "metadata": {
            "tags": []
          }
        },
        {
          "output_type": "display_data",
          "data": {
            "text/html": [
              "<pre>| 1         | 0.077323     | 0.708870          | 0.711261            | 0.628870          | 0.629144            |</pre>"
            ],
            "text/plain": [
              "| 1         | 0.077323     | 0.708870          | 0.711261            | 0.628870          | 0.629144            |"
            ]
          },
          "metadata": {
            "tags": []
          }
        },
        {
          "output_type": "display_data",
          "data": {
            "text/html": [
              "<pre>| 2         | 0.142102     | 0.717131          | 0.726660            | 0.592329          | 0.590486            |</pre>"
            ],
            "text/plain": [
              "| 2         | 0.142102     | 0.717131          | 0.726660            | 0.592329          | 0.590486            |"
            ]
          },
          "metadata": {
            "tags": []
          }
        },
        {
          "output_type": "display_data",
          "data": {
            "text/html": [
              "<pre>| 3         | 0.205761     | 0.733908          | 0.743022            | 0.563871          | 0.564926            |</pre>"
            ],
            "text/plain": [
              "| 3         | 0.205761     | 0.733908          | 0.743022            | 0.563871          | 0.564926            |"
            ]
          },
          "metadata": {
            "tags": []
          }
        },
        {
          "output_type": "display_data",
          "data": {
            "text/html": [
              "<pre>| 4         | 0.265488     | 0.738165          | 0.733397            | 0.545856          | 0.551799            |</pre>"
            ],
            "text/plain": [
              "| 4         | 0.265488     | 0.738165          | 0.733397            | 0.545856          | 0.551799            |"
            ]
          },
          "metadata": {
            "tags": []
          }
        },
        {
          "output_type": "display_data",
          "data": {
            "text/html": [
              "<pre>| 5         | 0.325074     | 0.745058          | 0.738210            | 0.533340          | 0.540488            |</pre>"
            ],
            "text/plain": [
              "| 5         | 0.325074     | 0.745058          | 0.738210            | 0.533340          | 0.540488            |"
            ]
          },
          "metadata": {
            "tags": []
          }
        },
        {
          "output_type": "display_data",
          "data": {
            "text/html": [
              "<pre>| 10        | 0.610826     | 0.766802          | 0.764196            | 0.491662          | 0.508443            |</pre>"
            ],
            "text/plain": [
              "| 10        | 0.610826     | 0.766802          | 0.764196            | 0.491662          | 0.508443            |"
            ]
          },
          "metadata": {
            "tags": []
          }
        },
        {
          "output_type": "display_data",
          "data": {
            "text/html": [
              "<pre>+-----------+--------------+-------------------+---------------------+-------------------+---------------------+</pre>"
            ],
            "text/plain": [
              "+-----------+--------------+-------------------+---------------------+-------------------+---------------------+"
            ]
          },
          "metadata": {
            "tags": []
          }
        },
        {
          "output_type": "display_data",
          "data": {
            "text/html": [
              "<pre>Random forest classifier:</pre>"
            ],
            "text/plain": [
              "Random forest classifier:"
            ]
          },
          "metadata": {
            "tags": []
          }
        },
        {
          "output_type": "display_data",
          "data": {
            "text/html": [
              "<pre>--------------------------------------------------------</pre>"
            ],
            "text/plain": [
              "--------------------------------------------------------"
            ]
          },
          "metadata": {
            "tags": []
          }
        },
        {
          "output_type": "display_data",
          "data": {
            "text/html": [
              "<pre>Number of examples          : 19730</pre>"
            ],
            "text/plain": [
              "Number of examples          : 19730"
            ]
          },
          "metadata": {
            "tags": []
          }
        },
        {
          "output_type": "display_data",
          "data": {
            "text/html": [
              "<pre>Number of classes           : 2</pre>"
            ],
            "text/plain": [
              "Number of classes           : 2"
            ]
          },
          "metadata": {
            "tags": []
          }
        },
        {
          "output_type": "display_data",
          "data": {
            "text/html": [
              "<pre>Number of feature columns   : 33</pre>"
            ],
            "text/plain": [
              "Number of feature columns   : 33"
            ]
          },
          "metadata": {
            "tags": []
          }
        },
        {
          "output_type": "display_data",
          "data": {
            "text/html": [
              "<pre>Number of unpacked features : 33</pre>"
            ],
            "text/plain": [
              "Number of unpacked features : 33"
            ]
          },
          "metadata": {
            "tags": []
          }
        },
        {
          "output_type": "display_data",
          "data": {
            "text/html": [
              "<pre>+-----------+--------------+-------------------+---------------------+-------------------+---------------------+</pre>"
            ],
            "text/plain": [
              "+-----------+--------------+-------------------+---------------------+-------------------+---------------------+"
            ]
          },
          "metadata": {
            "tags": []
          }
        },
        {
          "output_type": "display_data",
          "data": {
            "text/html": [
              "<pre>| Iteration | Elapsed Time | Training Accuracy | Validation Accuracy | Training Log Loss | Validation Log Loss |</pre>"
            ],
            "text/plain": [
              "| Iteration | Elapsed Time | Training Accuracy | Validation Accuracy | Training Log Loss | Validation Log Loss |"
            ]
          },
          "metadata": {
            "tags": []
          }
        },
        {
          "output_type": "display_data",
          "data": {
            "text/html": [
              "<pre>+-----------+--------------+-------------------+---------------------+-------------------+---------------------+</pre>"
            ],
            "text/plain": [
              "+-----------+--------------+-------------------+---------------------+-------------------+---------------------+"
            ]
          },
          "metadata": {
            "tags": []
          }
        },
        {
          "output_type": "display_data",
          "data": {
            "text/html": [
              "<pre>| 1         | 0.058206     | 0.704156          | 0.695861            | 0.560684          | 0.571405            |</pre>"
            ],
            "text/plain": [
              "| 1         | 0.058206     | 0.704156          | 0.695861            | 0.560684          | 0.571405            |"
            ]
          },
          "metadata": {
            "tags": []
          }
        },
        {
          "output_type": "display_data",
          "data": {
            "text/html": [
              "<pre>| 2         | 0.115109     | 0.710948          | 0.717998            | 0.556051          | 0.559360            |</pre>"
            ],
            "text/plain": [
              "| 2         | 0.115109     | 0.710948          | 0.717998            | 0.556051          | 0.559360            |"
            ]
          },
          "metadata": {
            "tags": []
          }
        },
        {
          "output_type": "display_data",
          "data": {
            "text/html": [
              "<pre>| 3         | 0.164280     | 0.711911          | 0.717998            | 0.555163          | 0.559650            |</pre>"
            ],
            "text/plain": [
              "| 3         | 0.164280     | 0.711911          | 0.717998            | 0.555163          | 0.559650            |"
            ]
          },
          "metadata": {
            "tags": []
          }
        },
        {
          "output_type": "display_data",
          "data": {
            "text/html": [
              "<pre>| 4         | 0.214129     | 0.713077          | 0.727623            | 0.552949          | 0.554930            |</pre>"
            ],
            "text/plain": [
              "| 4         | 0.214129     | 0.713077          | 0.727623            | 0.552949          | 0.554930            |"
            ]
          },
          "metadata": {
            "tags": []
          }
        },
        {
          "output_type": "display_data",
          "data": {
            "text/html": [
              "<pre>| 5         | 0.264252     | 0.713837          | 0.727623            | 0.552560          | 0.554446            |</pre>"
            ],
            "text/plain": [
              "| 5         | 0.264252     | 0.713837          | 0.727623            | 0.552560          | 0.554446            |"
            ]
          },
          "metadata": {
            "tags": []
          }
        },
        {
          "output_type": "display_data",
          "data": {
            "text/html": [
              "<pre>| 10        | 0.508284     | 0.711353          | 0.722810            | 0.551417          | 0.551535            |</pre>"
            ],
            "text/plain": [
              "| 10        | 0.508284     | 0.711353          | 0.722810            | 0.551417          | 0.551535            |"
            ]
          },
          "metadata": {
            "tags": []
          }
        },
        {
          "output_type": "display_data",
          "data": {
            "text/html": [
              "<pre>+-----------+--------------+-------------------+---------------------+-------------------+---------------------+</pre>"
            ],
            "text/plain": [
              "+-----------+--------------+-------------------+---------------------+-------------------+---------------------+"
            ]
          },
          "metadata": {
            "tags": []
          }
        },
        {
          "output_type": "display_data",
          "data": {
            "text/html": [
              "<pre>Decision tree classifier:</pre>"
            ],
            "text/plain": [
              "Decision tree classifier:"
            ]
          },
          "metadata": {
            "tags": []
          }
        },
        {
          "output_type": "display_data",
          "data": {
            "text/html": [
              "<pre>--------------------------------------------------------</pre>"
            ],
            "text/plain": [
              "--------------------------------------------------------"
            ]
          },
          "metadata": {
            "tags": []
          }
        },
        {
          "output_type": "display_data",
          "data": {
            "text/html": [
              "<pre>Number of examples          : 19730</pre>"
            ],
            "text/plain": [
              "Number of examples          : 19730"
            ]
          },
          "metadata": {
            "tags": []
          }
        },
        {
          "output_type": "display_data",
          "data": {
            "text/html": [
              "<pre>Number of classes           : 2</pre>"
            ],
            "text/plain": [
              "Number of classes           : 2"
            ]
          },
          "metadata": {
            "tags": []
          }
        },
        {
          "output_type": "display_data",
          "data": {
            "text/html": [
              "<pre>Number of feature columns   : 33</pre>"
            ],
            "text/plain": [
              "Number of feature columns   : 33"
            ]
          },
          "metadata": {
            "tags": []
          }
        },
        {
          "output_type": "display_data",
          "data": {
            "text/html": [
              "<pre>Number of unpacked features : 33</pre>"
            ],
            "text/plain": [
              "Number of unpacked features : 33"
            ]
          },
          "metadata": {
            "tags": []
          }
        },
        {
          "output_type": "display_data",
          "data": {
            "text/html": [
              "<pre>+-----------+--------------+-------------------+---------------------+-------------------+---------------------+</pre>"
            ],
            "text/plain": [
              "+-----------+--------------+-------------------+---------------------+-------------------+---------------------+"
            ]
          },
          "metadata": {
            "tags": []
          }
        },
        {
          "output_type": "display_data",
          "data": {
            "text/html": [
              "<pre>| Iteration | Elapsed Time | Training Accuracy | Validation Accuracy | Training Log Loss | Validation Log Loss |</pre>"
            ],
            "text/plain": [
              "| Iteration | Elapsed Time | Training Accuracy | Validation Accuracy | Training Log Loss | Validation Log Loss |"
            ]
          },
          "metadata": {
            "tags": []
          }
        },
        {
          "output_type": "display_data",
          "data": {
            "text/html": [
              "<pre>+-----------+--------------+-------------------+---------------------+-------------------+---------------------+</pre>"
            ],
            "text/plain": [
              "+-----------+--------------+-------------------+---------------------+-------------------+---------------------+"
            ]
          },
          "metadata": {
            "tags": []
          }
        },
        {
          "output_type": "display_data",
          "data": {
            "text/html": [
              "<pre>| 1         | 0.068778     | 0.708870          | 0.711261            | 0.556202          | 0.559169            |</pre>"
            ],
            "text/plain": [
              "| 1         | 0.068778     | 0.708870          | 0.711261            | 0.556202          | 0.559169            |"
            ]
          },
          "metadata": {
            "tags": []
          }
        },
        {
          "output_type": "display_data",
          "data": {
            "text/html": [
              "<pre>+-----------+--------------+-------------------+---------------------+-------------------+---------------------+</pre>"
            ],
            "text/plain": [
              "+-----------+--------------+-------------------+---------------------+-------------------+---------------------+"
            ]
          },
          "metadata": {
            "tags": []
          }
        },
        {
          "output_type": "display_data",
          "data": {
            "text/html": [
              "<pre>SVM:</pre>"
            ],
            "text/plain": [
              "SVM:"
            ]
          },
          "metadata": {
            "tags": []
          }
        },
        {
          "output_type": "display_data",
          "data": {
            "text/html": [
              "<pre>--------------------------------------------------------</pre>"
            ],
            "text/plain": [
              "--------------------------------------------------------"
            ]
          },
          "metadata": {
            "tags": []
          }
        },
        {
          "output_type": "display_data",
          "data": {
            "text/html": [
              "<pre>Number of examples          : 19730</pre>"
            ],
            "text/plain": [
              "Number of examples          : 19730"
            ]
          },
          "metadata": {
            "tags": []
          }
        },
        {
          "output_type": "display_data",
          "data": {
            "text/html": [
              "<pre>Number of classes           : 2</pre>"
            ],
            "text/plain": [
              "Number of classes           : 2"
            ]
          },
          "metadata": {
            "tags": []
          }
        },
        {
          "output_type": "display_data",
          "data": {
            "text/html": [
              "<pre>Number of feature columns   : 33</pre>"
            ],
            "text/plain": [
              "Number of feature columns   : 33"
            ]
          },
          "metadata": {
            "tags": []
          }
        },
        {
          "output_type": "display_data",
          "data": {
            "text/html": [
              "<pre>Number of unpacked features : 33</pre>"
            ],
            "text/plain": [
              "Number of unpacked features : 33"
            ]
          },
          "metadata": {
            "tags": []
          }
        },
        {
          "output_type": "display_data",
          "data": {
            "text/html": [
              "<pre>Number of coefficients    : 34</pre>"
            ],
            "text/plain": [
              "Number of coefficients    : 34"
            ]
          },
          "metadata": {
            "tags": []
          }
        },
        {
          "output_type": "display_data",
          "data": {
            "text/html": [
              "<pre>Starting L-BFGS</pre>"
            ],
            "text/plain": [
              "Starting L-BFGS"
            ]
          },
          "metadata": {
            "tags": []
          }
        },
        {
          "output_type": "display_data",
          "data": {
            "text/html": [
              "<pre>--------------------------------------------------------</pre>"
            ],
            "text/plain": [
              "--------------------------------------------------------"
            ]
          },
          "metadata": {
            "tags": []
          }
        },
        {
          "output_type": "display_data",
          "data": {
            "text/html": [
              "<pre>+-----------+----------+-----------+--------------+-------------------+---------------------+</pre>"
            ],
            "text/plain": [
              "+-----------+----------+-----------+--------------+-------------------+---------------------+"
            ]
          },
          "metadata": {
            "tags": []
          }
        },
        {
          "output_type": "display_data",
          "data": {
            "text/html": [
              "<pre>| Iteration | Passes   | Step size | Elapsed Time | Training Accuracy | Validation Accuracy |</pre>"
            ],
            "text/plain": [
              "| Iteration | Passes   | Step size | Elapsed Time | Training Accuracy | Validation Accuracy |"
            ]
          },
          "metadata": {
            "tags": []
          }
        },
        {
          "output_type": "display_data",
          "data": {
            "text/html": [
              "<pre>+-----------+----------+-----------+--------------+-------------------+---------------------+</pre>"
            ],
            "text/plain": [
              "+-----------+----------+-----------+--------------+-------------------+---------------------+"
            ]
          },
          "metadata": {
            "tags": []
          }
        },
        {
          "output_type": "display_data",
          "data": {
            "text/html": [
              "<pre>| 0         | 2        | 1.000000  | 0.084297     | 0.557425          | 0.542830            |</pre>"
            ],
            "text/plain": [
              "| 0         | 2        | 1.000000  | 0.084297     | 0.557425          | 0.542830            |"
            ]
          },
          "metadata": {
            "tags": []
          }
        },
        {
          "output_type": "display_data",
          "data": {
            "text/html": [
              "<pre>| 1         | 4        | 1.000000  | 0.150131     | 0.641004          | 0.641001            |</pre>"
            ],
            "text/plain": [
              "| 1         | 4        | 1.000000  | 0.150131     | 0.641004          | 0.641001            |"
            ]
          },
          "metadata": {
            "tags": []
          }
        },
        {
          "output_type": "display_data",
          "data": {
            "text/html": [
              "<pre>| 2         | 5        | 1.000000  | 0.195067     | 0.653877          | 0.680462            |</pre>"
            ],
            "text/plain": [
              "| 2         | 5        | 1.000000  | 0.195067     | 0.653877          | 0.680462            |"
            ]
          },
          "metadata": {
            "tags": []
          }
        },
        {
          "output_type": "display_data",
          "data": {
            "text/html": [
              "<pre>| 3         | 11       | 2.696129  | 0.341778     | 0.664977          | 0.671800            |</pre>"
            ],
            "text/plain": [
              "| 3         | 11       | 2.696129  | 0.341778     | 0.664977          | 0.671800            |"
            ]
          },
          "metadata": {
            "tags": []
          }
        },
        {
          "output_type": "display_data",
          "data": {
            "text/html": [
              "<pre>| 4         | 12       | 2.696129  | 0.386306     | 0.675976          | 0.675650            |</pre>"
            ],
            "text/plain": [
              "| 4         | 12       | 2.696129  | 0.386306     | 0.675976          | 0.675650            |"
            ]
          },
          "metadata": {
            "tags": []
          }
        },
        {
          "output_type": "display_data",
          "data": {
            "text/html": [
              "<pre>| 9         | 26       | 1.169437  | 0.791913     | 0.689914          | 0.707411            |</pre>"
            ],
            "text/plain": [
              "| 9         | 26       | 1.169437  | 0.791913     | 0.689914          | 0.707411            |"
            ]
          },
          "metadata": {
            "tags": []
          }
        },
        {
          "output_type": "display_data",
          "data": {
            "text/html": [
              "<pre>+-----------+----------+-----------+--------------+-------------------+---------------------+</pre>"
            ],
            "text/plain": [
              "+-----------+----------+-----------+--------------+-------------------+---------------------+"
            ]
          },
          "metadata": {
            "tags": []
          }
        },
        {
          "output_type": "display_data",
          "data": {
            "text/html": [
              "<pre>Logistic regression:</pre>"
            ],
            "text/plain": [
              "Logistic regression:"
            ]
          },
          "metadata": {
            "tags": []
          }
        },
        {
          "output_type": "display_data",
          "data": {
            "text/html": [
              "<pre>--------------------------------------------------------</pre>"
            ],
            "text/plain": [
              "--------------------------------------------------------"
            ]
          },
          "metadata": {
            "tags": []
          }
        },
        {
          "output_type": "display_data",
          "data": {
            "text/html": [
              "<pre>Number of examples          : 19730</pre>"
            ],
            "text/plain": [
              "Number of examples          : 19730"
            ]
          },
          "metadata": {
            "tags": []
          }
        },
        {
          "output_type": "display_data",
          "data": {
            "text/html": [
              "<pre>Number of classes           : 2</pre>"
            ],
            "text/plain": [
              "Number of classes           : 2"
            ]
          },
          "metadata": {
            "tags": []
          }
        },
        {
          "output_type": "display_data",
          "data": {
            "text/html": [
              "<pre>Number of feature columns   : 33</pre>"
            ],
            "text/plain": [
              "Number of feature columns   : 33"
            ]
          },
          "metadata": {
            "tags": []
          }
        },
        {
          "output_type": "display_data",
          "data": {
            "text/html": [
              "<pre>Number of unpacked features : 33</pre>"
            ],
            "text/plain": [
              "Number of unpacked features : 33"
            ]
          },
          "metadata": {
            "tags": []
          }
        },
        {
          "output_type": "display_data",
          "data": {
            "text/html": [
              "<pre>Number of coefficients      : 34</pre>"
            ],
            "text/plain": [
              "Number of coefficients      : 34"
            ]
          },
          "metadata": {
            "tags": []
          }
        },
        {
          "output_type": "display_data",
          "data": {
            "text/html": [
              "<pre>Starting Newton Method</pre>"
            ],
            "text/plain": [
              "Starting Newton Method"
            ]
          },
          "metadata": {
            "tags": []
          }
        },
        {
          "output_type": "display_data",
          "data": {
            "text/html": [
              "<pre>--------------------------------------------------------</pre>"
            ],
            "text/plain": [
              "--------------------------------------------------------"
            ]
          },
          "metadata": {
            "tags": []
          }
        },
        {
          "output_type": "display_data",
          "data": {
            "text/html": [
              "<pre>+-----------+----------+--------------+-------------------+---------------------+</pre>"
            ],
            "text/plain": [
              "+-----------+----------+--------------+-------------------+---------------------+"
            ]
          },
          "metadata": {
            "tags": []
          }
        },
        {
          "output_type": "display_data",
          "data": {
            "text/html": [
              "<pre>| Iteration | Passes   | Elapsed Time | Training Accuracy | Validation Accuracy |</pre>"
            ],
            "text/plain": [
              "| Iteration | Passes   | Elapsed Time | Training Accuracy | Validation Accuracy |"
            ]
          },
          "metadata": {
            "tags": []
          }
        },
        {
          "output_type": "display_data",
          "data": {
            "text/html": [
              "<pre>+-----------+----------+--------------+-------------------+---------------------+</pre>"
            ],
            "text/plain": [
              "+-----------+----------+--------------+-------------------+---------------------+"
            ]
          },
          "metadata": {
            "tags": []
          }
        },
        {
          "output_type": "display_data",
          "data": {
            "text/html": [
              "<pre>| 1         | 2        | 0.143308     | 0.694932          | 0.709336            |</pre>"
            ],
            "text/plain": [
              "| 1         | 2        | 0.143308     | 0.694932          | 0.709336            |"
            ]
          },
          "metadata": {
            "tags": []
          }
        },
        {
          "output_type": "display_data",
          "data": {
            "text/html": [
              "<pre>| 2         | 3        | 0.229963     | 0.696097          | 0.713186            |</pre>"
            ],
            "text/plain": [
              "| 2         | 3        | 0.229963     | 0.696097          | 0.713186            |"
            ]
          },
          "metadata": {
            "tags": []
          }
        },
        {
          "output_type": "display_data",
          "data": {
            "text/html": [
              "<pre>| 3         | 4        | 0.315970     | 0.696300          | 0.711261            |</pre>"
            ],
            "text/plain": [
              "| 3         | 4        | 0.315970     | 0.696300          | 0.711261            |"
            ]
          },
          "metadata": {
            "tags": []
          }
        },
        {
          "output_type": "display_data",
          "data": {
            "text/html": [
              "<pre>| 4         | 5        | 0.406941     | 0.696300          | 0.711261            |</pre>"
            ],
            "text/plain": [
              "| 4         | 5        | 0.406941     | 0.696300          | 0.711261            |"
            ]
          },
          "metadata": {
            "tags": []
          }
        },
        {
          "output_type": "display_data",
          "data": {
            "text/html": [
              "<pre>| 5         | 6        | 0.490742     | 0.696300          | 0.711261            |</pre>"
            ],
            "text/plain": [
              "| 5         | 6        | 0.490742     | 0.696300          | 0.711261            |"
            ]
          },
          "metadata": {
            "tags": []
          }
        },
        {
          "output_type": "display_data",
          "data": {
            "text/html": [
              "<pre>+-----------+----------+--------------+-------------------+---------------------+</pre>"
            ],
            "text/plain": [
              "+-----------+----------+--------------+-------------------+---------------------+"
            ]
          },
          "metadata": {
            "tags": []
          }
        },
        {
          "output_type": "display_data",
          "data": {
            "text/html": [
              "<pre>SUCCESS: Optimal solution found.</pre>"
            ],
            "text/plain": [
              "SUCCESS: Optimal solution found."
            ]
          },
          "metadata": {
            "tags": []
          }
        },
        {
          "output_type": "display_data",
          "data": {
            "text/html": [
              "<pre></pre>"
            ],
            "text/plain": [
              ""
            ]
          },
          "metadata": {
            "tags": []
          }
        },
        {
          "output_type": "stream",
          "text": [
            "PROGRESS: Model selection based on validation accuracy:\n",
            "PROGRESS: ---------------------------------------------\n",
            "PROGRESS: BoostedTreesClassifier          : 0.7641963426371511\n",
            "PROGRESS: RandomForestClassifier          : 0.7228103946102021\n",
            "PROGRESS: DecisionTreeClassifier          : 0.7112608277189605\n",
            "PROGRESS: SVMClassifier                   : 0.7074109720885466\n",
            "PROGRESS: LogisticClassifier              : 0.7112608277189605\n",
            "PROGRESS: ---------------------------------------------\n",
            "PROGRESS: Selecting BoostedTreesClassifier based on validation set performance.\n"
          ],
          "name": "stdout"
        }
      ]
    },
    {
      "cell_type": "code",
      "metadata": {
        "id": "Vk0fWn1Y0Ber"
      },
      "source": [
        "from xgboost import XGBClassifier\n",
        "from sklearn.model_selection import train_test_split\n",
        "from sklearn.metrics import accuracy_score"
      ],
      "execution_count": null,
      "outputs": []
    },
    {
      "cell_type": "code",
      "metadata": {
        "id": "29dsuDnL0jgY"
      },
      "source": [
        "train = train_data.to_dataframe()\n",
        "test = test_data.to_dataframe()\n",
        "X = train.loc[:,features]\n",
        "x = test.loc[:,features]\n",
        "Y = train.owo\n",
        "y = test.owo"
      ],
      "execution_count": null,
      "outputs": []
    },
    {
      "cell_type": "code",
      "metadata": {
        "id": "adrJEpr-0nj-",
        "outputId": "5e608b6f-72c4-460c-8db3-119e2f971071",
        "colab": {
          "base_uri": "https://localhost:8080/",
          "height": 439
        }
      },
      "source": [
        "X"
      ],
      "execution_count": null,
      "outputs": [
        {
          "output_type": "execute_result",
          "data": {
            "text/html": [
              "<div>\n",
              "<style scoped>\n",
              "    .dataframe tbody tr th:only-of-type {\n",
              "        vertical-align: middle;\n",
              "    }\n",
              "\n",
              "    .dataframe tbody tr th {\n",
              "        vertical-align: top;\n",
              "    }\n",
              "\n",
              "    .dataframe thead th {\n",
              "        text-align: right;\n",
              "    }\n",
              "</style>\n",
              "<table border=\"1\" class=\"dataframe\">\n",
              "  <thead>\n",
              "    <tr style=\"text-align: right;\">\n",
              "      <th></th>\n",
              "      <th>HBondDon</th>\n",
              "      <th>HBondAccept</th>\n",
              "      <th>MolMass</th>\n",
              "      <th>logP</th>\n",
              "      <th>RotableBonds</th>\n",
              "      <th>FractionCSP3</th>\n",
              "      <th>NumHeteroatoms</th>\n",
              "      <th>MolMR</th>\n",
              "      <th>HeavyAtomMolWt</th>\n",
              "      <th>ExactMolWt</th>\n",
              "      <th>MolWt</th>\n",
              "      <th>NumRadicalElectrons</th>\n",
              "      <th>NumValenceElectrons</th>\n",
              "      <th>HeavyAtomCount</th>\n",
              "      <th>NHOHCount</th>\n",
              "      <th>NOCount</th>\n",
              "      <th>NumAliphaticCarbocycles</th>\n",
              "      <th>NumAliphaticHeterocycles</th>\n",
              "      <th>NumAliphaticRings</th>\n",
              "      <th>NumAromaticCarbocycles</th>\n",
              "      <th>NumAromaticHeterocycles</th>\n",
              "      <th>NumAromaticRings</th>\n",
              "      <th>NumSaturatedCarbocycles</th>\n",
              "      <th>NumSaturatedHeterocycles</th>\n",
              "      <th>NumSaturatedRings</th>\n",
              "      <th>RingCount</th>\n",
              "      <th>EState_VSA1</th>\n",
              "      <th>EState_VSA2</th>\n",
              "      <th>EState_VSA3</th>\n",
              "      <th>EState_VSA4</th>\n",
              "      <th>EState_VSA5</th>\n",
              "      <th>BalabanJ</th>\n",
              "      <th>BertzCT</th>\n",
              "    </tr>\n",
              "  </thead>\n",
              "  <tbody>\n",
              "    <tr>\n",
              "      <th>0</th>\n",
              "      <td>0</td>\n",
              "      <td>5</td>\n",
              "      <td>391.009517</td>\n",
              "      <td>1.39180</td>\n",
              "      <td>3</td>\n",
              "      <td>0.625000</td>\n",
              "      <td>15</td>\n",
              "      <td>64.5906</td>\n",
              "      <td>380.227</td>\n",
              "      <td>391.009517</td>\n",
              "      <td>391.315</td>\n",
              "      <td>0</td>\n",
              "      <td>136</td>\n",
              "      <td>23</td>\n",
              "      <td>0</td>\n",
              "      <td>7</td>\n",
              "      <td>0</td>\n",
              "      <td>0</td>\n",
              "      <td>0</td>\n",
              "      <td>0</td>\n",
              "      <td>1</td>\n",
              "      <td>1</td>\n",
              "      <td>0</td>\n",
              "      <td>0</td>\n",
              "      <td>0</td>\n",
              "      <td>1</td>\n",
              "      <td>31.063243</td>\n",
              "      <td>0.000000</td>\n",
              "      <td>0.000000</td>\n",
              "      <td>10.672158</td>\n",
              "      <td>0.000000</td>\n",
              "      <td>5.023333e-07</td>\n",
              "      <td>677.732098</td>\n",
              "    </tr>\n",
              "    <tr>\n",
              "      <th>1</th>\n",
              "      <td>2</td>\n",
              "      <td>8</td>\n",
              "      <td>536.334918</td>\n",
              "      <td>4.92250</td>\n",
              "      <td>9</td>\n",
              "      <td>0.733333</td>\n",
              "      <td>8</td>\n",
              "      <td>145.1056</td>\n",
              "      <td>488.322</td>\n",
              "      <td>536.334918</td>\n",
              "      <td>536.706</td>\n",
              "      <td>0</td>\n",
              "      <td>216</td>\n",
              "      <td>38</td>\n",
              "      <td>2</td>\n",
              "      <td>8</td>\n",
              "      <td>1</td>\n",
              "      <td>1</td>\n",
              "      <td>2</td>\n",
              "      <td>0</td>\n",
              "      <td>0</td>\n",
              "      <td>0</td>\n",
              "      <td>0</td>\n",
              "      <td>1</td>\n",
              "      <td>1</td>\n",
              "      <td>2</td>\n",
              "      <td>48.245554</td>\n",
              "      <td>6.606882</td>\n",
              "      <td>12.338728</td>\n",
              "      <td>38.524930</td>\n",
              "      <td>30.566788</td>\n",
              "      <td>2.023007e+00</td>\n",
              "      <td>886.683728</td>\n",
              "    </tr>\n",
              "    <tr>\n",
              "      <th>2</th>\n",
              "      <td>0</td>\n",
              "      <td>3</td>\n",
              "      <td>313.991611</td>\n",
              "      <td>2.08902</td>\n",
              "      <td>1</td>\n",
              "      <td>0.181818</td>\n",
              "      <td>4</td>\n",
              "      <td>68.4640</td>\n",
              "      <td>303.038</td>\n",
              "      <td>313.991611</td>\n",
              "      <td>314.126</td>\n",
              "      <td>0</td>\n",
              "      <td>78</td>\n",
              "      <td>15</td>\n",
              "      <td>0</td>\n",
              "      <td>3</td>\n",
              "      <td>0</td>\n",
              "      <td>0</td>\n",
              "      <td>0</td>\n",
              "      <td>1</td>\n",
              "      <td>1</td>\n",
              "      <td>2</td>\n",
              "      <td>0</td>\n",
              "      <td>0</td>\n",
              "      <td>0</td>\n",
              "      <td>2</td>\n",
              "      <td>0.000000</td>\n",
              "      <td>5.559267</td>\n",
              "      <td>0.000000</td>\n",
              "      <td>14.951497</td>\n",
              "      <td>0.000000</td>\n",
              "      <td>2.749966e+00</td>\n",
              "      <td>539.705832</td>\n",
              "    </tr>\n",
              "    <tr>\n",
              "      <th>3</th>\n",
              "      <td>0</td>\n",
              "      <td>6</td>\n",
              "      <td>352.071366</td>\n",
              "      <td>2.81030</td>\n",
              "      <td>3</td>\n",
              "      <td>0.411765</td>\n",
              "      <td>7</td>\n",
              "      <td>86.1255</td>\n",
              "      <td>335.634</td>\n",
              "      <td>352.071366</td>\n",
              "      <td>352.770</td>\n",
              "      <td>0</td>\n",
              "      <td>128</td>\n",
              "      <td>24</td>\n",
              "      <td>0</td>\n",
              "      <td>6</td>\n",
              "      <td>1</td>\n",
              "      <td>1</td>\n",
              "      <td>2</td>\n",
              "      <td>1</td>\n",
              "      <td>0</td>\n",
              "      <td>1</td>\n",
              "      <td>0</td>\n",
              "      <td>0</td>\n",
              "      <td>0</td>\n",
              "      <td>3</td>\n",
              "      <td>11.518957</td>\n",
              "      <td>40.082073</td>\n",
              "      <td>11.499024</td>\n",
              "      <td>0.000000</td>\n",
              "      <td>33.471780</td>\n",
              "      <td>2.258173e+00</td>\n",
              "      <td>768.834539</td>\n",
              "    </tr>\n",
              "    <tr>\n",
              "      <th>4</th>\n",
              "      <td>2</td>\n",
              "      <td>2</td>\n",
              "      <td>192.126263</td>\n",
              "      <td>1.58914</td>\n",
              "      <td>2</td>\n",
              "      <td>0.363636</td>\n",
              "      <td>3</td>\n",
              "      <td>58.1951</td>\n",
              "      <td>176.134</td>\n",
              "      <td>192.126263</td>\n",
              "      <td>192.262</td>\n",
              "      <td>0</td>\n",
              "      <td>76</td>\n",
              "      <td>14</td>\n",
              "      <td>3</td>\n",
              "      <td>3</td>\n",
              "      <td>0</td>\n",
              "      <td>0</td>\n",
              "      <td>0</td>\n",
              "      <td>1</td>\n",
              "      <td>0</td>\n",
              "      <td>1</td>\n",
              "      <td>0</td>\n",
              "      <td>0</td>\n",
              "      <td>0</td>\n",
              "      <td>1</td>\n",
              "      <td>6.041841</td>\n",
              "      <td>5.907180</td>\n",
              "      <td>0.000000</td>\n",
              "      <td>16.814289</td>\n",
              "      <td>0.000000</td>\n",
              "      <td>2.912652e+00</td>\n",
              "      <td>324.890810</td>\n",
              "    </tr>\n",
              "    <tr>\n",
              "      <th>...</th>\n",
              "      <td>...</td>\n",
              "      <td>...</td>\n",
              "      <td>...</td>\n",
              "      <td>...</td>\n",
              "      <td>...</td>\n",
              "      <td>...</td>\n",
              "      <td>...</td>\n",
              "      <td>...</td>\n",
              "      <td>...</td>\n",
              "      <td>...</td>\n",
              "      <td>...</td>\n",
              "      <td>...</td>\n",
              "      <td>...</td>\n",
              "      <td>...</td>\n",
              "      <td>...</td>\n",
              "      <td>...</td>\n",
              "      <td>...</td>\n",
              "      <td>...</td>\n",
              "      <td>...</td>\n",
              "      <td>...</td>\n",
              "      <td>...</td>\n",
              "      <td>...</td>\n",
              "      <td>...</td>\n",
              "      <td>...</td>\n",
              "      <td>...</td>\n",
              "      <td>...</td>\n",
              "      <td>...</td>\n",
              "      <td>...</td>\n",
              "      <td>...</td>\n",
              "      <td>...</td>\n",
              "      <td>...</td>\n",
              "      <td>...</td>\n",
              "      <td>...</td>\n",
              "    </tr>\n",
              "    <tr>\n",
              "      <th>20764</th>\n",
              "      <td>1</td>\n",
              "      <td>4</td>\n",
              "      <td>421.125256</td>\n",
              "      <td>3.81860</td>\n",
              "      <td>8</td>\n",
              "      <td>0.380952</td>\n",
              "      <td>5</td>\n",
              "      <td>109.4808</td>\n",
              "      <td>394.139</td>\n",
              "      <td>421.125256</td>\n",
              "      <td>422.363</td>\n",
              "      <td>0</td>\n",
              "      <td>142</td>\n",
              "      <td>26</td>\n",
              "      <td>1</td>\n",
              "      <td>4</td>\n",
              "      <td>0</td>\n",
              "      <td>0</td>\n",
              "      <td>0</td>\n",
              "      <td>2</td>\n",
              "      <td>0</td>\n",
              "      <td>2</td>\n",
              "      <td>0</td>\n",
              "      <td>0</td>\n",
              "      <td>0</td>\n",
              "      <td>2</td>\n",
              "      <td>11.570356</td>\n",
              "      <td>6.606882</td>\n",
              "      <td>17.671659</td>\n",
              "      <td>13.089513</td>\n",
              "      <td>0.000000</td>\n",
              "      <td>1.630416e-06</td>\n",
              "      <td>590.719154</td>\n",
              "    </tr>\n",
              "    <tr>\n",
              "      <th>20765</th>\n",
              "      <td>0</td>\n",
              "      <td>3</td>\n",
              "      <td>406.250795</td>\n",
              "      <td>5.67280</td>\n",
              "      <td>4</td>\n",
              "      <td>0.629630</td>\n",
              "      <td>3</td>\n",
              "      <td>116.7360</td>\n",
              "      <td>372.294</td>\n",
              "      <td>406.250795</td>\n",
              "      <td>406.566</td>\n",
              "      <td>0</td>\n",
              "      <td>160</td>\n",
              "      <td>30</td>\n",
              "      <td>0</td>\n",
              "      <td>3</td>\n",
              "      <td>4</td>\n",
              "      <td>0</td>\n",
              "      <td>4</td>\n",
              "      <td>1</td>\n",
              "      <td>0</td>\n",
              "      <td>1</td>\n",
              "      <td>3</td>\n",
              "      <td>0</td>\n",
              "      <td>3</td>\n",
              "      <td>5</td>\n",
              "      <td>0.000000</td>\n",
              "      <td>17.488262</td>\n",
              "      <td>24.039879</td>\n",
              "      <td>50.360742</td>\n",
              "      <td>30.399021</td>\n",
              "      <td>1.234673e+00</td>\n",
              "      <td>840.923969</td>\n",
              "    </tr>\n",
              "    <tr>\n",
              "      <th>20766</th>\n",
              "      <td>3</td>\n",
              "      <td>5</td>\n",
              "      <td>306.091725</td>\n",
              "      <td>-0.20668</td>\n",
              "      <td>6</td>\n",
              "      <td>0.545455</td>\n",
              "      <td>8</td>\n",
              "      <td>82.4521</td>\n",
              "      <td>287.667</td>\n",
              "      <td>306.091725</td>\n",
              "      <td>306.819</td>\n",
              "      <td>0</td>\n",
              "      <td>108</td>\n",
              "      <td>19</td>\n",
              "      <td>3</td>\n",
              "      <td>6</td>\n",
              "      <td>0</td>\n",
              "      <td>0</td>\n",
              "      <td>0</td>\n",
              "      <td>0</td>\n",
              "      <td>1</td>\n",
              "      <td>1</td>\n",
              "      <td>0</td>\n",
              "      <td>0</td>\n",
              "      <td>0</td>\n",
              "      <td>1</td>\n",
              "      <td>5.689743</td>\n",
              "      <td>24.511056</td>\n",
              "      <td>10.551954</td>\n",
              "      <td>19.510334</td>\n",
              "      <td>10.763943</td>\n",
              "      <td>3.239998e-06</td>\n",
              "      <td>526.161850</td>\n",
              "    </tr>\n",
              "    <tr>\n",
              "      <th>20767</th>\n",
              "      <td>2</td>\n",
              "      <td>6</td>\n",
              "      <td>298.971190</td>\n",
              "      <td>-0.46580</td>\n",
              "      <td>3</td>\n",
              "      <td>0.571429</td>\n",
              "      <td>11</td>\n",
              "      <td>57.4478</td>\n",
              "      <td>292.998</td>\n",
              "      <td>298.971190</td>\n",
              "      <td>300.054</td>\n",
              "      <td>0</td>\n",
              "      <td>100</td>\n",
              "      <td>18</td>\n",
              "      <td>2</td>\n",
              "      <td>9</td>\n",
              "      <td>0</td>\n",
              "      <td>1</td>\n",
              "      <td>1</td>\n",
              "      <td>0</td>\n",
              "      <td>0</td>\n",
              "      <td>0</td>\n",
              "      <td>0</td>\n",
              "      <td>1</td>\n",
              "      <td>1</td>\n",
              "      <td>1</td>\n",
              "      <td>39.434007</td>\n",
              "      <td>0.000000</td>\n",
              "      <td>0.000000</td>\n",
              "      <td>6.923737</td>\n",
              "      <td>0.000000</td>\n",
              "      <td>3.028444e+00</td>\n",
              "      <td>427.403876</td>\n",
              "    </tr>\n",
              "    <tr>\n",
              "      <th>20768</th>\n",
              "      <td>0</td>\n",
              "      <td>2</td>\n",
              "      <td>152.998141</td>\n",
              "      <td>2.30730</td>\n",
              "      <td>1</td>\n",
              "      <td>0.000000</td>\n",
              "      <td>3</td>\n",
              "      <td>39.2335</td>\n",
              "      <td>149.536</td>\n",
              "      <td>152.998141</td>\n",
              "      <td>153.568</td>\n",
              "      <td>0</td>\n",
              "      <td>50</td>\n",
              "      <td>10</td>\n",
              "      <td>0</td>\n",
              "      <td>2</td>\n",
              "      <td>0</td>\n",
              "      <td>0</td>\n",
              "      <td>0</td>\n",
              "      <td>1</td>\n",
              "      <td>0</td>\n",
              "      <td>1</td>\n",
              "      <td>0</td>\n",
              "      <td>0</td>\n",
              "      <td>0</td>\n",
              "      <td>1</td>\n",
              "      <td>0.000000</td>\n",
              "      <td>0.000000</td>\n",
              "      <td>10.710020</td>\n",
              "      <td>0.000000</td>\n",
              "      <td>6.079939</td>\n",
              "      <td>2.996028e+00</td>\n",
              "      <td>261.439525</td>\n",
              "    </tr>\n",
              "  </tbody>\n",
              "</table>\n",
              "<p>20769 rows × 33 columns</p>\n",
              "</div>"
            ],
            "text/plain": [
              "       HBondDon  HBondAccept     MolMass  ...  EState_VSA5      BalabanJ     BertzCT\n",
              "0             0            5  391.009517  ...     0.000000  5.023333e-07  677.732098\n",
              "1             2            8  536.334918  ...    30.566788  2.023007e+00  886.683728\n",
              "2             0            3  313.991611  ...     0.000000  2.749966e+00  539.705832\n",
              "3             0            6  352.071366  ...    33.471780  2.258173e+00  768.834539\n",
              "4             2            2  192.126263  ...     0.000000  2.912652e+00  324.890810\n",
              "...         ...          ...         ...  ...          ...           ...         ...\n",
              "20764         1            4  421.125256  ...     0.000000  1.630416e-06  590.719154\n",
              "20765         0            3  406.250795  ...    30.399021  1.234673e+00  840.923969\n",
              "20766         3            5  306.091725  ...    10.763943  3.239998e-06  526.161850\n",
              "20767         2            6  298.971190  ...     0.000000  3.028444e+00  427.403876\n",
              "20768         0            2  152.998141  ...     6.079939  2.996028e+00  261.439525\n",
              "\n",
              "[20769 rows x 33 columns]"
            ]
          },
          "metadata": {
            "tags": []
          },
          "execution_count": 95
        }
      ]
    },
    {
      "cell_type": "code",
      "metadata": {
        "id": "C3w63oDw0p3h",
        "outputId": "cc626fa4-1e83-42dc-bd70-a6ce5535069e",
        "colab": {
          "base_uri": "https://localhost:8080/"
        }
      },
      "source": [
        "model = XGBClassifier(max_delta_step=5)\n",
        "model.fit(X,Y)"
      ],
      "execution_count": null,
      "outputs": [
        {
          "output_type": "execute_result",
          "data": {
            "text/plain": [
              "XGBClassifier(base_score=0.5, booster='gbtree', colsample_bylevel=1,\n",
              "              colsample_bynode=1, colsample_bytree=1, gamma=0,\n",
              "              learning_rate=0.1, max_delta_step=5, max_depth=3,\n",
              "              min_child_weight=1, missing=None, n_estimators=100, n_jobs=1,\n",
              "              nthread=None, objective='binary:logistic', random_state=0,\n",
              "              reg_alpha=0, reg_lambda=1, scale_pos_weight=1, seed=None,\n",
              "              silent=None, subsample=1, verbosity=1)"
            ]
          },
          "metadata": {
            "tags": []
          },
          "execution_count": 96
        }
      ]
    },
    {
      "cell_type": "code",
      "metadata": {
        "id": "yUU73zC50tuR",
        "outputId": "8aaa4bdf-7745-4fb6-a6cd-5708bd55d49d",
        "colab": {
          "base_uri": "https://localhost:8080/"
        }
      },
      "source": [
        "y_pred = model.predict(x)\n",
        "predictions = [value for value in y_pred]\n",
        "\n",
        "accuracy = accuracy_score(y, predictions)\n",
        "print(\"Accuracy: %.2f%%\" % (accuracy * 100.0))"
      ],
      "execution_count": null,
      "outputs": [
        {
          "output_type": "stream",
          "text": [
            "Accuracy: 73.97%\n"
          ],
          "name": "stdout"
        }
      ]
    },
    {
      "cell_type": "code",
      "metadata": {
        "id": "lIfc5_p80xRE"
      },
      "source": [
        "import tensorflow as tf\n",
        "\n",
        "from tensorflow.keras.layers import Input, Dense, Activation,Dropout\n",
        "from tensorflow.keras.models import Model, Sequential\n",
        "\n",
        "Y = Y.eq('yup').mul(1)\n",
        "y = y.eq('yup').mul(1)\n",
        "\n"
      ],
      "execution_count": null,
      "outputs": []
    },
    {
      "cell_type": "code",
      "metadata": {
        "id": "TEvmE3hj1Aur"
      },
      "source": [
        "classifier = tf.keras.models.Sequential() # initialize neural network\n",
        "classifier.add(Dense(units = 300, activation = 'relu', input_dim = X.shape[1]))\n",
        "classifier.add(Dropout(0.4))\n",
        "classifier.add(Dense(units = 10, activation = 'relu'))\n",
        "classifier.add(Dense(units = 1, activation = 'sigmoid'))\n",
        "classifier.compile(optimizer = 'adam', loss = 'binary_crossentropy', metrics = ['accuracy'])\n",
        "\n",
        "#model = Model(inputs=classifier, outputs=output)\n",
        "model3 = classifier\n",
        "model3.compile(loss='binary_crossentropy', optimizer='adam', metrics=['acc'])"
      ],
      "execution_count": null,
      "outputs": []
    },
    {
      "cell_type": "code",
      "metadata": {
        "id": "xFXTn-R61Bbk",
        "outputId": "56e101a6-3665-4f41-a0d3-ecb9eea3c1d2",
        "colab": {
          "base_uri": "https://localhost:8080/",
          "height": 820
        }
      },
      "source": [
        "history = model3.fit(X,Y, batch_size=2, epochs=50, verbose=1,validation_data=(x,y)) #validation_data=(x,y))"
      ],
      "execution_count": null,
      "outputs": [
        {
          "output_type": "stream",
          "text": [
            "WARNING:tensorflow:Falling back from v2 loop because of error: Failed to find data adapter that can handle input: <class 'pandas.core.frame.DataFrame'>, <class 'NoneType'>\n",
            "Train on 20788 samples, validate on 5179 samples\n",
            "Epoch 1/50\n",
            "20788/20788 [==============================] - 20s 973us/sample - loss: 7.7551 - acc: 0.4947 - val_loss: 7.2003 - val_acc: 0.5304\n",
            "Epoch 2/50\n",
            "20788/20788 [==============================] - 20s 968us/sample - loss: 7.7629 - acc: 0.4951 - val_loss: 8.1816 - val_acc: 0.4696\n",
            "Epoch 3/50\n",
            "20788/20788 [==============================] - 20s 962us/sample - loss: 5.6380 - acc: 0.5279 - val_loss: 0.6914 - val_acc: 0.5304\n",
            "Epoch 4/50\n",
            "20788/20788 [==============================] - 20s 971us/sample - loss: 0.6958 - acc: 0.5127 - val_loss: 0.6914 - val_acc: 0.5304\n",
            "Epoch 5/50\n",
            "20788/20788 [==============================] - 20s 977us/sample - loss: 0.6987 - acc: 0.5150 - val_loss: 0.6919 - val_acc: 0.5304\n",
            "Epoch 6/50\n",
            "20788/20788 [==============================] - 22s 1ms/sample - loss: 0.6950 - acc: 0.5151 - val_loss: 0.6921 - val_acc: 0.5304\n",
            "Epoch 7/50\n",
            "20788/20788 [==============================] - 21s 987us/sample - loss: 0.6962 - acc: 0.5147 - val_loss: 0.6913 - val_acc: 0.5304\n",
            "Epoch 8/50\n",
            "20788/20788 [==============================] - 21s 999us/sample - loss: 0.6936 - acc: 0.5151 - val_loss: 0.6915 - val_acc: 0.5304\n",
            "Epoch 9/50\n",
            "20788/20788 [==============================] - 23s 1ms/sample - loss: 0.6946 - acc: 0.5150 - val_loss: 0.6922 - val_acc: 0.5304\n",
            "Epoch 10/50\n",
            "20788/20788 [==============================] - 24s 1ms/sample - loss: 0.6976 - acc: 0.5151 - val_loss: 0.6916 - val_acc: 0.5304\n",
            "Epoch 11/50\n",
            "20788/20788 [==============================] - 21s 989us/sample - loss: 0.6928 - acc: 0.5151 - val_loss: 0.6918 - val_acc: 0.5304\n",
            "Epoch 12/50\n",
            "20788/20788 [==============================] - 21s 999us/sample - loss: 0.6939 - acc: 0.5142 - val_loss: 0.6914 - val_acc: 0.5304\n",
            "Epoch 13/50\n",
            "18624/20788 [=========================>....] - ETA: 1s - loss: 0.6954 - acc: 0.5156"
          ],
          "name": "stdout"
        },
        {
          "output_type": "error",
          "ename": "KeyboardInterrupt",
          "evalue": "ignored",
          "traceback": [
            "\u001b[0;31m---------------------------------------------------------------------------\u001b[0m",
            "\u001b[0;31mKeyboardInterrupt\u001b[0m                         Traceback (most recent call last)",
            "\u001b[0;32m<ipython-input-82-dd99a39caf61>\u001b[0m in \u001b[0;36m<module>\u001b[0;34m()\u001b[0m\n\u001b[0;32m----> 1\u001b[0;31m \u001b[0mhistory\u001b[0m \u001b[0;34m=\u001b[0m \u001b[0mmodel3\u001b[0m\u001b[0;34m.\u001b[0m\u001b[0mfit\u001b[0m\u001b[0;34m(\u001b[0m\u001b[0mX\u001b[0m\u001b[0;34m,\u001b[0m\u001b[0mY\u001b[0m\u001b[0;34m,\u001b[0m \u001b[0mbatch_size\u001b[0m\u001b[0;34m=\u001b[0m\u001b[0;36m2\u001b[0m\u001b[0;34m,\u001b[0m \u001b[0mepochs\u001b[0m\u001b[0;34m=\u001b[0m\u001b[0;36m50\u001b[0m\u001b[0;34m,\u001b[0m \u001b[0mverbose\u001b[0m\u001b[0;34m=\u001b[0m\u001b[0;36m1\u001b[0m\u001b[0;34m,\u001b[0m\u001b[0mvalidation_data\u001b[0m\u001b[0;34m=\u001b[0m\u001b[0;34m(\u001b[0m\u001b[0mx\u001b[0m\u001b[0;34m,\u001b[0m\u001b[0my\u001b[0m\u001b[0;34m)\u001b[0m\u001b[0;34m)\u001b[0m \u001b[0;31m#validation_data=(x,y))\u001b[0m\u001b[0;34m\u001b[0m\u001b[0;34m\u001b[0m\u001b[0m\n\u001b[0m",
            "\u001b[0;32m/usr/local/lib/python3.6/dist-packages/tensorflow_core/python/keras/engine/training.py\u001b[0m in \u001b[0;36mfit\u001b[0;34m(self, x, y, batch_size, epochs, verbose, callbacks, validation_split, validation_data, shuffle, class_weight, sample_weight, initial_epoch, steps_per_epoch, validation_steps, validation_freq, max_queue_size, workers, use_multiprocessing, **kwargs)\u001b[0m\n\u001b[1;32m    726\u001b[0m         \u001b[0mmax_queue_size\u001b[0m\u001b[0;34m=\u001b[0m\u001b[0mmax_queue_size\u001b[0m\u001b[0;34m,\u001b[0m\u001b[0;34m\u001b[0m\u001b[0;34m\u001b[0m\u001b[0m\n\u001b[1;32m    727\u001b[0m         \u001b[0mworkers\u001b[0m\u001b[0;34m=\u001b[0m\u001b[0mworkers\u001b[0m\u001b[0;34m,\u001b[0m\u001b[0;34m\u001b[0m\u001b[0;34m\u001b[0m\u001b[0m\n\u001b[0;32m--> 728\u001b[0;31m         use_multiprocessing=use_multiprocessing)\n\u001b[0m\u001b[1;32m    729\u001b[0m \u001b[0;34m\u001b[0m\u001b[0m\n\u001b[1;32m    730\u001b[0m   def evaluate(self,\n",
            "\u001b[0;32m/usr/local/lib/python3.6/dist-packages/tensorflow_core/python/keras/engine/training_arrays.py\u001b[0m in \u001b[0;36mfit\u001b[0;34m(self, model, x, y, batch_size, epochs, verbose, callbacks, validation_split, validation_data, shuffle, class_weight, sample_weight, initial_epoch, steps_per_epoch, validation_steps, validation_freq, **kwargs)\u001b[0m\n\u001b[1;32m    672\u001b[0m         \u001b[0mvalidation_steps\u001b[0m\u001b[0;34m=\u001b[0m\u001b[0mvalidation_steps\u001b[0m\u001b[0;34m,\u001b[0m\u001b[0;34m\u001b[0m\u001b[0;34m\u001b[0m\u001b[0m\n\u001b[1;32m    673\u001b[0m         \u001b[0mvalidation_freq\u001b[0m\u001b[0;34m=\u001b[0m\u001b[0mvalidation_freq\u001b[0m\u001b[0;34m,\u001b[0m\u001b[0;34m\u001b[0m\u001b[0;34m\u001b[0m\u001b[0m\n\u001b[0;32m--> 674\u001b[0;31m         steps_name='steps_per_epoch')\n\u001b[0m\u001b[1;32m    675\u001b[0m \u001b[0;34m\u001b[0m\u001b[0m\n\u001b[1;32m    676\u001b[0m   def evaluate(self,\n",
            "\u001b[0;32m/usr/local/lib/python3.6/dist-packages/tensorflow_core/python/keras/engine/training_arrays.py\u001b[0m in \u001b[0;36mmodel_iteration\u001b[0;34m(model, inputs, targets, sample_weights, batch_size, epochs, verbose, callbacks, val_inputs, val_targets, val_sample_weights, shuffle, initial_epoch, steps_per_epoch, validation_steps, validation_freq, mode, validation_in_fit, prepared_feed_values_from_dataset, steps_name, **kwargs)\u001b[0m\n\u001b[1;32m    391\u001b[0m \u001b[0;34m\u001b[0m\u001b[0m\n\u001b[1;32m    392\u001b[0m         \u001b[0;31m# Get outputs.\u001b[0m\u001b[0;34m\u001b[0m\u001b[0;34m\u001b[0m\u001b[0;34m\u001b[0m\u001b[0m\n\u001b[0;32m--> 393\u001b[0;31m         \u001b[0mbatch_outs\u001b[0m \u001b[0;34m=\u001b[0m \u001b[0mf\u001b[0m\u001b[0;34m(\u001b[0m\u001b[0mins_batch\u001b[0m\u001b[0;34m)\u001b[0m\u001b[0;34m\u001b[0m\u001b[0;34m\u001b[0m\u001b[0m\n\u001b[0m\u001b[1;32m    394\u001b[0m         \u001b[0;32mif\u001b[0m \u001b[0;32mnot\u001b[0m \u001b[0misinstance\u001b[0m\u001b[0;34m(\u001b[0m\u001b[0mbatch_outs\u001b[0m\u001b[0;34m,\u001b[0m \u001b[0mlist\u001b[0m\u001b[0;34m)\u001b[0m\u001b[0;34m:\u001b[0m\u001b[0;34m\u001b[0m\u001b[0;34m\u001b[0m\u001b[0m\n\u001b[1;32m    395\u001b[0m           \u001b[0mbatch_outs\u001b[0m \u001b[0;34m=\u001b[0m \u001b[0;34m[\u001b[0m\u001b[0mbatch_outs\u001b[0m\u001b[0;34m]\u001b[0m\u001b[0;34m\u001b[0m\u001b[0;34m\u001b[0m\u001b[0m\n",
            "\u001b[0;32m/usr/local/lib/python3.6/dist-packages/tensorflow_core/python/keras/backend.py\u001b[0m in \u001b[0;36m__call__\u001b[0;34m(self, inputs)\u001b[0m\n\u001b[1;32m   3738\u001b[0m         \u001b[0mvalue\u001b[0m \u001b[0;34m=\u001b[0m \u001b[0mmath_ops\u001b[0m\u001b[0;34m.\u001b[0m\u001b[0mcast\u001b[0m\u001b[0;34m(\u001b[0m\u001b[0mvalue\u001b[0m\u001b[0;34m,\u001b[0m \u001b[0mtensor\u001b[0m\u001b[0;34m.\u001b[0m\u001b[0mdtype\u001b[0m\u001b[0;34m)\u001b[0m\u001b[0;34m\u001b[0m\u001b[0;34m\u001b[0m\u001b[0m\n\u001b[1;32m   3739\u001b[0m       \u001b[0mconverted_inputs\u001b[0m\u001b[0;34m.\u001b[0m\u001b[0mappend\u001b[0m\u001b[0;34m(\u001b[0m\u001b[0mvalue\u001b[0m\u001b[0;34m)\u001b[0m\u001b[0;34m\u001b[0m\u001b[0;34m\u001b[0m\u001b[0m\n\u001b[0;32m-> 3740\u001b[0;31m     \u001b[0moutputs\u001b[0m \u001b[0;34m=\u001b[0m \u001b[0mself\u001b[0m\u001b[0;34m.\u001b[0m\u001b[0m_graph_fn\u001b[0m\u001b[0;34m(\u001b[0m\u001b[0;34m*\u001b[0m\u001b[0mconverted_inputs\u001b[0m\u001b[0;34m)\u001b[0m\u001b[0;34m\u001b[0m\u001b[0;34m\u001b[0m\u001b[0m\n\u001b[0m\u001b[1;32m   3741\u001b[0m \u001b[0;34m\u001b[0m\u001b[0m\n\u001b[1;32m   3742\u001b[0m     \u001b[0;31m# EagerTensor.numpy() will often make a copy to ensure memory safety.\u001b[0m\u001b[0;34m\u001b[0m\u001b[0;34m\u001b[0m\u001b[0;34m\u001b[0m\u001b[0m\n",
            "\u001b[0;32m/usr/local/lib/python3.6/dist-packages/tensorflow_core/python/eager/function.py\u001b[0m in \u001b[0;36m__call__\u001b[0;34m(self, *args, **kwargs)\u001b[0m\n\u001b[1;32m   1079\u001b[0m       \u001b[0mTypeError\u001b[0m\u001b[0;34m:\u001b[0m \u001b[0mFor\u001b[0m \u001b[0minvalid\u001b[0m \u001b[0mpositional\u001b[0m\u001b[0;34m/\u001b[0m\u001b[0mkeyword\u001b[0m \u001b[0margument\u001b[0m \u001b[0mcombinations\u001b[0m\u001b[0;34m.\u001b[0m\u001b[0;34m\u001b[0m\u001b[0;34m\u001b[0m\u001b[0m\n\u001b[1;32m   1080\u001b[0m     \"\"\"\n\u001b[0;32m-> 1081\u001b[0;31m     \u001b[0;32mreturn\u001b[0m \u001b[0mself\u001b[0m\u001b[0;34m.\u001b[0m\u001b[0m_call_impl\u001b[0m\u001b[0;34m(\u001b[0m\u001b[0margs\u001b[0m\u001b[0;34m,\u001b[0m \u001b[0mkwargs\u001b[0m\u001b[0;34m)\u001b[0m\u001b[0;34m\u001b[0m\u001b[0;34m\u001b[0m\u001b[0m\n\u001b[0m\u001b[1;32m   1082\u001b[0m \u001b[0;34m\u001b[0m\u001b[0m\n\u001b[1;32m   1083\u001b[0m   \u001b[0;32mdef\u001b[0m \u001b[0m_call_impl\u001b[0m\u001b[0;34m(\u001b[0m\u001b[0mself\u001b[0m\u001b[0;34m,\u001b[0m \u001b[0margs\u001b[0m\u001b[0;34m,\u001b[0m \u001b[0mkwargs\u001b[0m\u001b[0;34m,\u001b[0m \u001b[0mcancellation_manager\u001b[0m\u001b[0;34m=\u001b[0m\u001b[0;32mNone\u001b[0m\u001b[0;34m)\u001b[0m\u001b[0;34m:\u001b[0m\u001b[0;34m\u001b[0m\u001b[0;34m\u001b[0m\u001b[0m\n",
            "\u001b[0;32m/usr/local/lib/python3.6/dist-packages/tensorflow_core/python/eager/function.py\u001b[0m in \u001b[0;36m_call_impl\u001b[0;34m(self, args, kwargs, cancellation_manager)\u001b[0m\n\u001b[1;32m   1119\u001b[0m       raise TypeError(\"Keyword arguments {} unknown. Expected {}.\".format(\n\u001b[1;32m   1120\u001b[0m           list(kwargs.keys()), list(self._arg_keywords)))\n\u001b[0;32m-> 1121\u001b[0;31m     \u001b[0;32mreturn\u001b[0m \u001b[0mself\u001b[0m\u001b[0;34m.\u001b[0m\u001b[0m_call_flat\u001b[0m\u001b[0;34m(\u001b[0m\u001b[0margs\u001b[0m\u001b[0;34m,\u001b[0m \u001b[0mself\u001b[0m\u001b[0;34m.\u001b[0m\u001b[0mcaptured_inputs\u001b[0m\u001b[0;34m,\u001b[0m \u001b[0mcancellation_manager\u001b[0m\u001b[0;34m)\u001b[0m\u001b[0;34m\u001b[0m\u001b[0;34m\u001b[0m\u001b[0m\n\u001b[0m\u001b[1;32m   1122\u001b[0m \u001b[0;34m\u001b[0m\u001b[0m\n\u001b[1;32m   1123\u001b[0m   \u001b[0;32mdef\u001b[0m \u001b[0m_filtered_call\u001b[0m\u001b[0;34m(\u001b[0m\u001b[0mself\u001b[0m\u001b[0;34m,\u001b[0m \u001b[0margs\u001b[0m\u001b[0;34m,\u001b[0m \u001b[0mkwargs\u001b[0m\u001b[0;34m)\u001b[0m\u001b[0;34m:\u001b[0m\u001b[0;34m\u001b[0m\u001b[0;34m\u001b[0m\u001b[0m\n",
            "\u001b[0;32m/usr/local/lib/python3.6/dist-packages/tensorflow_core/python/eager/function.py\u001b[0m in \u001b[0;36m_call_flat\u001b[0;34m(self, args, captured_inputs, cancellation_manager)\u001b[0m\n\u001b[1;32m   1222\u001b[0m     \u001b[0;32mif\u001b[0m \u001b[0mexecuting_eagerly\u001b[0m\u001b[0;34m:\u001b[0m\u001b[0;34m\u001b[0m\u001b[0;34m\u001b[0m\u001b[0m\n\u001b[1;32m   1223\u001b[0m       flat_outputs = forward_function.call(\n\u001b[0;32m-> 1224\u001b[0;31m           ctx, args, cancellation_manager=cancellation_manager)\n\u001b[0m\u001b[1;32m   1225\u001b[0m     \u001b[0;32melse\u001b[0m\u001b[0;34m:\u001b[0m\u001b[0;34m\u001b[0m\u001b[0;34m\u001b[0m\u001b[0m\n\u001b[1;32m   1226\u001b[0m       \u001b[0mgradient_name\u001b[0m \u001b[0;34m=\u001b[0m \u001b[0mself\u001b[0m\u001b[0;34m.\u001b[0m\u001b[0m_delayed_rewrite_functions\u001b[0m\u001b[0;34m.\u001b[0m\u001b[0mregister\u001b[0m\u001b[0;34m(\u001b[0m\u001b[0;34m)\u001b[0m\u001b[0;34m\u001b[0m\u001b[0;34m\u001b[0m\u001b[0m\n",
            "\u001b[0;32m/usr/local/lib/python3.6/dist-packages/tensorflow_core/python/eager/function.py\u001b[0m in \u001b[0;36mcall\u001b[0;34m(self, ctx, args, cancellation_manager)\u001b[0m\n\u001b[1;32m    509\u001b[0m               \u001b[0minputs\u001b[0m\u001b[0;34m=\u001b[0m\u001b[0margs\u001b[0m\u001b[0;34m,\u001b[0m\u001b[0;34m\u001b[0m\u001b[0;34m\u001b[0m\u001b[0m\n\u001b[1;32m    510\u001b[0m               \u001b[0mattrs\u001b[0m\u001b[0;34m=\u001b[0m\u001b[0;34m(\u001b[0m\u001b[0;34m\"executor_type\"\u001b[0m\u001b[0;34m,\u001b[0m \u001b[0mexecutor_type\u001b[0m\u001b[0;34m,\u001b[0m \u001b[0;34m\"config_proto\"\u001b[0m\u001b[0;34m,\u001b[0m \u001b[0mconfig\u001b[0m\u001b[0;34m)\u001b[0m\u001b[0;34m,\u001b[0m\u001b[0;34m\u001b[0m\u001b[0;34m\u001b[0m\u001b[0m\n\u001b[0;32m--> 511\u001b[0;31m               ctx=ctx)\n\u001b[0m\u001b[1;32m    512\u001b[0m         \u001b[0;32melse\u001b[0m\u001b[0;34m:\u001b[0m\u001b[0;34m\u001b[0m\u001b[0;34m\u001b[0m\u001b[0m\n\u001b[1;32m    513\u001b[0m           outputs = execute.execute_with_cancellation(\n",
            "\u001b[0;32m/usr/local/lib/python3.6/dist-packages/tensorflow_core/python/eager/execute.py\u001b[0m in \u001b[0;36mquick_execute\u001b[0;34m(op_name, num_outputs, inputs, attrs, ctx, name)\u001b[0m\n\u001b[1;32m     59\u001b[0m     tensors = pywrap_tensorflow.TFE_Py_Execute(ctx._handle, device_name,\n\u001b[1;32m     60\u001b[0m                                                \u001b[0mop_name\u001b[0m\u001b[0;34m,\u001b[0m \u001b[0minputs\u001b[0m\u001b[0;34m,\u001b[0m \u001b[0mattrs\u001b[0m\u001b[0;34m,\u001b[0m\u001b[0;34m\u001b[0m\u001b[0;34m\u001b[0m\u001b[0m\n\u001b[0;32m---> 61\u001b[0;31m                                                num_outputs)\n\u001b[0m\u001b[1;32m     62\u001b[0m   \u001b[0;32mexcept\u001b[0m \u001b[0mcore\u001b[0m\u001b[0;34m.\u001b[0m\u001b[0m_NotOkStatusException\u001b[0m \u001b[0;32mas\u001b[0m \u001b[0me\u001b[0m\u001b[0;34m:\u001b[0m\u001b[0;34m\u001b[0m\u001b[0;34m\u001b[0m\u001b[0m\n\u001b[1;32m     63\u001b[0m     \u001b[0;32mif\u001b[0m \u001b[0mname\u001b[0m \u001b[0;32mis\u001b[0m \u001b[0;32mnot\u001b[0m \u001b[0;32mNone\u001b[0m\u001b[0;34m:\u001b[0m\u001b[0;34m\u001b[0m\u001b[0;34m\u001b[0m\u001b[0m\n",
            "\u001b[0;31mKeyboardInterrupt\u001b[0m: "
          ]
        }
      ]
    },
    {
      "cell_type": "code",
      "metadata": {
        "id": "u-8HMvUd1Ew4",
        "outputId": "c946bcae-e807-4b3f-f800-0847dcea59db",
        "colab": {
          "base_uri": "https://localhost:8080/",
          "height": 1000
        }
      },
      "source": [
        "model4 = tf.keras.Sequential([\n",
        "  Dense(units = 256, activation = 'relu', input_dim = X.shape[1]),\n",
        "  Dense(128, activation='relu'),\n",
        "  Dense(128, activation='relu'),\n",
        "  Dropout(.1),\n",
        "  Dense(1)\n",
        "])\n",
        "\n",
        "model4.compile(optimizer='adam',\n",
        "              loss=tf.keras.losses.BinaryCrossentropy(from_logits=True),\n",
        "              metrics=['accuracy'])\n",
        "\n",
        "model4.fit(X,Y,\n",
        "          validation_data=(x,y),\n",
        "          epochs=500,batch_size=1000)"
      ],
      "execution_count": null,
      "outputs": [
        {
          "output_type": "stream",
          "text": [
            "WARNING:tensorflow:Falling back from v2 loop because of error: Failed to find data adapter that can handle input: <class 'pandas.core.frame.DataFrame'>, <class 'NoneType'>\n",
            "Train on 20788 samples, validate on 5179 samples\n",
            "Epoch 1/500\n",
            "20788/20788 [==============================] - 1s 32us/sample - loss: 8.5216 - accuracy: 0.5317 - val_loss: 1.6125 - val_accuracy: 0.5955\n",
            "Epoch 2/500\n",
            "20788/20788 [==============================] - 0s 17us/sample - loss: 2.7588 - accuracy: 0.5525 - val_loss: 0.8820 - val_accuracy: 0.6246\n",
            "Epoch 3/500\n",
            "20788/20788 [==============================] - 0s 17us/sample - loss: 1.3350 - accuracy: 0.5617 - val_loss: 0.6893 - val_accuracy: 0.6032\n",
            "Epoch 4/500\n",
            "20788/20788 [==============================] - 0s 16us/sample - loss: 0.9183 - accuracy: 0.5684 - val_loss: 0.6462 - val_accuracy: 0.5964\n",
            "Epoch 5/500\n",
            "20788/20788 [==============================] - 0s 17us/sample - loss: 0.7420 - accuracy: 0.5901 - val_loss: 0.6407 - val_accuracy: 0.5932\n",
            "Epoch 6/500\n",
            "20788/20788 [==============================] - 0s 17us/sample - loss: 0.6802 - accuracy: 0.5935 - val_loss: 0.6420 - val_accuracy: 0.6387\n",
            "Epoch 7/500\n",
            "20788/20788 [==============================] - 0s 17us/sample - loss: 0.6561 - accuracy: 0.5949 - val_loss: 0.6200 - val_accuracy: 0.6260\n",
            "Epoch 8/500\n",
            "20788/20788 [==============================] - 0s 17us/sample - loss: 0.6355 - accuracy: 0.6066 - val_loss: 0.6137 - val_accuracy: 0.6127\n",
            "Epoch 9/500\n",
            "20788/20788 [==============================] - 0s 17us/sample - loss: 0.6223 - accuracy: 0.6146 - val_loss: 0.6220 - val_accuracy: 0.5750\n",
            "Epoch 10/500\n",
            "20788/20788 [==============================] - 0s 17us/sample - loss: 0.6168 - accuracy: 0.6139 - val_loss: 0.6276 - val_accuracy: 0.5829\n",
            "Epoch 11/500\n",
            "20788/20788 [==============================] - 0s 18us/sample - loss: 0.6149 - accuracy: 0.6174 - val_loss: 0.6125 - val_accuracy: 0.6121\n",
            "Epoch 12/500\n",
            "20788/20788 [==============================] - 0s 17us/sample - loss: 0.6114 - accuracy: 0.6223 - val_loss: 0.6016 - val_accuracy: 0.6215\n",
            "Epoch 13/500\n",
            "20788/20788 [==============================] - 0s 17us/sample - loss: 0.6182 - accuracy: 0.6206 - val_loss: 0.6341 - val_accuracy: 0.5953\n",
            "Epoch 14/500\n",
            "20788/20788 [==============================] - 0s 17us/sample - loss: 0.6089 - accuracy: 0.6262 - val_loss: 0.6057 - val_accuracy: 0.6283\n",
            "Epoch 15/500\n",
            "20788/20788 [==============================] - 0s 16us/sample - loss: 0.6068 - accuracy: 0.6266 - val_loss: 0.6039 - val_accuracy: 0.6580\n",
            "Epoch 16/500\n",
            "20788/20788 [==============================] - 0s 17us/sample - loss: 0.6023 - accuracy: 0.6335 - val_loss: 0.5952 - val_accuracy: 0.6287\n",
            "Epoch 17/500\n",
            "20788/20788 [==============================] - 0s 17us/sample - loss: 0.5983 - accuracy: 0.6344 - val_loss: 0.6091 - val_accuracy: 0.6254\n",
            "Epoch 18/500\n",
            "20788/20788 [==============================] - 0s 16us/sample - loss: 0.5984 - accuracy: 0.6391 - val_loss: 0.5865 - val_accuracy: 0.6519\n",
            "Epoch 19/500\n",
            "20788/20788 [==============================] - 0s 17us/sample - loss: 0.5955 - accuracy: 0.6433 - val_loss: 0.5974 - val_accuracy: 0.6268\n",
            "Epoch 20/500\n",
            "20788/20788 [==============================] - 0s 18us/sample - loss: 0.5965 - accuracy: 0.6404 - val_loss: 0.5855 - val_accuracy: 0.6577\n",
            "Epoch 21/500\n",
            "20788/20788 [==============================] - 0s 17us/sample - loss: 0.5927 - accuracy: 0.6421 - val_loss: 0.5855 - val_accuracy: 0.6719\n",
            "Epoch 22/500\n",
            "20788/20788 [==============================] - 0s 17us/sample - loss: 0.5843 - accuracy: 0.6561 - val_loss: 0.5838 - val_accuracy: 0.6679\n",
            "Epoch 23/500\n",
            "20788/20788 [==============================] - 0s 17us/sample - loss: 0.5846 - accuracy: 0.6596 - val_loss: 0.5800 - val_accuracy: 0.6644\n",
            "Epoch 24/500\n",
            "20788/20788 [==============================] - 0s 17us/sample - loss: 0.5825 - accuracy: 0.6603 - val_loss: 0.5799 - val_accuracy: 0.6551\n",
            "Epoch 25/500\n",
            "20788/20788 [==============================] - 0s 17us/sample - loss: 0.5821 - accuracy: 0.6571 - val_loss: 0.5882 - val_accuracy: 0.6569\n",
            "Epoch 26/500\n",
            "20788/20788 [==============================] - 0s 17us/sample - loss: 0.5848 - accuracy: 0.6532 - val_loss: 0.5775 - val_accuracy: 0.6685\n",
            "Epoch 27/500\n",
            "20788/20788 [==============================] - 0s 18us/sample - loss: 0.5823 - accuracy: 0.6621 - val_loss: 0.5761 - val_accuracy: 0.6801\n",
            "Epoch 28/500\n",
            "20788/20788 [==============================] - 0s 17us/sample - loss: 0.5787 - accuracy: 0.6663 - val_loss: 0.5809 - val_accuracy: 0.6609\n",
            "Epoch 29/500\n",
            "20788/20788 [==============================] - 0s 18us/sample - loss: 0.5824 - accuracy: 0.6582 - val_loss: 0.5998 - val_accuracy: 0.6358\n",
            "Epoch 30/500\n",
            "20788/20788 [==============================] - 0s 17us/sample - loss: 0.5817 - accuracy: 0.6549 - val_loss: 0.5796 - val_accuracy: 0.6563\n",
            "Epoch 31/500\n",
            "20788/20788 [==============================] - 0s 17us/sample - loss: 0.5771 - accuracy: 0.6667 - val_loss: 0.5788 - val_accuracy: 0.6557\n",
            "Epoch 32/500\n",
            "20788/20788 [==============================] - 0s 17us/sample - loss: 0.5717 - accuracy: 0.6696 - val_loss: 0.5765 - val_accuracy: 0.6878\n",
            "Epoch 33/500\n",
            "20788/20788 [==============================] - 0s 17us/sample - loss: 0.5805 - accuracy: 0.6608 - val_loss: 0.5900 - val_accuracy: 0.6544\n",
            "Epoch 34/500\n",
            "20788/20788 [==============================] - 0s 17us/sample - loss: 0.5822 - accuracy: 0.6580 - val_loss: 0.5811 - val_accuracy: 0.6511\n",
            "Epoch 35/500\n",
            "20788/20788 [==============================] - 0s 17us/sample - loss: 0.5712 - accuracy: 0.6642 - val_loss: 0.5777 - val_accuracy: 0.6665\n",
            "Epoch 36/500\n",
            "20788/20788 [==============================] - 0s 17us/sample - loss: 0.5699 - accuracy: 0.6687 - val_loss: 0.5708 - val_accuracy: 0.6648\n",
            "Epoch 37/500\n",
            "20788/20788 [==============================] - 0s 18us/sample - loss: 0.5700 - accuracy: 0.6722 - val_loss: 0.5956 - val_accuracy: 0.6275\n",
            "Epoch 38/500\n",
            "20788/20788 [==============================] - 0s 17us/sample - loss: 0.5814 - accuracy: 0.6617 - val_loss: 0.5869 - val_accuracy: 0.6522\n",
            "Epoch 39/500\n",
            "20788/20788 [==============================] - 0s 17us/sample - loss: 0.5721 - accuracy: 0.6694 - val_loss: 0.5681 - val_accuracy: 0.6710\n",
            "Epoch 40/500\n",
            "20788/20788 [==============================] - 0s 17us/sample - loss: 0.5682 - accuracy: 0.6699 - val_loss: 0.5784 - val_accuracy: 0.6710\n",
            "Epoch 41/500\n",
            "20788/20788 [==============================] - 0s 18us/sample - loss: 0.5696 - accuracy: 0.6787 - val_loss: 0.5647 - val_accuracy: 0.6723\n",
            "Epoch 42/500\n",
            "20788/20788 [==============================] - 0s 17us/sample - loss: 0.5624 - accuracy: 0.6792 - val_loss: 0.5658 - val_accuracy: 0.6826\n",
            "Epoch 43/500\n",
            "20788/20788 [==============================] - 0s 17us/sample - loss: 0.5625 - accuracy: 0.6784 - val_loss: 0.5682 - val_accuracy: 0.6864\n",
            "Epoch 44/500\n",
            "20788/20788 [==============================] - 0s 17us/sample - loss: 0.5624 - accuracy: 0.6786 - val_loss: 0.5765 - val_accuracy: 0.7086\n",
            "Epoch 45/500\n",
            "20788/20788 [==============================] - 0s 17us/sample - loss: 0.5634 - accuracy: 0.6764 - val_loss: 0.5865 - val_accuracy: 0.6808\n",
            "Epoch 46/500\n",
            "20788/20788 [==============================] - 0s 17us/sample - loss: 0.5657 - accuracy: 0.6774 - val_loss: 0.5810 - val_accuracy: 0.6617\n",
            "Epoch 47/500\n",
            "20788/20788 [==============================] - 0s 18us/sample - loss: 0.5645 - accuracy: 0.6787 - val_loss: 0.5668 - val_accuracy: 0.6855\n",
            "Epoch 48/500\n",
            "20788/20788 [==============================] - 0s 18us/sample - loss: 0.5652 - accuracy: 0.6815 - val_loss: 0.5700 - val_accuracy: 0.6926\n",
            "Epoch 49/500\n",
            "20788/20788 [==============================] - 0s 17us/sample - loss: 0.5668 - accuracy: 0.6725 - val_loss: 0.5766 - val_accuracy: 0.6814\n",
            "Epoch 50/500\n",
            "20788/20788 [==============================] - 0s 17us/sample - loss: 0.5709 - accuracy: 0.6694 - val_loss: 0.5728 - val_accuracy: 0.6926\n",
            "Epoch 51/500\n",
            "20788/20788 [==============================] - 0s 18us/sample - loss: 0.5625 - accuracy: 0.6811 - val_loss: 0.5677 - val_accuracy: 0.6824\n",
            "Epoch 52/500\n",
            "20788/20788 [==============================] - 0s 17us/sample - loss: 0.5607 - accuracy: 0.6796 - val_loss: 0.5664 - val_accuracy: 0.6756\n",
            "Epoch 53/500\n",
            "20788/20788 [==============================] - 0s 17us/sample - loss: 0.5627 - accuracy: 0.6775 - val_loss: 0.5731 - val_accuracy: 0.6480\n",
            "Epoch 54/500\n",
            "20788/20788 [==============================] - 0s 18us/sample - loss: 0.5579 - accuracy: 0.6814 - val_loss: 0.5726 - val_accuracy: 0.6644\n",
            "Epoch 55/500\n",
            "20788/20788 [==============================] - 0s 17us/sample - loss: 0.5627 - accuracy: 0.6774 - val_loss: 0.5708 - val_accuracy: 0.6926\n",
            "Epoch 56/500\n",
            "20788/20788 [==============================] - 0s 17us/sample - loss: 0.5566 - accuracy: 0.6821 - val_loss: 0.5665 - val_accuracy: 0.6868\n",
            "Epoch 57/500\n",
            "20788/20788 [==============================] - 0s 18us/sample - loss: 0.5565 - accuracy: 0.6795 - val_loss: 0.5655 - val_accuracy: 0.6718\n",
            "Epoch 58/500\n",
            "20788/20788 [==============================] - 0s 17us/sample - loss: 0.5616 - accuracy: 0.6802 - val_loss: 0.5579 - val_accuracy: 0.6893\n",
            "Epoch 59/500\n",
            "20788/20788 [==============================] - 0s 16us/sample - loss: 0.5530 - accuracy: 0.6860 - val_loss: 0.5775 - val_accuracy: 0.6914\n",
            "Epoch 60/500\n",
            "20788/20788 [==============================] - 0s 18us/sample - loss: 0.5607 - accuracy: 0.6788 - val_loss: 0.5687 - val_accuracy: 0.6654\n",
            "Epoch 61/500\n",
            "20788/20788 [==============================] - 0s 17us/sample - loss: 0.5568 - accuracy: 0.6822 - val_loss: 0.5603 - val_accuracy: 0.6876\n",
            "Epoch 62/500\n",
            "20788/20788 [==============================] - 0s 17us/sample - loss: 0.5569 - accuracy: 0.6809 - val_loss: 0.5846 - val_accuracy: 0.6385\n",
            "Epoch 63/500\n",
            "20788/20788 [==============================] - 0s 18us/sample - loss: 0.5573 - accuracy: 0.6779 - val_loss: 0.5687 - val_accuracy: 0.6820\n",
            "Epoch 64/500\n",
            "20788/20788 [==============================] - 0s 17us/sample - loss: 0.5560 - accuracy: 0.6861 - val_loss: 0.5670 - val_accuracy: 0.6837\n",
            "Epoch 65/500\n",
            "20788/20788 [==============================] - 0s 17us/sample - loss: 0.5568 - accuracy: 0.6797 - val_loss: 0.5679 - val_accuracy: 0.7003\n",
            "Epoch 66/500\n",
            "20788/20788 [==============================] - 0s 17us/sample - loss: 0.5534 - accuracy: 0.6840 - val_loss: 0.5799 - val_accuracy: 0.7127\n",
            "Epoch 67/500\n",
            "20788/20788 [==============================] - 0s 17us/sample - loss: 0.5664 - accuracy: 0.6784 - val_loss: 0.5764 - val_accuracy: 0.6565\n",
            "Epoch 68/500\n",
            "20788/20788 [==============================] - 0s 17us/sample - loss: 0.5588 - accuracy: 0.6808 - val_loss: 0.5653 - val_accuracy: 0.7017\n",
            "Epoch 69/500\n",
            "20788/20788 [==============================] - 0s 17us/sample - loss: 0.5689 - accuracy: 0.6741 - val_loss: 0.5843 - val_accuracy: 0.6762\n",
            "Epoch 70/500\n",
            "20788/20788 [==============================] - 0s 18us/sample - loss: 0.5629 - accuracy: 0.6807 - val_loss: 0.5639 - val_accuracy: 0.6750\n",
            "Epoch 71/500\n",
            "20788/20788 [==============================] - 0s 18us/sample - loss: 0.5544 - accuracy: 0.6810 - val_loss: 0.5705 - val_accuracy: 0.7075\n",
            "Epoch 72/500\n",
            "20788/20788 [==============================] - 0s 18us/sample - loss: 0.5623 - accuracy: 0.6719 - val_loss: 0.5960 - val_accuracy: 0.6596\n",
            "Epoch 73/500\n",
            "20788/20788 [==============================] - 0s 18us/sample - loss: 0.5566 - accuracy: 0.6721 - val_loss: 0.5628 - val_accuracy: 0.6936\n",
            "Epoch 74/500\n",
            "20788/20788 [==============================] - 0s 18us/sample - loss: 0.5543 - accuracy: 0.6853 - val_loss: 0.5806 - val_accuracy: 0.6733\n",
            "Epoch 75/500\n",
            "20788/20788 [==============================] - 0s 17us/sample - loss: 0.5468 - accuracy: 0.6916 - val_loss: 0.5595 - val_accuracy: 0.6837\n",
            "Epoch 76/500\n",
            "20788/20788 [==============================] - 0s 18us/sample - loss: 0.5477 - accuracy: 0.6916 - val_loss: 0.5694 - val_accuracy: 0.6787\n",
            "Epoch 77/500\n",
            "20788/20788 [==============================] - 0s 18us/sample - loss: 0.5449 - accuracy: 0.6891 - val_loss: 0.5620 - val_accuracy: 0.6940\n",
            "Epoch 78/500\n",
            "20788/20788 [==============================] - 0s 17us/sample - loss: 0.5489 - accuracy: 0.6869 - val_loss: 0.5693 - val_accuracy: 0.6855\n",
            "Epoch 79/500\n",
            "20788/20788 [==============================] - 0s 18us/sample - loss: 0.5505 - accuracy: 0.6892 - val_loss: 0.5793 - val_accuracy: 0.6557\n",
            "Epoch 80/500\n",
            "20788/20788 [==============================] - 0s 17us/sample - loss: 0.5543 - accuracy: 0.6859 - val_loss: 0.5779 - val_accuracy: 0.7133\n",
            "Epoch 81/500\n",
            "20788/20788 [==============================] - 0s 17us/sample - loss: 0.5544 - accuracy: 0.6797 - val_loss: 0.5926 - val_accuracy: 0.6594\n",
            "Epoch 82/500\n",
            "20788/20788 [==============================] - 0s 18us/sample - loss: 0.5572 - accuracy: 0.6739 - val_loss: 0.5725 - val_accuracy: 0.6696\n",
            "Epoch 83/500\n",
            "20788/20788 [==============================] - 0s 18us/sample - loss: 0.5546 - accuracy: 0.6822 - val_loss: 0.5655 - val_accuracy: 0.6791\n",
            "Epoch 84/500\n",
            "20788/20788 [==============================] - 0s 17us/sample - loss: 0.5490 - accuracy: 0.6799 - val_loss: 0.5632 - val_accuracy: 0.6665\n",
            "Epoch 85/500\n",
            "20788/20788 [==============================] - 0s 18us/sample - loss: 0.5514 - accuracy: 0.6849 - val_loss: 0.5680 - val_accuracy: 0.7069\n",
            "Epoch 86/500\n",
            "20788/20788 [==============================] - 0s 18us/sample - loss: 0.5490 - accuracy: 0.6869 - val_loss: 0.5650 - val_accuracy: 0.7100\n",
            "Epoch 87/500\n",
            "20788/20788 [==============================] - 0s 18us/sample - loss: 0.5426 - accuracy: 0.6928 - val_loss: 0.5532 - val_accuracy: 0.6984\n",
            "Epoch 88/500\n",
            "20788/20788 [==============================] - 0s 17us/sample - loss: 0.5484 - accuracy: 0.6891 - val_loss: 0.5626 - val_accuracy: 0.6816\n",
            "Epoch 89/500\n",
            "20788/20788 [==============================] - 0s 17us/sample - loss: 0.5455 - accuracy: 0.6899 - val_loss: 0.5689 - val_accuracy: 0.6959\n",
            "Epoch 90/500\n",
            "20788/20788 [==============================] - 0s 18us/sample - loss: 0.5479 - accuracy: 0.6827 - val_loss: 0.5581 - val_accuracy: 0.6853\n",
            "Epoch 91/500\n",
            "20788/20788 [==============================] - 0s 17us/sample - loss: 0.5455 - accuracy: 0.6892 - val_loss: 0.5642 - val_accuracy: 0.6897\n",
            "Epoch 92/500\n",
            "20788/20788 [==============================] - 0s 18us/sample - loss: 0.5410 - accuracy: 0.6950 - val_loss: 0.5654 - val_accuracy: 0.6772\n",
            "Epoch 93/500\n",
            "20788/20788 [==============================] - 0s 18us/sample - loss: 0.5486 - accuracy: 0.6889 - val_loss: 0.5781 - val_accuracy: 0.6835\n",
            "Epoch 94/500\n",
            "20788/20788 [==============================] - 0s 17us/sample - loss: 0.5509 - accuracy: 0.6911 - val_loss: 0.5603 - val_accuracy: 0.6874\n",
            "Epoch 95/500\n",
            "20788/20788 [==============================] - 0s 18us/sample - loss: 0.5443 - accuracy: 0.6892 - val_loss: 0.5582 - val_accuracy: 0.6858\n",
            "Epoch 96/500\n",
            "20788/20788 [==============================] - 0s 17us/sample - loss: 0.5422 - accuracy: 0.6974 - val_loss: 0.5635 - val_accuracy: 0.6787\n",
            "Epoch 97/500\n",
            "20788/20788 [==============================] - 0s 17us/sample - loss: 0.5531 - accuracy: 0.6779 - val_loss: 0.5672 - val_accuracy: 0.7094\n",
            "Epoch 98/500\n",
            "20788/20788 [==============================] - 0s 19us/sample - loss: 0.5416 - accuracy: 0.6966 - val_loss: 0.5545 - val_accuracy: 0.7102\n",
            "Epoch 99/500\n",
            "20788/20788 [==============================] - 0s 18us/sample - loss: 0.5423 - accuracy: 0.6899 - val_loss: 0.5641 - val_accuracy: 0.7140\n",
            "Epoch 100/500\n",
            "20788/20788 [==============================] - 0s 17us/sample - loss: 0.5433 - accuracy: 0.6959 - val_loss: 0.5560 - val_accuracy: 0.6909\n",
            "Epoch 101/500\n",
            "20788/20788 [==============================] - 0s 19us/sample - loss: 0.5371 - accuracy: 0.6980 - val_loss: 0.5658 - val_accuracy: 0.6679\n",
            "Epoch 102/500\n",
            "20788/20788 [==============================] - 0s 17us/sample - loss: 0.5443 - accuracy: 0.6897 - val_loss: 0.5631 - val_accuracy: 0.6938\n",
            "Epoch 103/500\n",
            "20788/20788 [==============================] - 0s 17us/sample - loss: 0.5406 - accuracy: 0.6995 - val_loss: 0.5785 - val_accuracy: 0.6762\n",
            "Epoch 104/500\n",
            "20788/20788 [==============================] - 0s 18us/sample - loss: 0.5387 - accuracy: 0.6981 - val_loss: 0.5541 - val_accuracy: 0.7053\n",
            "Epoch 105/500\n",
            "20788/20788 [==============================] - 0s 18us/sample - loss: 0.5360 - accuracy: 0.6993 - val_loss: 0.5612 - val_accuracy: 0.6860\n",
            "Epoch 106/500\n",
            "20788/20788 [==============================] - 0s 18us/sample - loss: 0.5412 - accuracy: 0.6958 - val_loss: 0.5640 - val_accuracy: 0.6947\n",
            "Epoch 107/500\n",
            "20788/20788 [==============================] - 0s 19us/sample - loss: 0.5409 - accuracy: 0.6942 - val_loss: 0.6114 - val_accuracy: 0.6540\n",
            "Epoch 108/500\n",
            "20788/20788 [==============================] - 0s 18us/sample - loss: 0.5520 - accuracy: 0.6855 - val_loss: 0.5639 - val_accuracy: 0.6918\n",
            "Epoch 109/500\n",
            "20788/20788 [==============================] - 0s 19us/sample - loss: 0.5405 - accuracy: 0.6936 - val_loss: 0.5834 - val_accuracy: 0.6569\n",
            "Epoch 110/500\n",
            "20788/20788 [==============================] - 0s 18us/sample - loss: 0.5451 - accuracy: 0.6920 - val_loss: 0.5689 - val_accuracy: 0.7171\n",
            "Epoch 111/500\n",
            "20788/20788 [==============================] - 0s 18us/sample - loss: 0.5427 - accuracy: 0.6909 - val_loss: 0.5817 - val_accuracy: 0.7079\n",
            "Epoch 112/500\n",
            "20788/20788 [==============================] - 0s 19us/sample - loss: 0.5475 - accuracy: 0.6931 - val_loss: 0.5495 - val_accuracy: 0.6974\n",
            "Epoch 113/500\n",
            "20788/20788 [==============================] - 0s 18us/sample - loss: 0.5384 - accuracy: 0.6944 - val_loss: 0.5646 - val_accuracy: 0.6656\n",
            "Epoch 114/500\n",
            "20788/20788 [==============================] - 0s 18us/sample - loss: 0.5433 - accuracy: 0.6882 - val_loss: 0.5545 - val_accuracy: 0.7055\n",
            "Epoch 115/500\n",
            "20788/20788 [==============================] - 0s 18us/sample - loss: 0.5401 - accuracy: 0.6964 - val_loss: 0.5577 - val_accuracy: 0.7169\n",
            "Epoch 116/500\n",
            "20788/20788 [==============================] - 0s 17us/sample - loss: 0.5520 - accuracy: 0.6889 - val_loss: 0.5834 - val_accuracy: 0.6972\n",
            "Epoch 117/500\n",
            "20788/20788 [==============================] - 0s 18us/sample - loss: 0.5483 - accuracy: 0.6779 - val_loss: 0.5665 - val_accuracy: 0.6969\n",
            "Epoch 118/500\n",
            "20788/20788 [==============================] - 0s 17us/sample - loss: 0.5399 - accuracy: 0.6973 - val_loss: 0.5731 - val_accuracy: 0.6884\n",
            "Epoch 119/500\n",
            "20788/20788 [==============================] - 0s 18us/sample - loss: 0.5440 - accuracy: 0.6928 - val_loss: 0.5708 - val_accuracy: 0.7125\n",
            "Epoch 120/500\n",
            "20788/20788 [==============================] - 0s 18us/sample - loss: 0.5460 - accuracy: 0.6859 - val_loss: 0.5778 - val_accuracy: 0.6797\n",
            "Epoch 121/500\n",
            "20788/20788 [==============================] - 0s 18us/sample - loss: 0.5408 - accuracy: 0.6928 - val_loss: 0.5593 - val_accuracy: 0.6922\n",
            "Epoch 122/500\n",
            "20788/20788 [==============================] - 0s 18us/sample - loss: 0.5429 - accuracy: 0.6872 - val_loss: 0.5755 - val_accuracy: 0.7053\n",
            "Epoch 123/500\n",
            "20788/20788 [==============================] - 0s 19us/sample - loss: 0.5379 - accuracy: 0.6991 - val_loss: 0.5781 - val_accuracy: 0.6551\n",
            "Epoch 124/500\n",
            "20788/20788 [==============================] - 0s 18us/sample - loss: 0.5370 - accuracy: 0.6963 - val_loss: 0.5852 - val_accuracy: 0.6559\n",
            "Epoch 125/500\n",
            "20788/20788 [==============================] - 0s 18us/sample - loss: 0.5344 - accuracy: 0.6967 - val_loss: 0.5558 - val_accuracy: 0.6847\n",
            "Epoch 126/500\n",
            "20788/20788 [==============================] - 0s 18us/sample - loss: 0.5383 - accuracy: 0.6968 - val_loss: 0.5699 - val_accuracy: 0.6820\n",
            "Epoch 127/500\n",
            "20788/20788 [==============================] - 0s 18us/sample - loss: 0.5376 - accuracy: 0.6977 - val_loss: 0.5501 - val_accuracy: 0.6718\n",
            "Epoch 128/500\n",
            "20788/20788 [==============================] - 0s 18us/sample - loss: 0.5325 - accuracy: 0.6980 - val_loss: 0.5624 - val_accuracy: 0.6891\n",
            "Epoch 129/500\n",
            "20788/20788 [==============================] - 0s 17us/sample - loss: 0.5267 - accuracy: 0.7077 - val_loss: 0.5581 - val_accuracy: 0.7160\n",
            "Epoch 130/500\n",
            "20788/20788 [==============================] - 0s 17us/sample - loss: 0.5366 - accuracy: 0.6995 - val_loss: 0.5539 - val_accuracy: 0.7021\n",
            "Epoch 131/500\n",
            "20788/20788 [==============================] - 0s 18us/sample - loss: 0.5281 - accuracy: 0.7050 - val_loss: 0.5712 - val_accuracy: 0.6810\n",
            "Epoch 132/500\n",
            "20788/20788 [==============================] - 0s 18us/sample - loss: 0.5406 - accuracy: 0.6969 - val_loss: 0.5991 - val_accuracy: 0.6447\n",
            "Epoch 133/500\n",
            "20788/20788 [==============================] - 0s 18us/sample - loss: 0.5343 - accuracy: 0.6927 - val_loss: 0.5657 - val_accuracy: 0.6891\n",
            "Epoch 134/500\n",
            "20788/20788 [==============================] - 0s 18us/sample - loss: 0.5405 - accuracy: 0.6920 - val_loss: 0.5785 - val_accuracy: 0.6955\n",
            "Epoch 135/500\n",
            "20788/20788 [==============================] - 0s 18us/sample - loss: 0.5470 - accuracy: 0.6920 - val_loss: 0.5608 - val_accuracy: 0.6980\n",
            "Epoch 136/500\n",
            "20788/20788 [==============================] - 0s 19us/sample - loss: 0.5431 - accuracy: 0.6988 - val_loss: 0.6106 - val_accuracy: 0.6227\n",
            "Epoch 137/500\n",
            "20788/20788 [==============================] - 0s 18us/sample - loss: 0.5538 - accuracy: 0.6828 - val_loss: 0.5642 - val_accuracy: 0.6799\n",
            "Epoch 138/500\n",
            "20788/20788 [==============================] - 0s 18us/sample - loss: 0.5456 - accuracy: 0.6877 - val_loss: 0.5618 - val_accuracy: 0.7098\n",
            "Epoch 139/500\n",
            "20788/20788 [==============================] - 0s 18us/sample - loss: 0.5358 - accuracy: 0.6991 - val_loss: 0.5442 - val_accuracy: 0.6880\n",
            "Epoch 140/500\n",
            "20788/20788 [==============================] - 0s 18us/sample - loss: 0.5326 - accuracy: 0.6971 - val_loss: 0.5569 - val_accuracy: 0.6853\n",
            "Epoch 141/500\n",
            "20788/20788 [==============================] - 0s 18us/sample - loss: 0.5358 - accuracy: 0.6898 - val_loss: 0.5537 - val_accuracy: 0.7127\n",
            "Epoch 142/500\n",
            "20788/20788 [==============================] - 0s 19us/sample - loss: 0.5408 - accuracy: 0.6947 - val_loss: 0.5608 - val_accuracy: 0.7023\n",
            "Epoch 143/500\n",
            "20788/20788 [==============================] - 0s 18us/sample - loss: 0.5386 - accuracy: 0.6926 - val_loss: 0.5823 - val_accuracy: 0.6640\n",
            "Epoch 144/500\n",
            "20788/20788 [==============================] - 0s 19us/sample - loss: 0.5329 - accuracy: 0.6971 - val_loss: 0.5575 - val_accuracy: 0.7206\n",
            "Epoch 145/500\n",
            "20788/20788 [==============================] - 0s 17us/sample - loss: 0.5266 - accuracy: 0.7031 - val_loss: 0.5574 - val_accuracy: 0.7065\n",
            "Epoch 146/500\n",
            "20788/20788 [==============================] - 0s 17us/sample - loss: 0.5303 - accuracy: 0.6942 - val_loss: 0.5701 - val_accuracy: 0.7133\n",
            "Epoch 147/500\n",
            "20788/20788 [==============================] - 0s 18us/sample - loss: 0.5386 - accuracy: 0.6931 - val_loss: 0.5698 - val_accuracy: 0.6793\n",
            "Epoch 148/500\n",
            "20788/20788 [==============================] - 0s 17us/sample - loss: 0.5418 - accuracy: 0.6989 - val_loss: 0.5973 - val_accuracy: 0.6553\n",
            "Epoch 149/500\n",
            "20788/20788 [==============================] - 0s 18us/sample - loss: 0.5411 - accuracy: 0.6893 - val_loss: 0.5839 - val_accuracy: 0.6741\n",
            "Epoch 150/500\n",
            "20788/20788 [==============================] - 0s 18us/sample - loss: 0.5380 - accuracy: 0.6958 - val_loss: 0.5666 - val_accuracy: 0.6627\n",
            "Epoch 151/500\n",
            "20788/20788 [==============================] - 0s 18us/sample - loss: 0.5415 - accuracy: 0.6948 - val_loss: 0.5861 - val_accuracy: 0.6872\n",
            "Epoch 152/500\n",
            "20788/20788 [==============================] - 0s 19us/sample - loss: 0.5324 - accuracy: 0.6995 - val_loss: 0.5568 - val_accuracy: 0.7123\n",
            "Epoch 153/500\n",
            "20788/20788 [==============================] - 0s 18us/sample - loss: 0.5314 - accuracy: 0.7016 - val_loss: 0.5584 - val_accuracy: 0.6762\n",
            "Epoch 154/500\n",
            "20788/20788 [==============================] - 0s 18us/sample - loss: 0.5305 - accuracy: 0.6960 - val_loss: 0.5714 - val_accuracy: 0.6978\n",
            "Epoch 155/500\n",
            "20788/20788 [==============================] - 0s 19us/sample - loss: 0.5281 - accuracy: 0.7002 - val_loss: 0.5643 - val_accuracy: 0.7148\n",
            "Epoch 156/500\n",
            "20788/20788 [==============================] - 0s 18us/sample - loss: 0.5283 - accuracy: 0.7049 - val_loss: 0.6008 - val_accuracy: 0.6403\n",
            "Epoch 157/500\n",
            "20788/20788 [==============================] - 0s 18us/sample - loss: 0.5465 - accuracy: 0.6837 - val_loss: 0.5679 - val_accuracy: 0.6943\n",
            "Epoch 158/500\n",
            "20788/20788 [==============================] - 0s 18us/sample - loss: 0.5361 - accuracy: 0.6935 - val_loss: 0.5664 - val_accuracy: 0.7133\n",
            "Epoch 159/500\n",
            "20788/20788 [==============================] - 0s 18us/sample - loss: 0.5287 - accuracy: 0.7023 - val_loss: 0.5716 - val_accuracy: 0.7036\n",
            "Epoch 160/500\n",
            "20788/20788 [==============================] - 0s 18us/sample - loss: 0.5280 - accuracy: 0.7005 - val_loss: 0.5718 - val_accuracy: 0.7094\n",
            "Epoch 161/500\n",
            " 5000/20788 [======>.......................] - ETA: 0s - loss: 0.5289 - accuracy: 0.6984"
          ],
          "name": "stdout"
        },
        {
          "output_type": "error",
          "ename": "KeyboardInterrupt",
          "evalue": "ignored",
          "traceback": [
            "\u001b[0;31m---------------------------------------------------------------------------\u001b[0m",
            "\u001b[0;31mKeyboardInterrupt\u001b[0m                         Traceback (most recent call last)",
            "\u001b[0;32m<ipython-input-89-ba48236dadcf>\u001b[0m in \u001b[0;36m<module>\u001b[0;34m()\u001b[0m\n\u001b[1;32m     13\u001b[0m model4.fit(X,Y,\n\u001b[1;32m     14\u001b[0m           \u001b[0mvalidation_data\u001b[0m\u001b[0;34m=\u001b[0m\u001b[0;34m(\u001b[0m\u001b[0mx\u001b[0m\u001b[0;34m,\u001b[0m\u001b[0my\u001b[0m\u001b[0;34m)\u001b[0m\u001b[0;34m,\u001b[0m\u001b[0;34m\u001b[0m\u001b[0;34m\u001b[0m\u001b[0m\n\u001b[0;32m---> 15\u001b[0;31m           epochs=500,batch_size=1000)\n\u001b[0m",
            "\u001b[0;32m/usr/local/lib/python3.6/dist-packages/tensorflow_core/python/keras/engine/training.py\u001b[0m in \u001b[0;36mfit\u001b[0;34m(self, x, y, batch_size, epochs, verbose, callbacks, validation_split, validation_data, shuffle, class_weight, sample_weight, initial_epoch, steps_per_epoch, validation_steps, validation_freq, max_queue_size, workers, use_multiprocessing, **kwargs)\u001b[0m\n\u001b[1;32m    726\u001b[0m         \u001b[0mmax_queue_size\u001b[0m\u001b[0;34m=\u001b[0m\u001b[0mmax_queue_size\u001b[0m\u001b[0;34m,\u001b[0m\u001b[0;34m\u001b[0m\u001b[0;34m\u001b[0m\u001b[0m\n\u001b[1;32m    727\u001b[0m         \u001b[0mworkers\u001b[0m\u001b[0;34m=\u001b[0m\u001b[0mworkers\u001b[0m\u001b[0;34m,\u001b[0m\u001b[0;34m\u001b[0m\u001b[0;34m\u001b[0m\u001b[0m\n\u001b[0;32m--> 728\u001b[0;31m         use_multiprocessing=use_multiprocessing)\n\u001b[0m\u001b[1;32m    729\u001b[0m \u001b[0;34m\u001b[0m\u001b[0m\n\u001b[1;32m    730\u001b[0m   def evaluate(self,\n",
            "\u001b[0;32m/usr/local/lib/python3.6/dist-packages/tensorflow_core/python/keras/engine/training_arrays.py\u001b[0m in \u001b[0;36mfit\u001b[0;34m(self, model, x, y, batch_size, epochs, verbose, callbacks, validation_split, validation_data, shuffle, class_weight, sample_weight, initial_epoch, steps_per_epoch, validation_steps, validation_freq, **kwargs)\u001b[0m\n\u001b[1;32m    672\u001b[0m         \u001b[0mvalidation_steps\u001b[0m\u001b[0;34m=\u001b[0m\u001b[0mvalidation_steps\u001b[0m\u001b[0;34m,\u001b[0m\u001b[0;34m\u001b[0m\u001b[0;34m\u001b[0m\u001b[0m\n\u001b[1;32m    673\u001b[0m         \u001b[0mvalidation_freq\u001b[0m\u001b[0;34m=\u001b[0m\u001b[0mvalidation_freq\u001b[0m\u001b[0;34m,\u001b[0m\u001b[0;34m\u001b[0m\u001b[0;34m\u001b[0m\u001b[0m\n\u001b[0;32m--> 674\u001b[0;31m         steps_name='steps_per_epoch')\n\u001b[0m\u001b[1;32m    675\u001b[0m \u001b[0;34m\u001b[0m\u001b[0m\n\u001b[1;32m    676\u001b[0m   def evaluate(self,\n",
            "\u001b[0;32m/usr/local/lib/python3.6/dist-packages/tensorflow_core/python/keras/engine/training_arrays.py\u001b[0m in \u001b[0;36mmodel_iteration\u001b[0;34m(model, inputs, targets, sample_weights, batch_size, epochs, verbose, callbacks, val_inputs, val_targets, val_sample_weights, shuffle, initial_epoch, steps_per_epoch, validation_steps, validation_freq, mode, validation_in_fit, prepared_feed_values_from_dataset, steps_name, **kwargs)\u001b[0m\n\u001b[1;32m    391\u001b[0m \u001b[0;34m\u001b[0m\u001b[0m\n\u001b[1;32m    392\u001b[0m         \u001b[0;31m# Get outputs.\u001b[0m\u001b[0;34m\u001b[0m\u001b[0;34m\u001b[0m\u001b[0;34m\u001b[0m\u001b[0m\n\u001b[0;32m--> 393\u001b[0;31m         \u001b[0mbatch_outs\u001b[0m \u001b[0;34m=\u001b[0m \u001b[0mf\u001b[0m\u001b[0;34m(\u001b[0m\u001b[0mins_batch\u001b[0m\u001b[0;34m)\u001b[0m\u001b[0;34m\u001b[0m\u001b[0;34m\u001b[0m\u001b[0m\n\u001b[0m\u001b[1;32m    394\u001b[0m         \u001b[0;32mif\u001b[0m \u001b[0;32mnot\u001b[0m \u001b[0misinstance\u001b[0m\u001b[0;34m(\u001b[0m\u001b[0mbatch_outs\u001b[0m\u001b[0;34m,\u001b[0m \u001b[0mlist\u001b[0m\u001b[0;34m)\u001b[0m\u001b[0;34m:\u001b[0m\u001b[0;34m\u001b[0m\u001b[0;34m\u001b[0m\u001b[0m\n\u001b[1;32m    395\u001b[0m           \u001b[0mbatch_outs\u001b[0m \u001b[0;34m=\u001b[0m \u001b[0;34m[\u001b[0m\u001b[0mbatch_outs\u001b[0m\u001b[0;34m]\u001b[0m\u001b[0;34m\u001b[0m\u001b[0;34m\u001b[0m\u001b[0m\n",
            "\u001b[0;32m/usr/local/lib/python3.6/dist-packages/tensorflow_core/python/keras/backend.py\u001b[0m in \u001b[0;36m__call__\u001b[0;34m(self, inputs)\u001b[0m\n\u001b[1;32m   3738\u001b[0m         \u001b[0mvalue\u001b[0m \u001b[0;34m=\u001b[0m \u001b[0mmath_ops\u001b[0m\u001b[0;34m.\u001b[0m\u001b[0mcast\u001b[0m\u001b[0;34m(\u001b[0m\u001b[0mvalue\u001b[0m\u001b[0;34m,\u001b[0m \u001b[0mtensor\u001b[0m\u001b[0;34m.\u001b[0m\u001b[0mdtype\u001b[0m\u001b[0;34m)\u001b[0m\u001b[0;34m\u001b[0m\u001b[0;34m\u001b[0m\u001b[0m\n\u001b[1;32m   3739\u001b[0m       \u001b[0mconverted_inputs\u001b[0m\u001b[0;34m.\u001b[0m\u001b[0mappend\u001b[0m\u001b[0;34m(\u001b[0m\u001b[0mvalue\u001b[0m\u001b[0;34m)\u001b[0m\u001b[0;34m\u001b[0m\u001b[0;34m\u001b[0m\u001b[0m\n\u001b[0;32m-> 3740\u001b[0;31m     \u001b[0moutputs\u001b[0m \u001b[0;34m=\u001b[0m \u001b[0mself\u001b[0m\u001b[0;34m.\u001b[0m\u001b[0m_graph_fn\u001b[0m\u001b[0;34m(\u001b[0m\u001b[0;34m*\u001b[0m\u001b[0mconverted_inputs\u001b[0m\u001b[0;34m)\u001b[0m\u001b[0;34m\u001b[0m\u001b[0;34m\u001b[0m\u001b[0m\n\u001b[0m\u001b[1;32m   3741\u001b[0m \u001b[0;34m\u001b[0m\u001b[0m\n\u001b[1;32m   3742\u001b[0m     \u001b[0;31m# EagerTensor.numpy() will often make a copy to ensure memory safety.\u001b[0m\u001b[0;34m\u001b[0m\u001b[0;34m\u001b[0m\u001b[0;34m\u001b[0m\u001b[0m\n",
            "\u001b[0;32m/usr/local/lib/python3.6/dist-packages/tensorflow_core/python/eager/function.py\u001b[0m in \u001b[0;36m__call__\u001b[0;34m(self, *args, **kwargs)\u001b[0m\n\u001b[1;32m   1079\u001b[0m       \u001b[0mTypeError\u001b[0m\u001b[0;34m:\u001b[0m \u001b[0mFor\u001b[0m \u001b[0minvalid\u001b[0m \u001b[0mpositional\u001b[0m\u001b[0;34m/\u001b[0m\u001b[0mkeyword\u001b[0m \u001b[0margument\u001b[0m \u001b[0mcombinations\u001b[0m\u001b[0;34m.\u001b[0m\u001b[0;34m\u001b[0m\u001b[0;34m\u001b[0m\u001b[0m\n\u001b[1;32m   1080\u001b[0m     \"\"\"\n\u001b[0;32m-> 1081\u001b[0;31m     \u001b[0;32mreturn\u001b[0m \u001b[0mself\u001b[0m\u001b[0;34m.\u001b[0m\u001b[0m_call_impl\u001b[0m\u001b[0;34m(\u001b[0m\u001b[0margs\u001b[0m\u001b[0;34m,\u001b[0m \u001b[0mkwargs\u001b[0m\u001b[0;34m)\u001b[0m\u001b[0;34m\u001b[0m\u001b[0;34m\u001b[0m\u001b[0m\n\u001b[0m\u001b[1;32m   1082\u001b[0m \u001b[0;34m\u001b[0m\u001b[0m\n\u001b[1;32m   1083\u001b[0m   \u001b[0;32mdef\u001b[0m \u001b[0m_call_impl\u001b[0m\u001b[0;34m(\u001b[0m\u001b[0mself\u001b[0m\u001b[0;34m,\u001b[0m \u001b[0margs\u001b[0m\u001b[0;34m,\u001b[0m \u001b[0mkwargs\u001b[0m\u001b[0;34m,\u001b[0m \u001b[0mcancellation_manager\u001b[0m\u001b[0;34m=\u001b[0m\u001b[0;32mNone\u001b[0m\u001b[0;34m)\u001b[0m\u001b[0;34m:\u001b[0m\u001b[0;34m\u001b[0m\u001b[0;34m\u001b[0m\u001b[0m\n",
            "\u001b[0;32m/usr/local/lib/python3.6/dist-packages/tensorflow_core/python/eager/function.py\u001b[0m in \u001b[0;36m_call_impl\u001b[0;34m(self, args, kwargs, cancellation_manager)\u001b[0m\n\u001b[1;32m   1119\u001b[0m       raise TypeError(\"Keyword arguments {} unknown. Expected {}.\".format(\n\u001b[1;32m   1120\u001b[0m           list(kwargs.keys()), list(self._arg_keywords)))\n\u001b[0;32m-> 1121\u001b[0;31m     \u001b[0;32mreturn\u001b[0m \u001b[0mself\u001b[0m\u001b[0;34m.\u001b[0m\u001b[0m_call_flat\u001b[0m\u001b[0;34m(\u001b[0m\u001b[0margs\u001b[0m\u001b[0;34m,\u001b[0m \u001b[0mself\u001b[0m\u001b[0;34m.\u001b[0m\u001b[0mcaptured_inputs\u001b[0m\u001b[0;34m,\u001b[0m \u001b[0mcancellation_manager\u001b[0m\u001b[0;34m)\u001b[0m\u001b[0;34m\u001b[0m\u001b[0;34m\u001b[0m\u001b[0m\n\u001b[0m\u001b[1;32m   1122\u001b[0m \u001b[0;34m\u001b[0m\u001b[0m\n\u001b[1;32m   1123\u001b[0m   \u001b[0;32mdef\u001b[0m \u001b[0m_filtered_call\u001b[0m\u001b[0;34m(\u001b[0m\u001b[0mself\u001b[0m\u001b[0;34m,\u001b[0m \u001b[0margs\u001b[0m\u001b[0;34m,\u001b[0m \u001b[0mkwargs\u001b[0m\u001b[0;34m)\u001b[0m\u001b[0;34m:\u001b[0m\u001b[0;34m\u001b[0m\u001b[0;34m\u001b[0m\u001b[0m\n",
            "\u001b[0;32m/usr/local/lib/python3.6/dist-packages/tensorflow_core/python/eager/function.py\u001b[0m in \u001b[0;36m_call_flat\u001b[0;34m(self, args, captured_inputs, cancellation_manager)\u001b[0m\n\u001b[1;32m   1222\u001b[0m     \u001b[0;32mif\u001b[0m \u001b[0mexecuting_eagerly\u001b[0m\u001b[0;34m:\u001b[0m\u001b[0;34m\u001b[0m\u001b[0;34m\u001b[0m\u001b[0m\n\u001b[1;32m   1223\u001b[0m       flat_outputs = forward_function.call(\n\u001b[0;32m-> 1224\u001b[0;31m           ctx, args, cancellation_manager=cancellation_manager)\n\u001b[0m\u001b[1;32m   1225\u001b[0m     \u001b[0;32melse\u001b[0m\u001b[0;34m:\u001b[0m\u001b[0;34m\u001b[0m\u001b[0;34m\u001b[0m\u001b[0m\n\u001b[1;32m   1226\u001b[0m       \u001b[0mgradient_name\u001b[0m \u001b[0;34m=\u001b[0m \u001b[0mself\u001b[0m\u001b[0;34m.\u001b[0m\u001b[0m_delayed_rewrite_functions\u001b[0m\u001b[0;34m.\u001b[0m\u001b[0mregister\u001b[0m\u001b[0;34m(\u001b[0m\u001b[0;34m)\u001b[0m\u001b[0;34m\u001b[0m\u001b[0;34m\u001b[0m\u001b[0m\n",
            "\u001b[0;32m/usr/local/lib/python3.6/dist-packages/tensorflow_core/python/eager/function.py\u001b[0m in \u001b[0;36mcall\u001b[0;34m(self, ctx, args, cancellation_manager)\u001b[0m\n\u001b[1;32m    509\u001b[0m               \u001b[0minputs\u001b[0m\u001b[0;34m=\u001b[0m\u001b[0margs\u001b[0m\u001b[0;34m,\u001b[0m\u001b[0;34m\u001b[0m\u001b[0;34m\u001b[0m\u001b[0m\n\u001b[1;32m    510\u001b[0m               \u001b[0mattrs\u001b[0m\u001b[0;34m=\u001b[0m\u001b[0;34m(\u001b[0m\u001b[0;34m\"executor_type\"\u001b[0m\u001b[0;34m,\u001b[0m \u001b[0mexecutor_type\u001b[0m\u001b[0;34m,\u001b[0m \u001b[0;34m\"config_proto\"\u001b[0m\u001b[0;34m,\u001b[0m \u001b[0mconfig\u001b[0m\u001b[0;34m)\u001b[0m\u001b[0;34m,\u001b[0m\u001b[0;34m\u001b[0m\u001b[0;34m\u001b[0m\u001b[0m\n\u001b[0;32m--> 511\u001b[0;31m               ctx=ctx)\n\u001b[0m\u001b[1;32m    512\u001b[0m         \u001b[0;32melse\u001b[0m\u001b[0;34m:\u001b[0m\u001b[0;34m\u001b[0m\u001b[0;34m\u001b[0m\u001b[0m\n\u001b[1;32m    513\u001b[0m           outputs = execute.execute_with_cancellation(\n",
            "\u001b[0;32m/usr/local/lib/python3.6/dist-packages/tensorflow_core/python/eager/execute.py\u001b[0m in \u001b[0;36mquick_execute\u001b[0;34m(op_name, num_outputs, inputs, attrs, ctx, name)\u001b[0m\n\u001b[1;32m     59\u001b[0m     tensors = pywrap_tensorflow.TFE_Py_Execute(ctx._handle, device_name,\n\u001b[1;32m     60\u001b[0m                                                \u001b[0mop_name\u001b[0m\u001b[0;34m,\u001b[0m \u001b[0minputs\u001b[0m\u001b[0;34m,\u001b[0m \u001b[0mattrs\u001b[0m\u001b[0;34m,\u001b[0m\u001b[0;34m\u001b[0m\u001b[0;34m\u001b[0m\u001b[0m\n\u001b[0;32m---> 61\u001b[0;31m                                                num_outputs)\n\u001b[0m\u001b[1;32m     62\u001b[0m   \u001b[0;32mexcept\u001b[0m \u001b[0mcore\u001b[0m\u001b[0;34m.\u001b[0m\u001b[0m_NotOkStatusException\u001b[0m \u001b[0;32mas\u001b[0m \u001b[0me\u001b[0m\u001b[0;34m:\u001b[0m\u001b[0;34m\u001b[0m\u001b[0;34m\u001b[0m\u001b[0m\n\u001b[1;32m     63\u001b[0m     \u001b[0;32mif\u001b[0m \u001b[0mname\u001b[0m \u001b[0;32mis\u001b[0m \u001b[0;32mnot\u001b[0m \u001b[0;32mNone\u001b[0m\u001b[0;34m:\u001b[0m\u001b[0;34m\u001b[0m\u001b[0;34m\u001b[0m\u001b[0m\n",
            "\u001b[0;31mKeyboardInterrupt\u001b[0m: "
          ]
        }
      ]
    },
    {
      "cell_type": "code",
      "metadata": {
        "id": "18-QELbf2gAF"
      },
      "source": [],
      "execution_count": null,
      "outputs": []
    }
  ]
}